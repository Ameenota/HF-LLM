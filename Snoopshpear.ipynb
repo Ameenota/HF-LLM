{
  "cells": [
    {
      "cell_type": "markdown",
      "metadata": {
        "id": "view-in-github",
        "colab_type": "text"
      },
      "source": [
        "<a href=\"https://colab.research.google.com/github/Ameenota/HF-LLM/blob/main/Snoopshpear.ipynb\" target=\"_parent\"><img src=\"https://colab.research.google.com/assets/colab-badge.svg\" alt=\"Open In Colab\"/></a>"
      ]
    },
    {
      "cell_type": "markdown",
      "metadata": {
        "id": "CfqZF84uBzup"
      },
      "source": [
        "# The Shakespear & Snoop colab no-one asked for"
      ]
    },
    {
      "cell_type": "markdown",
      "source": [
        "Today we will build a Causal Language Model (CLM), trained on the works of Snoop Dogg & William Shakespear. In theory you can just prompt an LLM to do this, but our expectation is this will hallucinate less and is obviously a *lot* smaller in size. Training a CLM on specific data builds domain expertise on a model. Practical uses of such models can be training it on a specific type of text (e.g. Medical Research) and then use that model to either generate compliant text or use transfer learning to even detect fraudulent papers. For now, we will focus on *next* token prompting."
      ],
      "metadata": {
        "id": "RBag9vhbAGuQ"
      }
    },
    {
      "cell_type": "markdown",
      "metadata": {
        "id": "IL2-J02sBzuq"
      },
      "source": [
        "Lets install some initial libraries to start building this."
      ]
    },
    {
      "cell_type": "code",
      "execution_count": 27,
      "metadata": {
        "id": "O5kCGd7zBzuq"
      },
      "outputs": [],
      "source": [
        "!pip install datasets evaluate transformers[sentencepiece] -q"
      ]
    },
    {
      "cell_type": "markdown",
      "metadata": {
        "id": "y2jl7x_yBzur"
      },
      "source": [
        "To skip the tedious part of collecting our input data, I built a dataset on HuggingFace on the [works of Shakespear and Snoop](https://huggingface.co/datasets/sagsan/snoopshpear). This was simply pulled from online resources, cleaned up a bit using pandas and uploaded to HF. The only trick here is that Shakespear has a *lot* more published text (10x in my data). So, I up-sampled Snoops works. Up-sampling simply mean duplicating it until we get to similar sizes for both our labels and it solves the problem of an im-balanced dataset. Feel free to head over [to HF to play](https://huggingface.co/datasets/sagsan/snoopshpear) around with the data. Lets load up our data."
      ]
    },
    {
      "cell_type": "code",
      "execution_count": 28,
      "metadata": {
        "colab": {
          "base_uri": "https://localhost:8080/"
        },
        "id": "NDj33mTCBzus",
        "outputId": "57ecafd0-80e6-4125-c9e0-fee21ba31376"
      },
      "outputs": [
        {
          "output_type": "execute_result",
          "data": {
            "text/plain": [
              "DatasetDict({\n",
              "    train: Dataset({\n",
              "        features: ['text', 'source'],\n",
              "        num_rows: 125107\n",
              "    })\n",
              "    valid: Dataset({\n",
              "        features: ['text', 'source'],\n",
              "        num_rows: 13901\n",
              "    })\n",
              "})"
            ]
          },
          "metadata": {},
          "execution_count": 28
        }
      ],
      "source": [
        "from datasets import load_dataset, DatasetDict\n",
        "\n",
        "raw_datasets = load_dataset(\"sagsan/snoopshpear\")\n",
        "raw_datasets"
      ]
    },
    {
      "cell_type": "markdown",
      "source": [
        "We can see we have around 221K rows in our train set and 24K in our validation set. We also have 2 columns \"text\" & \"source\". Lets peek at our data"
      ],
      "metadata": {
        "id": "bwKSzNmoE4On"
      }
    },
    {
      "cell_type": "code",
      "execution_count": 29,
      "metadata": {
        "id": "jtRQqBKzBzut",
        "outputId": "b4cc2aec-d14c-4d82-98b8-a40bbac58e22",
        "colab": {
          "base_uri": "https://localhost:8080/"
        }
      },
      "outputs": [
        {
          "output_type": "stream",
          "name": "stdout",
          "text": [
            "Source: shakespear\n",
            "Text: Think you 'twere prejudicial to his crown? No; for he could not so resign his crown\n",
            "\n",
            "Source: shakespear\n",
            "Text: Thy valour and thy heart- thou art a traitor;\n",
            "\n",
            "Source: snoop\n",
            "Text: Get a ketchup, get 'em messed up, turn the heat up let 'em fry\n",
            "\n",
            "Source: shakespear\n",
            "Text: Their kind acceptance weepingly beseeched,\n",
            "\n"
          ]
        }
      ],
      "source": [
        "start_id = 69\n",
        "end_id = 73\n",
        "text, source = raw_datasets[\"train\"][start_id:end_id]['text'], raw_datasets[\"train\"][start_id:end_id]['source']\n",
        "for i in range(end_id - start_id):\n",
        "  print(f\"Source: {source[i]}\\nText: {text[i]}\\n\")"
      ]
    },
    {
      "cell_type": "code",
      "source": [
        "# during development you want to work with smaller datasets\n",
        "raw_datasets[\"train\"] = raw_datasets[\"train\"].select(range(10000)) ## delete this.\n",
        "raw_datasets\n"
      ],
      "metadata": {
        "colab": {
          "base_uri": "https://localhost:8080/"
        },
        "id": "DhfcDdczhT9b",
        "outputId": "d307961c-9b47-42c0-ee92-f15ed218fb72"
      },
      "execution_count": 30,
      "outputs": [
        {
          "output_type": "execute_result",
          "data": {
            "text/plain": [
              "DatasetDict({\n",
              "    train: Dataset({\n",
              "        features: ['text', 'source'],\n",
              "        num_rows: 10000\n",
              "    })\n",
              "    valid: Dataset({\n",
              "        features: ['text', 'source'],\n",
              "        num_rows: 13901\n",
              "    })\n",
              "})"
            ]
          },
          "metadata": {},
          "execution_count": 30
        }
      ]
    },
    {
      "cell_type": "markdown",
      "source": [
        "Cool, each row of our data is either a line by Snoop or Shakespear. To train a CLM we don't really need the source. We will just use all the text fields as inputs to our model."
      ],
      "metadata": {
        "id": "3Zr-IXPYGlfD"
      }
    },
    {
      "cell_type": "code",
      "source": [
        "NEWLINE_TOKEN = \" <|endoftext|> \"\n",
        "\n",
        "def append_newline_token(example):\n",
        "    example[\"text\"] = example[\"text\"].strip() + NEWLINE_TOKEN\n",
        "    return example\n",
        "\n",
        "formatted_datasets = raw_datasets.map(\n",
        "    append_newline_token,\n",
        "    num_proc=4, # Use multiple processes for faster execution\n",
        ")\n",
        "\n",
        "# Example verification of the first row (the output will show the new token at the end)\n",
        "print(f\"First training example after append:\\n'{formatted_datasets['train'][0]['text']}'\")\n",
        "raw_datasets = formatted_datasets"
      ],
      "metadata": {
        "colab": {
          "base_uri": "https://localhost:8080/",
          "height": 85,
          "referenced_widgets": [
            "f22142339d8840da854a30dcc463bf37",
            "ee6d1fbf00b849deadfd1d1198399198",
            "7059924fce454e27bd4957eedeadf111",
            "219a1e0d38204aa38a4dcc98d44e736d",
            "d576d5cf65094f69ad64ab25bd85cfe9",
            "92f469efbecb498aab1ac25de2a1115e",
            "1721757d5d0b4ed89ba6ffd142a4e613",
            "414678cabfc64f5cb38d99db6334251a",
            "cd9ec2c2ff0742eaa6d7f1239032311c",
            "d94d207e439b4b998f8c2541a340b168",
            "d22bf40b7a2f437fbd84d1695fb78b93"
          ]
        },
        "id": "N9vTU_-Sgi49",
        "outputId": "e1c00c6a-936a-49dd-ed6d-f77c9f5e1e8d"
      },
      "execution_count": 31,
      "outputs": [
        {
          "output_type": "display_data",
          "data": {
            "text/plain": [
              "Map (num_proc=4):   0%|          | 0/10000 [00:00<?, ? examples/s]"
            ],
            "application/vnd.jupyter.widget-view+json": {
              "version_major": 2,
              "version_minor": 0,
              "model_id": "f22142339d8840da854a30dcc463bf37"
            }
          },
          "metadata": {}
        },
        {
          "output_type": "stream",
          "name": "stdout",
          "text": [
            "First training example after append:\n",
            "'Cause ain't nuttin but sweat inside my hand <|endoftext|> '\n"
          ]
        }
      ]
    },
    {
      "cell_type": "markdown",
      "source": [
        "Kind of a weird thing I discovered after building this is that because our input data does not have newlines, our model was outputting text without any space between line. To fix this we can add a custom token at the end of every input of our dataset. A bit later we will tell the tokenizer & model about this custom token. This fixes of no spacesbetweensentences."
      ],
      "metadata": {
        "id": "kiDeUMLClpxv"
      }
    },
    {
      "cell_type": "markdown",
      "source": [
        "Ok as with most practical AI projects we will re-use an existing model instead of building one from scratch. DistilGPT2 is a smaller and faster version of GPT2 which makes it ideal for our use case.\n",
        "\n",
        "Our first step is to tokenize the input text. Tokenization as you may have heard in LLMs is what breaks sentences down to smaller pieces and converts them to numbers that our model can understand. There are many ways to tokenize, however we use the AutoTokenize class and pass in DistilGPT2 as the model. This ensures that we tokenize in exactly the same way as how the model was trained.\n"
      ],
      "metadata": {
        "id": "ZVaBgDrXZTQP"
      }
    },
    {
      "cell_type": "code",
      "execution_count": 32,
      "metadata": {
        "id": "rYVs8SQDBzut",
        "outputId": "a9bab07b-5776-4bcb-ce16-35d538645f97",
        "colab": {
          "base_uri": "https://localhost:8080/"
        }
      },
      "outputs": [
        {
          "output_type": "stream",
          "name": "stdout",
          "text": [
            "Input IDs length: 3\n",
            "Input chunk lengths: [13, 11, 15]\n"
          ]
        }
      ],
      "source": [
        "from transformers import AutoTokenizer, AutoModelForCausalLM\n",
        "\n",
        "#MODEL_CHECKPOINT = \"distilgpt2\"\n",
        "MODEL_CHECKPOINT = \"Qwen/Qwen2-0.5B-Instruct\"\n",
        "#MODEL_CHECKPOINT = \"Qwen/Qwen2-1.5B-Instruct\"\n",
        "context_length = 512\n",
        "tokenizer = AutoTokenizer.from_pretrained(MODEL_CHECKPOINT)\n",
        "tokenizer.pad_token = tokenizer.eos_token\n",
        "model = AutoModelForCausalLM.from_pretrained(MODEL_CHECKPOINT)\n",
        "\n",
        "# # Add the token to the tokenizer's vocabulary\n",
        "# tokenizer.add_special_tokens({'additional_special_tokens': [NEWLINE_TOKEN]})\n",
        "\n",
        "# # Resize the model to create a new embedding vector for the new token\n",
        "# model.resize_token_embeddings(len(tokenizer))\n",
        "\n",
        "test_outputs = tokenizer( #Tokenize sample text\n",
        "    raw_datasets[\"train\"][:3][\"text\"], #run a quick check with just 3 inputs\n",
        "    return_length = True\n",
        ")\n",
        "\n",
        "print(f\"Input IDs length: {len(test_outputs['input_ids'])}\")\n",
        "print(f\"Input chunk lengths: {(test_outputs['length'])}\")\n"
      ]
    },
    {
      "cell_type": "markdown",
      "source": [
        "\n",
        "Our sentences can be of different lengths, for computational efficiency our model performs much better if our inputs are the same length.\n",
        "1. First we setup our context_length to 1024. This specifies the number of tokens our model processes at once and matches GPT2s maximum context window.\n",
        "\n",
        "2. Then we specify a pad_token. This token is simply added to short sentences to bring them up to the same size. The model will ignore the pad_token. GPT2 models do not have a pad token so we re-use the end-of-string token for this. The EOS token on GPT2 is \"<|endoftext|>\"\n"
      ],
      "metadata": {
        "id": "VLW2f8ESbWGg"
      }
    },
    {
      "cell_type": "code",
      "source": [
        "test_outputs"
      ],
      "metadata": {
        "colab": {
          "base_uri": "https://localhost:8080/"
        },
        "id": "_sz_39NGG1Em",
        "outputId": "56a8ec9a-8e58-4c01-e158-7e9398635e4d"
      },
      "execution_count": 33,
      "outputs": [
        {
          "output_type": "execute_result",
          "data": {
            "text/plain": [
              "{'input_ids': [[60912, 36102, 944, 9979, 55971, 714, 27466, 4766, 847, 1424, 220, 151643, 220], [64117, 661, 13, 24233, 11, 847, 36931, 13, 220, 151643, 220], [18284, 2363, 13, 1674, 473, 11, 27048, 11, 566, 374, 12796, 0, 220, 151643, 220]], 'attention_mask': [[1, 1, 1, 1, 1, 1, 1, 1, 1, 1, 1, 1, 1], [1, 1, 1, 1, 1, 1, 1, 1, 1, 1, 1], [1, 1, 1, 1, 1, 1, 1, 1, 1, 1, 1, 1, 1, 1, 1]], 'length': [13, 11, 15]}"
            ]
          },
          "metadata": {},
          "execution_count": 33
        }
      ]
    },
    {
      "cell_type": "markdown",
      "source": [
        "Lets talk about the outputs of the tokenizer on our 3 input strings above\n",
        "1. input_ids: This is our main tokenized data and is the numeric representation of our text.\n",
        "2. attention_mask: This mask specifies which tokens to ignore in our input_ids (e.g. padding tokens will be set to 0 in the attention_mask)\n",
        "3. length is just the length of each string."
      ],
      "metadata": {
        "id": "c-FnxhLQcNtH"
      }
    },
    {
      "cell_type": "code",
      "execution_count": 34,
      "metadata": {
        "id": "bN_Ph9bdBzut",
        "outputId": "cfc32c26-c244-4a46-8b32-7af999d75cc9",
        "colab": {
          "base_uri": "https://localhost:8080/",
          "height": 228,
          "referenced_widgets": [
            "da5248cd7d454efd875b6bd509d9af6d",
            "dd14085128684bf0af3734a8d01f1458",
            "ae3964e437a04f139fad83c2b97806c8",
            "856909a1d5b743fb961e5fec2036391d",
            "18bf429d2d554376a1ab41ca67b84b32",
            "82872227b82843abbbfeb88d0fd59b33",
            "29a04a5dae1f4c8ea46b7ae512c87436",
            "1f21d34a71024d8491f8d5b359e805b6",
            "f694aa95ef56470188f4a550d0d90bd8",
            "4b539f0e55e846eeb066baf40d9e1d93",
            "b6ac851899d94944a9554245d98cc06b"
          ]
        }
      },
      "outputs": [
        {
          "output_type": "display_data",
          "data": {
            "text/plain": [
              "Map:   0%|          | 0/10000 [00:00<?, ? examples/s]"
            ],
            "application/vnd.jupyter.widget-view+json": {
              "version_major": 2,
              "version_minor": 0,
              "model_id": "da5248cd7d454efd875b6bd509d9af6d"
            }
          },
          "metadata": {}
        },
        {
          "output_type": "execute_result",
          "data": {
            "text/plain": [
              "DatasetDict({\n",
              "    train: Dataset({\n",
              "        features: ['input_ids', 'attention_mask'],\n",
              "        num_rows: 10000\n",
              "    })\n",
              "    valid: Dataset({\n",
              "        features: ['input_ids', 'attention_mask'],\n",
              "        num_rows: 13901\n",
              "    })\n",
              "})"
            ]
          },
          "metadata": {},
          "execution_count": 34
        }
      ],
      "source": [
        "def tokenize(examples):\n",
        "  return tokenizer(examples[\"text\"])\n",
        "\n",
        "tokenized_datasets = raw_datasets.map(\n",
        "    tokenize, batched=True, remove_columns=raw_datasets[\"train\"].column_names\n",
        ")\n",
        "tokenized_datasets"
      ]
    },
    {
      "cell_type": "markdown",
      "source": [
        "Ok finally the above snippet runs tokenization on the entire dataset. This is exactly the same as what we did above. We do enable batching to speed up the process and we also remove all the input columns as we don't need them any longer."
      ],
      "metadata": {
        "id": "tuy7UP70dc24"
      }
    },
    {
      "cell_type": "markdown",
      "source": [
        "Lets consider what our input_ids look like\n",
        "```\n",
        "'input_ids':  [[5188, 33, 11262, 16868, 13, 4162, 314, 534, 27517, 30],\n",
        "[261, 11, 8011, 319, 13],\n",
        "[33, 16696, 2751, 33363, 13, 3412, 326, 11, 314, 2911, 11, 543, 21289, 2788, 1793, 2029, 11]\n",
        "...]\n",
        "```\n",
        "Each of the lists above represents a sentence. As mentioned above we want to send 1024 tokens at a time to our model. Transformer models like GPT2 use positional embedding. As our model is limited to 1024, sending more tokens will cause it to crash. Using a smaller size is very inefficient as the sequence must be extended to 1024 to make use of GPU parallel processing.\n"
      ],
      "metadata": {
        "id": "FJ9AO5viYeGT"
      }
    },
    {
      "cell_type": "code",
      "source": [
        "def group_texts(examples):\n",
        "    # Concatenate all texts from the batch into a single stream\n",
        "    concatenated_examples = {k: sum(examples[k], []) for k in examples.keys()}\n",
        "    total_length = len(concatenated_examples[list(examples.keys())[0]])\n",
        "\n",
        "    #Drop the last, incomplete batch of tokens (if it exists)\n",
        "    total_length = (total_length // context_length) * context_length\n",
        "\n",
        "    # Split the stream into fixed-size chunks of size 1024\n",
        "    result = {\n",
        "        k: [t[i : i + context_length] for i in range(0, total_length, context_length)]\n",
        "        for k, t in concatenated_examples.items()\n",
        "    }\n",
        "\n",
        "    #Create the labels (for CLM, the input IDs are the targets, shifted internally)\n",
        "    result[\"labels\"] = result[\"input_ids\"].copy()\n",
        "    return result\n",
        "\n",
        "\n",
        "# Apply the grouping function to the tokenized datasets\n",
        "lm_datasets = tokenized_datasets.map(\n",
        "    group_texts,\n",
        "    batched=True,\n",
        "    batch_size=1000, # Grouping benefits from a large batch size\n",
        "    num_proc=4\n",
        ")\n",
        "\n"
      ],
      "metadata": {
        "colab": {
          "base_uri": "https://localhost:8080/",
          "height": 49,
          "referenced_widgets": [
            "d7b9ff6a7219469ba3d156402436f9ae",
            "d06cb2d2b1cf4153b07b51f09251fde9",
            "85dcd4df8f9144ba9af109286e7aab02",
            "9aea8bc7fbec4bacb4412ccd601239f2",
            "ab4bdda2fa2e4f6b8e916047f2930155",
            "82a5740945594cfa8434ab9f1c9aa6e1",
            "4a067ea2731b4fb482396e20c481247f",
            "6876f60cc66347fbb3830e3112cb753a",
            "81416d2f476642798ee6d3577e8e3f05",
            "18b87a745fde40109ec91899f5992383",
            "41bad1985b84488eaa6fd03a52de0be1"
          ]
        },
        "id": "9rcaC_3eHnMg",
        "outputId": "549da4a4-9905-4ceb-bb91-e5b7dd69ca63"
      },
      "execution_count": 35,
      "outputs": [
        {
          "output_type": "display_data",
          "data": {
            "text/plain": [
              "Map (num_proc=4):   0%|          | 0/10000 [00:00<?, ? examples/s]"
            ],
            "application/vnd.jupyter.widget-view+json": {
              "version_major": 2,
              "version_minor": 0,
              "model_id": "d7b9ff6a7219469ba3d156402436f9ae"
            }
          },
          "metadata": {}
        }
      ]
    },
    {
      "cell_type": "markdown",
      "source": [
        "\n",
        "To re-iterate the cell below modies the above inputs to look like:\n",
        "```\n",
        "'input_ids':  [\n",
        "[list of 1024 tokens],\n",
        "[list of 1024 tokens],  \n",
        "[list of 1024 tokens],\n",
        "...]\n",
        "```\n",
        "\n",
        "Another thing we did is add a label (aka target) to our dataset. The cool thing about CLMs is that you don't really need to do anything special to create a target. Remember our task is to predict the next token; so our target or label is simply the input shifted by one. In our HF models, all we do is copy the inputs, the actual shift happens internally."
      ],
      "metadata": {
        "id": "0ANQflQi0hbY"
      }
    },
    {
      "cell_type": "code",
      "source": [
        "len(lm_datasets['train']['input_ids'][1])"
      ],
      "metadata": {
        "colab": {
          "base_uri": "https://localhost:8080/"
        },
        "id": "l6YM3czEHxCY",
        "outputId": "562cede6-9f14-49f5-8454-160fd0076b2a"
      },
      "execution_count": 36,
      "outputs": [
        {
          "output_type": "execute_result",
          "data": {
            "text/plain": [
              "512"
            ]
          },
          "metadata": {},
          "execution_count": 36
        }
      ]
    },
    {
      "cell_type": "markdown",
      "source": [
        "## Training\n",
        "Ok our data prep is done, we are ready to start training the model."
      ],
      "metadata": {
        "id": "HHky5-o--Xud"
      }
    },
    {
      "cell_type": "code",
      "source": [
        "from transformers import TrainingArguments\n",
        "import torch\n",
        "\n",
        "# Define your output directory for logs, and the final model\n",
        "OUTPUT_DIR = \"snoop-shpear-clm-v13\"\n",
        "\n",
        "training_args = TrainingArguments(\n",
        "    output_dir=OUTPUT_DIR,\n",
        "\n",
        "    # Core Training Parameters\n",
        "    per_device_train_batch_size=4,        # how many sequences of 1024 tokens to take at once (more is better if your GPU can handle it)\n",
        "    per_device_eval_batch_size=2,         # Same as train batch size\n",
        "    num_train_epochs=5,                   # How many times do you want to process the dataset, lower values lead to underfitting and higher to over fitting.\n",
        "    learning_rate=5e-5,                   # We are using a pretrained model so our steps should be tiny\n",
        "    weight_decay=0.01,                    # 0.01 is what I found seems to be recommended for finetuning\n",
        "    gradient_accumulation_steps=8,\n",
        "\n",
        "    # Evaluation and Logging\n",
        "    eval_strategy=\"epoch\",                # Evaluation is done at the end of each epoch\n",
        "    logging_steps=50,                     # how often do you want to get updated\n",
        "    save_strategy=\"epoch\",                # Save a checkpoint at the end of each epoch\n",
        "    load_best_model_at_end=True,          # Load the model with the best validation loss\n",
        "\n",
        "    report_to=\"none\",           # by default HF seems to log to wand.ai, I don't want that.\n",
        "\n",
        "    # Resource Management\n",
        "    fp16=True if torch.cuda.is_available() else False,\n",
        "\n",
        ")"
      ],
      "metadata": {
        "id": "gBnfPGtnIjVi"
      },
      "execution_count": 37,
      "outputs": []
    },
    {
      "cell_type": "markdown",
      "source": [
        "TrainingArguments sets up parameter for our model. There are a lot of arguments here but pretty much everything I've used is based on standard recommendations from HF."
      ],
      "metadata": {
        "id": "l_mk1AIL-fYR"
      }
    },
    {
      "cell_type": "code",
      "source": [
        "from transformers import DataCollatorForLanguageModeling\n",
        "\n",
        "data_collator = DataCollatorForLanguageModeling(\n",
        "    tokenizer=tokenizer,\n",
        "    mlm=False # Set to False for Causal Language Modeling (CLM)\n",
        ")"
      ],
      "metadata": {
        "id": "UhWUAONKIrKZ"
      },
      "execution_count": 38,
      "outputs": []
    },
    {
      "cell_type": "markdown",
      "source": [
        "A Data collators in HF is usually the last step before you can train a model. It handles padding any creating any final labels for processing. It will even covert our inputs to pytorch tensors. For CLM, HF recommends using [DataCollatorForLanguageModeling](https://huggingface.co/docs/transformers/v4.57.1/en/main_classes/data_collator#transformers.DataCollatorForLanguageModeling) with mlm=False. The mlm field is True by default and is used for masking tasks."
      ],
      "metadata": {
        "id": "p5n7u3pO9YNa"
      }
    },
    {
      "cell_type": "code",
      "source": [
        "from transformers import Trainer\n",
        "\n",
        "trainer = Trainer(\n",
        "    model=model,\n",
        "    args=training_args,\n",
        "    train_dataset=lm_datasets[\"train\"],\n",
        "    eval_dataset=lm_datasets[\"valid\"],\n",
        "    tokenizer=tokenizer,\n",
        "    data_collator=data_collator,\n",
        ")"
      ],
      "metadata": {
        "colab": {
          "base_uri": "https://localhost:8080/"
        },
        "id": "8etWrNfzIvYE",
        "outputId": "08f24f61-8048-4e4c-da30-f9cfc5cdd060"
      },
      "execution_count": 39,
      "outputs": [
        {
          "output_type": "stream",
          "name": "stderr",
          "text": [
            "/tmp/ipython-input-3375490924.py:3: FutureWarning: `tokenizer` is deprecated and will be removed in version 5.0.0 for `Trainer.__init__`. Use `processing_class` instead.\n",
            "  trainer = Trainer(\n"
          ]
        }
      ]
    },
    {
      "cell_type": "markdown",
      "source": [
        "Alrite, lets setup our Trainer. The Trainer abstracts away a lot of the details like using a GPU if available, setting up Optimizers and automatically updating learning rates. It also managers the Pytorch loop around calculating loss, and updating parameters in each step. The TL;DR is that it greatly simplifies training a model vs doing it by hand in Pytorch."
      ],
      "metadata": {
        "id": "q-6ObvBt_As_"
      }
    },
    {
      "cell_type": "code",
      "source": [
        "train_result = trainer.train()\n",
        "\n",
        "print(\"\\n*** Training Complete! ***\")\n",
        "\n",
        "print(train_result.metrics)\n",
        "\n",
        "# Save the final model and tokenizer to your output directory\n",
        "trainer.save_model()\n",
        "tokenizer.save_pretrained(trainer.args.output_dir)\n",
        "print(f\"Model saved to: {trainer.args.output_dir}\")"
      ],
      "metadata": {
        "colab": {
          "base_uri": "https://localhost:8080/",
          "height": 133
        },
        "id": "wq5D-Oc7I1gE",
        "outputId": "4855f68d-cdda-4482-ad35-8fc5c72d0826"
      },
      "execution_count": null,
      "outputs": [
        {
          "output_type": "stream",
          "name": "stderr",
          "text": [
            "The tokenizer has new PAD/BOS/EOS tokens that differ from the model config and generation config. The model config and generation config were aligned accordingly, being updated with the tokenizer's values. Updated tokens: {'bos_token_id': None, 'pad_token_id': 151645}.\n"
          ]
        },
        {
          "output_type": "display_data",
          "data": {
            "text/plain": [
              "<IPython.core.display.HTML object>"
            ],
            "text/html": [
              "\n",
              "    <div>\n",
              "      \n",
              "      <progress value='10' max='45' style='width:300px; height:20px; vertical-align: middle;'></progress>\n",
              "      [10/45 00:18 < 01:21, 0.43 it/s, Epoch 1/5]\n",
              "    </div>\n",
              "    <table border=\"1\" class=\"dataframe\">\n",
              "  <thead>\n",
              " <tr style=\"text-align: left;\">\n",
              "      <th>Epoch</th>\n",
              "      <th>Training Loss</th>\n",
              "      <th>Validation Loss</th>\n",
              "    </tr>\n",
              "  </thead>\n",
              "  <tbody>\n",
              "  </tbody>\n",
              "</table><p>\n",
              "    <div>\n",
              "      \n",
              "      <progress value='20' max='187' style='width:300px; height:20px; vertical-align: middle;'></progress>\n",
              "      [ 20/187 00:01 < 00:10, 15.67 it/s]\n",
              "    </div>\n",
              "    "
            ]
          },
          "metadata": {}
        }
      ]
    },
    {
      "cell_type": "markdown",
      "source": [
        "## Play with the trained model"
      ],
      "metadata": {
        "id": "D3UCSRgA_lTM"
      }
    },
    {
      "cell_type": "code",
      "source": [
        "from transformers import pipeline, AutoModelForCausalLM, AutoTokenizer\n",
        "\n",
        "# Load our saved\n",
        "tokenizer = AutoTokenizer.from_pretrained(OUTPUT_DIR)\n",
        "model = AutoModelForCausalLM.from_pretrained(OUTPUT_DIR)\n",
        "\n",
        "# Create the text generation pipeline\n",
        "generator = pipeline(\n",
        "    'text-generation',\n",
        "    model=model,\n",
        "    tokenizer=tokenizer\n",
        ")"
      ],
      "metadata": {
        "id": "XhnFGaiSI4Ww"
      },
      "execution_count": null,
      "outputs": []
    },
    {
      "cell_type": "code",
      "source": [
        "\n",
        "def generate_text(prompt, max_len=50):\n",
        "    result = generator(\n",
        "        prompt,\n",
        "        max_length=3000,\n",
        "        num_return_sequences=2,\n",
        "        do_sample=True,         # Use sampling for creative text\n",
        "        top_k=50,               # Filter top 50 likely tokens\n",
        "        temperature=0.3,        # Good balance of coherence and creativity\n",
        "        pad_token_id=tokenizer.eos_token_id, # Prevents warnings\n",
        "        repetition_penalty=1.5\n",
        "    )\n",
        "    # The output is a list of dicts, extract the generated text\n",
        "    return result[0]['generated_text']\n",
        "\n",
        "\n",
        "# Example 1: The Royal G-Funk Decree\n",
        "prompt1 = \"Fo shizzle, my brethren, I decree that \"\n",
        "print(f\"Prompt: {prompt1}\")\n",
        "print(f\"Output: {generate_text(prompt1)}\\n\")\n",
        "\n",
        "# Example 2: The Philosophical Ride\n",
        "prompt2 = \"To be or not to be, that is the question, \"\n",
        "print(f\"Prompt: {prompt2}\")\n",
        "print(f\"Output: {generate_text(prompt2)}\")"
      ],
      "metadata": {
        "id": "XT3DN9NgI79S"
      },
      "execution_count": null,
      "outputs": []
    },
    {
      "cell_type": "markdown",
      "source": [
        "## Publish the model"
      ],
      "metadata": {
        "id": "6VgiElXEop5j"
      }
    },
    {
      "cell_type": "code",
      "source": [
        "# repo_id = \"sagsan/snoopshpear\"\n",
        "\n",
        "# tokenizer = AutoTokenizer.from_pretrained(OUTPUT_DIR)\n",
        "# model = AutoModelForCausalLM.from_pretrained(OUTPUT_DIR)\n",
        "\n",
        "# tokenizer.push_to_hub(repo_id)\n",
        "\n",
        "\n",
        "# model.push_to_hub(\n",
        "#     repo_id,\n",
        "#     commit_message=\"Final SnoopShepear CLM fine-tuned model\"\n",
        "#)\n",
        "\n"
      ],
      "metadata": {
        "id": "aBpno5HnopK5"
      },
      "execution_count": null,
      "outputs": []
    }
  ],
  "metadata": {
    "colab": {
      "provenance": [],
      "machine_shape": "hm",
      "gpuType": "L4",
      "include_colab_link": true
    },
    "language_info": {
      "name": "python"
    },
    "kernelspec": {
      "name": "python3",
      "display_name": "Python 3"
    },
    "widgets": {
      "application/vnd.jupyter.widget-state+json": {
        "f22142339d8840da854a30dcc463bf37": {
          "model_module": "@jupyter-widgets/controls",
          "model_name": "HBoxModel",
          "model_module_version": "1.5.0",
          "state": {
            "_dom_classes": [],
            "_model_module": "@jupyter-widgets/controls",
            "_model_module_version": "1.5.0",
            "_model_name": "HBoxModel",
            "_view_count": null,
            "_view_module": "@jupyter-widgets/controls",
            "_view_module_version": "1.5.0",
            "_view_name": "HBoxView",
            "box_style": "",
            "children": [
              "IPY_MODEL_ee6d1fbf00b849deadfd1d1198399198",
              "IPY_MODEL_7059924fce454e27bd4957eedeadf111",
              "IPY_MODEL_219a1e0d38204aa38a4dcc98d44e736d"
            ],
            "layout": "IPY_MODEL_d576d5cf65094f69ad64ab25bd85cfe9"
          }
        },
        "ee6d1fbf00b849deadfd1d1198399198": {
          "model_module": "@jupyter-widgets/controls",
          "model_name": "HTMLModel",
          "model_module_version": "1.5.0",
          "state": {
            "_dom_classes": [],
            "_model_module": "@jupyter-widgets/controls",
            "_model_module_version": "1.5.0",
            "_model_name": "HTMLModel",
            "_view_count": null,
            "_view_module": "@jupyter-widgets/controls",
            "_view_module_version": "1.5.0",
            "_view_name": "HTMLView",
            "description": "",
            "description_tooltip": null,
            "layout": "IPY_MODEL_92f469efbecb498aab1ac25de2a1115e",
            "placeholder": "​",
            "style": "IPY_MODEL_1721757d5d0b4ed89ba6ffd142a4e613",
            "value": "Map (num_proc=4): 100%"
          }
        },
        "7059924fce454e27bd4957eedeadf111": {
          "model_module": "@jupyter-widgets/controls",
          "model_name": "FloatProgressModel",
          "model_module_version": "1.5.0",
          "state": {
            "_dom_classes": [],
            "_model_module": "@jupyter-widgets/controls",
            "_model_module_version": "1.5.0",
            "_model_name": "FloatProgressModel",
            "_view_count": null,
            "_view_module": "@jupyter-widgets/controls",
            "_view_module_version": "1.5.0",
            "_view_name": "ProgressView",
            "bar_style": "success",
            "description": "",
            "description_tooltip": null,
            "layout": "IPY_MODEL_414678cabfc64f5cb38d99db6334251a",
            "max": 10000,
            "min": 0,
            "orientation": "horizontal",
            "style": "IPY_MODEL_cd9ec2c2ff0742eaa6d7f1239032311c",
            "value": 10000
          }
        },
        "219a1e0d38204aa38a4dcc98d44e736d": {
          "model_module": "@jupyter-widgets/controls",
          "model_name": "HTMLModel",
          "model_module_version": "1.5.0",
          "state": {
            "_dom_classes": [],
            "_model_module": "@jupyter-widgets/controls",
            "_model_module_version": "1.5.0",
            "_model_name": "HTMLModel",
            "_view_count": null,
            "_view_module": "@jupyter-widgets/controls",
            "_view_module_version": "1.5.0",
            "_view_name": "HTMLView",
            "description": "",
            "description_tooltip": null,
            "layout": "IPY_MODEL_d94d207e439b4b998f8c2541a340b168",
            "placeholder": "​",
            "style": "IPY_MODEL_d22bf40b7a2f437fbd84d1695fb78b93",
            "value": " 10000/10000 [00:00&lt;00:00, 32888.14 examples/s]"
          }
        },
        "d576d5cf65094f69ad64ab25bd85cfe9": {
          "model_module": "@jupyter-widgets/base",
          "model_name": "LayoutModel",
          "model_module_version": "1.2.0",
          "state": {
            "_model_module": "@jupyter-widgets/base",
            "_model_module_version": "1.2.0",
            "_model_name": "LayoutModel",
            "_view_count": null,
            "_view_module": "@jupyter-widgets/base",
            "_view_module_version": "1.2.0",
            "_view_name": "LayoutView",
            "align_content": null,
            "align_items": null,
            "align_self": null,
            "border": null,
            "bottom": null,
            "display": null,
            "flex": null,
            "flex_flow": null,
            "grid_area": null,
            "grid_auto_columns": null,
            "grid_auto_flow": null,
            "grid_auto_rows": null,
            "grid_column": null,
            "grid_gap": null,
            "grid_row": null,
            "grid_template_areas": null,
            "grid_template_columns": null,
            "grid_template_rows": null,
            "height": null,
            "justify_content": null,
            "justify_items": null,
            "left": null,
            "margin": null,
            "max_height": null,
            "max_width": null,
            "min_height": null,
            "min_width": null,
            "object_fit": null,
            "object_position": null,
            "order": null,
            "overflow": null,
            "overflow_x": null,
            "overflow_y": null,
            "padding": null,
            "right": null,
            "top": null,
            "visibility": null,
            "width": null
          }
        },
        "92f469efbecb498aab1ac25de2a1115e": {
          "model_module": "@jupyter-widgets/base",
          "model_name": "LayoutModel",
          "model_module_version": "1.2.0",
          "state": {
            "_model_module": "@jupyter-widgets/base",
            "_model_module_version": "1.2.0",
            "_model_name": "LayoutModel",
            "_view_count": null,
            "_view_module": "@jupyter-widgets/base",
            "_view_module_version": "1.2.0",
            "_view_name": "LayoutView",
            "align_content": null,
            "align_items": null,
            "align_self": null,
            "border": null,
            "bottom": null,
            "display": null,
            "flex": null,
            "flex_flow": null,
            "grid_area": null,
            "grid_auto_columns": null,
            "grid_auto_flow": null,
            "grid_auto_rows": null,
            "grid_column": null,
            "grid_gap": null,
            "grid_row": null,
            "grid_template_areas": null,
            "grid_template_columns": null,
            "grid_template_rows": null,
            "height": null,
            "justify_content": null,
            "justify_items": null,
            "left": null,
            "margin": null,
            "max_height": null,
            "max_width": null,
            "min_height": null,
            "min_width": null,
            "object_fit": null,
            "object_position": null,
            "order": null,
            "overflow": null,
            "overflow_x": null,
            "overflow_y": null,
            "padding": null,
            "right": null,
            "top": null,
            "visibility": null,
            "width": null
          }
        },
        "1721757d5d0b4ed89ba6ffd142a4e613": {
          "model_module": "@jupyter-widgets/controls",
          "model_name": "DescriptionStyleModel",
          "model_module_version": "1.5.0",
          "state": {
            "_model_module": "@jupyter-widgets/controls",
            "_model_module_version": "1.5.0",
            "_model_name": "DescriptionStyleModel",
            "_view_count": null,
            "_view_module": "@jupyter-widgets/base",
            "_view_module_version": "1.2.0",
            "_view_name": "StyleView",
            "description_width": ""
          }
        },
        "414678cabfc64f5cb38d99db6334251a": {
          "model_module": "@jupyter-widgets/base",
          "model_name": "LayoutModel",
          "model_module_version": "1.2.0",
          "state": {
            "_model_module": "@jupyter-widgets/base",
            "_model_module_version": "1.2.0",
            "_model_name": "LayoutModel",
            "_view_count": null,
            "_view_module": "@jupyter-widgets/base",
            "_view_module_version": "1.2.0",
            "_view_name": "LayoutView",
            "align_content": null,
            "align_items": null,
            "align_self": null,
            "border": null,
            "bottom": null,
            "display": null,
            "flex": null,
            "flex_flow": null,
            "grid_area": null,
            "grid_auto_columns": null,
            "grid_auto_flow": null,
            "grid_auto_rows": null,
            "grid_column": null,
            "grid_gap": null,
            "grid_row": null,
            "grid_template_areas": null,
            "grid_template_columns": null,
            "grid_template_rows": null,
            "height": null,
            "justify_content": null,
            "justify_items": null,
            "left": null,
            "margin": null,
            "max_height": null,
            "max_width": null,
            "min_height": null,
            "min_width": null,
            "object_fit": null,
            "object_position": null,
            "order": null,
            "overflow": null,
            "overflow_x": null,
            "overflow_y": null,
            "padding": null,
            "right": null,
            "top": null,
            "visibility": null,
            "width": null
          }
        },
        "cd9ec2c2ff0742eaa6d7f1239032311c": {
          "model_module": "@jupyter-widgets/controls",
          "model_name": "ProgressStyleModel",
          "model_module_version": "1.5.0",
          "state": {
            "_model_module": "@jupyter-widgets/controls",
            "_model_module_version": "1.5.0",
            "_model_name": "ProgressStyleModel",
            "_view_count": null,
            "_view_module": "@jupyter-widgets/base",
            "_view_module_version": "1.2.0",
            "_view_name": "StyleView",
            "bar_color": null,
            "description_width": ""
          }
        },
        "d94d207e439b4b998f8c2541a340b168": {
          "model_module": "@jupyter-widgets/base",
          "model_name": "LayoutModel",
          "model_module_version": "1.2.0",
          "state": {
            "_model_module": "@jupyter-widgets/base",
            "_model_module_version": "1.2.0",
            "_model_name": "LayoutModel",
            "_view_count": null,
            "_view_module": "@jupyter-widgets/base",
            "_view_module_version": "1.2.0",
            "_view_name": "LayoutView",
            "align_content": null,
            "align_items": null,
            "align_self": null,
            "border": null,
            "bottom": null,
            "display": null,
            "flex": null,
            "flex_flow": null,
            "grid_area": null,
            "grid_auto_columns": null,
            "grid_auto_flow": null,
            "grid_auto_rows": null,
            "grid_column": null,
            "grid_gap": null,
            "grid_row": null,
            "grid_template_areas": null,
            "grid_template_columns": null,
            "grid_template_rows": null,
            "height": null,
            "justify_content": null,
            "justify_items": null,
            "left": null,
            "margin": null,
            "max_height": null,
            "max_width": null,
            "min_height": null,
            "min_width": null,
            "object_fit": null,
            "object_position": null,
            "order": null,
            "overflow": null,
            "overflow_x": null,
            "overflow_y": null,
            "padding": null,
            "right": null,
            "top": null,
            "visibility": null,
            "width": null
          }
        },
        "d22bf40b7a2f437fbd84d1695fb78b93": {
          "model_module": "@jupyter-widgets/controls",
          "model_name": "DescriptionStyleModel",
          "model_module_version": "1.5.0",
          "state": {
            "_model_module": "@jupyter-widgets/controls",
            "_model_module_version": "1.5.0",
            "_model_name": "DescriptionStyleModel",
            "_view_count": null,
            "_view_module": "@jupyter-widgets/base",
            "_view_module_version": "1.2.0",
            "_view_name": "StyleView",
            "description_width": ""
          }
        },
        "da5248cd7d454efd875b6bd509d9af6d": {
          "model_module": "@jupyter-widgets/controls",
          "model_name": "HBoxModel",
          "model_module_version": "1.5.0",
          "state": {
            "_dom_classes": [],
            "_model_module": "@jupyter-widgets/controls",
            "_model_module_version": "1.5.0",
            "_model_name": "HBoxModel",
            "_view_count": null,
            "_view_module": "@jupyter-widgets/controls",
            "_view_module_version": "1.5.0",
            "_view_name": "HBoxView",
            "box_style": "",
            "children": [
              "IPY_MODEL_dd14085128684bf0af3734a8d01f1458",
              "IPY_MODEL_ae3964e437a04f139fad83c2b97806c8",
              "IPY_MODEL_856909a1d5b743fb961e5fec2036391d"
            ],
            "layout": "IPY_MODEL_18bf429d2d554376a1ab41ca67b84b32"
          }
        },
        "dd14085128684bf0af3734a8d01f1458": {
          "model_module": "@jupyter-widgets/controls",
          "model_name": "HTMLModel",
          "model_module_version": "1.5.0",
          "state": {
            "_dom_classes": [],
            "_model_module": "@jupyter-widgets/controls",
            "_model_module_version": "1.5.0",
            "_model_name": "HTMLModel",
            "_view_count": null,
            "_view_module": "@jupyter-widgets/controls",
            "_view_module_version": "1.5.0",
            "_view_name": "HTMLView",
            "description": "",
            "description_tooltip": null,
            "layout": "IPY_MODEL_82872227b82843abbbfeb88d0fd59b33",
            "placeholder": "​",
            "style": "IPY_MODEL_29a04a5dae1f4c8ea46b7ae512c87436",
            "value": "Map: 100%"
          }
        },
        "ae3964e437a04f139fad83c2b97806c8": {
          "model_module": "@jupyter-widgets/controls",
          "model_name": "FloatProgressModel",
          "model_module_version": "1.5.0",
          "state": {
            "_dom_classes": [],
            "_model_module": "@jupyter-widgets/controls",
            "_model_module_version": "1.5.0",
            "_model_name": "FloatProgressModel",
            "_view_count": null,
            "_view_module": "@jupyter-widgets/controls",
            "_view_module_version": "1.5.0",
            "_view_name": "ProgressView",
            "bar_style": "success",
            "description": "",
            "description_tooltip": null,
            "layout": "IPY_MODEL_1f21d34a71024d8491f8d5b359e805b6",
            "max": 10000,
            "min": 0,
            "orientation": "horizontal",
            "style": "IPY_MODEL_f694aa95ef56470188f4a550d0d90bd8",
            "value": 10000
          }
        },
        "856909a1d5b743fb961e5fec2036391d": {
          "model_module": "@jupyter-widgets/controls",
          "model_name": "HTMLModel",
          "model_module_version": "1.5.0",
          "state": {
            "_dom_classes": [],
            "_model_module": "@jupyter-widgets/controls",
            "_model_module_version": "1.5.0",
            "_model_name": "HTMLModel",
            "_view_count": null,
            "_view_module": "@jupyter-widgets/controls",
            "_view_module_version": "1.5.0",
            "_view_name": "HTMLView",
            "description": "",
            "description_tooltip": null,
            "layout": "IPY_MODEL_4b539f0e55e846eeb066baf40d9e1d93",
            "placeholder": "​",
            "style": "IPY_MODEL_b6ac851899d94944a9554245d98cc06b",
            "value": " 10000/10000 [00:00&lt;00:00, 17342.71 examples/s]"
          }
        },
        "18bf429d2d554376a1ab41ca67b84b32": {
          "model_module": "@jupyter-widgets/base",
          "model_name": "LayoutModel",
          "model_module_version": "1.2.0",
          "state": {
            "_model_module": "@jupyter-widgets/base",
            "_model_module_version": "1.2.0",
            "_model_name": "LayoutModel",
            "_view_count": null,
            "_view_module": "@jupyter-widgets/base",
            "_view_module_version": "1.2.0",
            "_view_name": "LayoutView",
            "align_content": null,
            "align_items": null,
            "align_self": null,
            "border": null,
            "bottom": null,
            "display": null,
            "flex": null,
            "flex_flow": null,
            "grid_area": null,
            "grid_auto_columns": null,
            "grid_auto_flow": null,
            "grid_auto_rows": null,
            "grid_column": null,
            "grid_gap": null,
            "grid_row": null,
            "grid_template_areas": null,
            "grid_template_columns": null,
            "grid_template_rows": null,
            "height": null,
            "justify_content": null,
            "justify_items": null,
            "left": null,
            "margin": null,
            "max_height": null,
            "max_width": null,
            "min_height": null,
            "min_width": null,
            "object_fit": null,
            "object_position": null,
            "order": null,
            "overflow": null,
            "overflow_x": null,
            "overflow_y": null,
            "padding": null,
            "right": null,
            "top": null,
            "visibility": null,
            "width": null
          }
        },
        "82872227b82843abbbfeb88d0fd59b33": {
          "model_module": "@jupyter-widgets/base",
          "model_name": "LayoutModel",
          "model_module_version": "1.2.0",
          "state": {
            "_model_module": "@jupyter-widgets/base",
            "_model_module_version": "1.2.0",
            "_model_name": "LayoutModel",
            "_view_count": null,
            "_view_module": "@jupyter-widgets/base",
            "_view_module_version": "1.2.0",
            "_view_name": "LayoutView",
            "align_content": null,
            "align_items": null,
            "align_self": null,
            "border": null,
            "bottom": null,
            "display": null,
            "flex": null,
            "flex_flow": null,
            "grid_area": null,
            "grid_auto_columns": null,
            "grid_auto_flow": null,
            "grid_auto_rows": null,
            "grid_column": null,
            "grid_gap": null,
            "grid_row": null,
            "grid_template_areas": null,
            "grid_template_columns": null,
            "grid_template_rows": null,
            "height": null,
            "justify_content": null,
            "justify_items": null,
            "left": null,
            "margin": null,
            "max_height": null,
            "max_width": null,
            "min_height": null,
            "min_width": null,
            "object_fit": null,
            "object_position": null,
            "order": null,
            "overflow": null,
            "overflow_x": null,
            "overflow_y": null,
            "padding": null,
            "right": null,
            "top": null,
            "visibility": null,
            "width": null
          }
        },
        "29a04a5dae1f4c8ea46b7ae512c87436": {
          "model_module": "@jupyter-widgets/controls",
          "model_name": "DescriptionStyleModel",
          "model_module_version": "1.5.0",
          "state": {
            "_model_module": "@jupyter-widgets/controls",
            "_model_module_version": "1.5.0",
            "_model_name": "DescriptionStyleModel",
            "_view_count": null,
            "_view_module": "@jupyter-widgets/base",
            "_view_module_version": "1.2.0",
            "_view_name": "StyleView",
            "description_width": ""
          }
        },
        "1f21d34a71024d8491f8d5b359e805b6": {
          "model_module": "@jupyter-widgets/base",
          "model_name": "LayoutModel",
          "model_module_version": "1.2.0",
          "state": {
            "_model_module": "@jupyter-widgets/base",
            "_model_module_version": "1.2.0",
            "_model_name": "LayoutModel",
            "_view_count": null,
            "_view_module": "@jupyter-widgets/base",
            "_view_module_version": "1.2.0",
            "_view_name": "LayoutView",
            "align_content": null,
            "align_items": null,
            "align_self": null,
            "border": null,
            "bottom": null,
            "display": null,
            "flex": null,
            "flex_flow": null,
            "grid_area": null,
            "grid_auto_columns": null,
            "grid_auto_flow": null,
            "grid_auto_rows": null,
            "grid_column": null,
            "grid_gap": null,
            "grid_row": null,
            "grid_template_areas": null,
            "grid_template_columns": null,
            "grid_template_rows": null,
            "height": null,
            "justify_content": null,
            "justify_items": null,
            "left": null,
            "margin": null,
            "max_height": null,
            "max_width": null,
            "min_height": null,
            "min_width": null,
            "object_fit": null,
            "object_position": null,
            "order": null,
            "overflow": null,
            "overflow_x": null,
            "overflow_y": null,
            "padding": null,
            "right": null,
            "top": null,
            "visibility": null,
            "width": null
          }
        },
        "f694aa95ef56470188f4a550d0d90bd8": {
          "model_module": "@jupyter-widgets/controls",
          "model_name": "ProgressStyleModel",
          "model_module_version": "1.5.0",
          "state": {
            "_model_module": "@jupyter-widgets/controls",
            "_model_module_version": "1.5.0",
            "_model_name": "ProgressStyleModel",
            "_view_count": null,
            "_view_module": "@jupyter-widgets/base",
            "_view_module_version": "1.2.0",
            "_view_name": "StyleView",
            "bar_color": null,
            "description_width": ""
          }
        },
        "4b539f0e55e846eeb066baf40d9e1d93": {
          "model_module": "@jupyter-widgets/base",
          "model_name": "LayoutModel",
          "model_module_version": "1.2.0",
          "state": {
            "_model_module": "@jupyter-widgets/base",
            "_model_module_version": "1.2.0",
            "_model_name": "LayoutModel",
            "_view_count": null,
            "_view_module": "@jupyter-widgets/base",
            "_view_module_version": "1.2.0",
            "_view_name": "LayoutView",
            "align_content": null,
            "align_items": null,
            "align_self": null,
            "border": null,
            "bottom": null,
            "display": null,
            "flex": null,
            "flex_flow": null,
            "grid_area": null,
            "grid_auto_columns": null,
            "grid_auto_flow": null,
            "grid_auto_rows": null,
            "grid_column": null,
            "grid_gap": null,
            "grid_row": null,
            "grid_template_areas": null,
            "grid_template_columns": null,
            "grid_template_rows": null,
            "height": null,
            "justify_content": null,
            "justify_items": null,
            "left": null,
            "margin": null,
            "max_height": null,
            "max_width": null,
            "min_height": null,
            "min_width": null,
            "object_fit": null,
            "object_position": null,
            "order": null,
            "overflow": null,
            "overflow_x": null,
            "overflow_y": null,
            "padding": null,
            "right": null,
            "top": null,
            "visibility": null,
            "width": null
          }
        },
        "b6ac851899d94944a9554245d98cc06b": {
          "model_module": "@jupyter-widgets/controls",
          "model_name": "DescriptionStyleModel",
          "model_module_version": "1.5.0",
          "state": {
            "_model_module": "@jupyter-widgets/controls",
            "_model_module_version": "1.5.0",
            "_model_name": "DescriptionStyleModel",
            "_view_count": null,
            "_view_module": "@jupyter-widgets/base",
            "_view_module_version": "1.2.0",
            "_view_name": "StyleView",
            "description_width": ""
          }
        },
        "d7b9ff6a7219469ba3d156402436f9ae": {
          "model_module": "@jupyter-widgets/controls",
          "model_name": "HBoxModel",
          "model_module_version": "1.5.0",
          "state": {
            "_dom_classes": [],
            "_model_module": "@jupyter-widgets/controls",
            "_model_module_version": "1.5.0",
            "_model_name": "HBoxModel",
            "_view_count": null,
            "_view_module": "@jupyter-widgets/controls",
            "_view_module_version": "1.5.0",
            "_view_name": "HBoxView",
            "box_style": "",
            "children": [
              "IPY_MODEL_d06cb2d2b1cf4153b07b51f09251fde9",
              "IPY_MODEL_85dcd4df8f9144ba9af109286e7aab02",
              "IPY_MODEL_9aea8bc7fbec4bacb4412ccd601239f2"
            ],
            "layout": "IPY_MODEL_ab4bdda2fa2e4f6b8e916047f2930155"
          }
        },
        "d06cb2d2b1cf4153b07b51f09251fde9": {
          "model_module": "@jupyter-widgets/controls",
          "model_name": "HTMLModel",
          "model_module_version": "1.5.0",
          "state": {
            "_dom_classes": [],
            "_model_module": "@jupyter-widgets/controls",
            "_model_module_version": "1.5.0",
            "_model_name": "HTMLModel",
            "_view_count": null,
            "_view_module": "@jupyter-widgets/controls",
            "_view_module_version": "1.5.0",
            "_view_name": "HTMLView",
            "description": "",
            "description_tooltip": null,
            "layout": "IPY_MODEL_82a5740945594cfa8434ab9f1c9aa6e1",
            "placeholder": "​",
            "style": "IPY_MODEL_4a067ea2731b4fb482396e20c481247f",
            "value": "Map (num_proc=4): 100%"
          }
        },
        "85dcd4df8f9144ba9af109286e7aab02": {
          "model_module": "@jupyter-widgets/controls",
          "model_name": "FloatProgressModel",
          "model_module_version": "1.5.0",
          "state": {
            "_dom_classes": [],
            "_model_module": "@jupyter-widgets/controls",
            "_model_module_version": "1.5.0",
            "_model_name": "FloatProgressModel",
            "_view_count": null,
            "_view_module": "@jupyter-widgets/controls",
            "_view_module_version": "1.5.0",
            "_view_name": "ProgressView",
            "bar_style": "success",
            "description": "",
            "description_tooltip": null,
            "layout": "IPY_MODEL_6876f60cc66347fbb3830e3112cb753a",
            "max": 10000,
            "min": 0,
            "orientation": "horizontal",
            "style": "IPY_MODEL_81416d2f476642798ee6d3577e8e3f05",
            "value": 10000
          }
        },
        "9aea8bc7fbec4bacb4412ccd601239f2": {
          "model_module": "@jupyter-widgets/controls",
          "model_name": "HTMLModel",
          "model_module_version": "1.5.0",
          "state": {
            "_dom_classes": [],
            "_model_module": "@jupyter-widgets/controls",
            "_model_module_version": "1.5.0",
            "_model_name": "HTMLModel",
            "_view_count": null,
            "_view_module": "@jupyter-widgets/controls",
            "_view_module_version": "1.5.0",
            "_view_name": "HTMLView",
            "description": "",
            "description_tooltip": null,
            "layout": "IPY_MODEL_18b87a745fde40109ec91899f5992383",
            "placeholder": "​",
            "style": "IPY_MODEL_41bad1985b84488eaa6fd03a52de0be1",
            "value": " 10000/10000 [00:00&lt;00:00, 19536.55 examples/s]"
          }
        },
        "ab4bdda2fa2e4f6b8e916047f2930155": {
          "model_module": "@jupyter-widgets/base",
          "model_name": "LayoutModel",
          "model_module_version": "1.2.0",
          "state": {
            "_model_module": "@jupyter-widgets/base",
            "_model_module_version": "1.2.0",
            "_model_name": "LayoutModel",
            "_view_count": null,
            "_view_module": "@jupyter-widgets/base",
            "_view_module_version": "1.2.0",
            "_view_name": "LayoutView",
            "align_content": null,
            "align_items": null,
            "align_self": null,
            "border": null,
            "bottom": null,
            "display": null,
            "flex": null,
            "flex_flow": null,
            "grid_area": null,
            "grid_auto_columns": null,
            "grid_auto_flow": null,
            "grid_auto_rows": null,
            "grid_column": null,
            "grid_gap": null,
            "grid_row": null,
            "grid_template_areas": null,
            "grid_template_columns": null,
            "grid_template_rows": null,
            "height": null,
            "justify_content": null,
            "justify_items": null,
            "left": null,
            "margin": null,
            "max_height": null,
            "max_width": null,
            "min_height": null,
            "min_width": null,
            "object_fit": null,
            "object_position": null,
            "order": null,
            "overflow": null,
            "overflow_x": null,
            "overflow_y": null,
            "padding": null,
            "right": null,
            "top": null,
            "visibility": null,
            "width": null
          }
        },
        "82a5740945594cfa8434ab9f1c9aa6e1": {
          "model_module": "@jupyter-widgets/base",
          "model_name": "LayoutModel",
          "model_module_version": "1.2.0",
          "state": {
            "_model_module": "@jupyter-widgets/base",
            "_model_module_version": "1.2.0",
            "_model_name": "LayoutModel",
            "_view_count": null,
            "_view_module": "@jupyter-widgets/base",
            "_view_module_version": "1.2.0",
            "_view_name": "LayoutView",
            "align_content": null,
            "align_items": null,
            "align_self": null,
            "border": null,
            "bottom": null,
            "display": null,
            "flex": null,
            "flex_flow": null,
            "grid_area": null,
            "grid_auto_columns": null,
            "grid_auto_flow": null,
            "grid_auto_rows": null,
            "grid_column": null,
            "grid_gap": null,
            "grid_row": null,
            "grid_template_areas": null,
            "grid_template_columns": null,
            "grid_template_rows": null,
            "height": null,
            "justify_content": null,
            "justify_items": null,
            "left": null,
            "margin": null,
            "max_height": null,
            "max_width": null,
            "min_height": null,
            "min_width": null,
            "object_fit": null,
            "object_position": null,
            "order": null,
            "overflow": null,
            "overflow_x": null,
            "overflow_y": null,
            "padding": null,
            "right": null,
            "top": null,
            "visibility": null,
            "width": null
          }
        },
        "4a067ea2731b4fb482396e20c481247f": {
          "model_module": "@jupyter-widgets/controls",
          "model_name": "DescriptionStyleModel",
          "model_module_version": "1.5.0",
          "state": {
            "_model_module": "@jupyter-widgets/controls",
            "_model_module_version": "1.5.0",
            "_model_name": "DescriptionStyleModel",
            "_view_count": null,
            "_view_module": "@jupyter-widgets/base",
            "_view_module_version": "1.2.0",
            "_view_name": "StyleView",
            "description_width": ""
          }
        },
        "6876f60cc66347fbb3830e3112cb753a": {
          "model_module": "@jupyter-widgets/base",
          "model_name": "LayoutModel",
          "model_module_version": "1.2.0",
          "state": {
            "_model_module": "@jupyter-widgets/base",
            "_model_module_version": "1.2.0",
            "_model_name": "LayoutModel",
            "_view_count": null,
            "_view_module": "@jupyter-widgets/base",
            "_view_module_version": "1.2.0",
            "_view_name": "LayoutView",
            "align_content": null,
            "align_items": null,
            "align_self": null,
            "border": null,
            "bottom": null,
            "display": null,
            "flex": null,
            "flex_flow": null,
            "grid_area": null,
            "grid_auto_columns": null,
            "grid_auto_flow": null,
            "grid_auto_rows": null,
            "grid_column": null,
            "grid_gap": null,
            "grid_row": null,
            "grid_template_areas": null,
            "grid_template_columns": null,
            "grid_template_rows": null,
            "height": null,
            "justify_content": null,
            "justify_items": null,
            "left": null,
            "margin": null,
            "max_height": null,
            "max_width": null,
            "min_height": null,
            "min_width": null,
            "object_fit": null,
            "object_position": null,
            "order": null,
            "overflow": null,
            "overflow_x": null,
            "overflow_y": null,
            "padding": null,
            "right": null,
            "top": null,
            "visibility": null,
            "width": null
          }
        },
        "81416d2f476642798ee6d3577e8e3f05": {
          "model_module": "@jupyter-widgets/controls",
          "model_name": "ProgressStyleModel",
          "model_module_version": "1.5.0",
          "state": {
            "_model_module": "@jupyter-widgets/controls",
            "_model_module_version": "1.5.0",
            "_model_name": "ProgressStyleModel",
            "_view_count": null,
            "_view_module": "@jupyter-widgets/base",
            "_view_module_version": "1.2.0",
            "_view_name": "StyleView",
            "bar_color": null,
            "description_width": ""
          }
        },
        "18b87a745fde40109ec91899f5992383": {
          "model_module": "@jupyter-widgets/base",
          "model_name": "LayoutModel",
          "model_module_version": "1.2.0",
          "state": {
            "_model_module": "@jupyter-widgets/base",
            "_model_module_version": "1.2.0",
            "_model_name": "LayoutModel",
            "_view_count": null,
            "_view_module": "@jupyter-widgets/base",
            "_view_module_version": "1.2.0",
            "_view_name": "LayoutView",
            "align_content": null,
            "align_items": null,
            "align_self": null,
            "border": null,
            "bottom": null,
            "display": null,
            "flex": null,
            "flex_flow": null,
            "grid_area": null,
            "grid_auto_columns": null,
            "grid_auto_flow": null,
            "grid_auto_rows": null,
            "grid_column": null,
            "grid_gap": null,
            "grid_row": null,
            "grid_template_areas": null,
            "grid_template_columns": null,
            "grid_template_rows": null,
            "height": null,
            "justify_content": null,
            "justify_items": null,
            "left": null,
            "margin": null,
            "max_height": null,
            "max_width": null,
            "min_height": null,
            "min_width": null,
            "object_fit": null,
            "object_position": null,
            "order": null,
            "overflow": null,
            "overflow_x": null,
            "overflow_y": null,
            "padding": null,
            "right": null,
            "top": null,
            "visibility": null,
            "width": null
          }
        },
        "41bad1985b84488eaa6fd03a52de0be1": {
          "model_module": "@jupyter-widgets/controls",
          "model_name": "DescriptionStyleModel",
          "model_module_version": "1.5.0",
          "state": {
            "_model_module": "@jupyter-widgets/controls",
            "_model_module_version": "1.5.0",
            "_model_name": "DescriptionStyleModel",
            "_view_count": null,
            "_view_module": "@jupyter-widgets/base",
            "_view_module_version": "1.2.0",
            "_view_name": "StyleView",
            "description_width": ""
          }
        }
      }
    },
    "accelerator": "GPU"
  },
  "nbformat": 4,
  "nbformat_minor": 0
}