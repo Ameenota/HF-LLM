{
  "cells": [
    {
      "cell_type": "markdown",
      "metadata": {
        "id": "view-in-github",
        "colab_type": "text"
      },
      "source": [
        "<a href=\"https://colab.research.google.com/github/Ameenota/HF-LLM/blob/main/Snoopshpear.ipynb\" target=\"_parent\"><img src=\"https://colab.research.google.com/assets/colab-badge.svg\" alt=\"Open In Colab\"/></a>"
      ]
    },
    {
      "cell_type": "markdown",
      "metadata": {
        "id": "CfqZF84uBzup"
      },
      "source": [
        "# The Shakespear & Snoop colab no-one asked for"
      ]
    },
    {
      "cell_type": "markdown",
      "source": [
        "Today we will build a Causal Language Model (CLM), trained on the works of Snoop Dogg & William Shakespear. In theory you can just prompt an LLM to do this, but our expectation is this will hallucinate less and is obviously a *lot* smaller in size. Training a CLM on specific data builds domain expertise on a model. Practical uses of such models can be training it on a specific type of text (e.g. Medical Research) and then use that model to either generate compliant text or use transfer learning to even detect fraudulent papers. For now, we will focus on *next* token prompting."
      ],
      "metadata": {
        "id": "RBag9vhbAGuQ"
      }
    },
    {
      "cell_type": "markdown",
      "metadata": {
        "id": "IL2-J02sBzuq"
      },
      "source": [
        "Lets install some initial libraries to start building this."
      ]
    },
    {
      "cell_type": "code",
      "execution_count": 38,
      "metadata": {
        "id": "O5kCGd7zBzuq"
      },
      "outputs": [],
      "source": [
        "!pip install datasets evaluate transformers[sentencepiece] -q"
      ]
    },
    {
      "cell_type": "markdown",
      "metadata": {
        "id": "y2jl7x_yBzur"
      },
      "source": [
        "To skip the tedious part of collecting our input data, I built a dataset on HuggingFace on the [works of Shakespear and Snoop](https://huggingface.co/datasets/sagsan/snoopshpear). This was simply pulled from online resources, cleaned up a bit using pandas and uploaded to HF. The only trick here is that Shakespear has a *lot* more published text (10x in my data). So, I up-sampled Snoops works. Up-sampling simply mean duplicating it until we get to similar sizes for both our labels and it solves the problem of an im-balanced dataset. Feel free to head over [to HF to play](https://huggingface.co/datasets/sagsan/snoopshpear) around with the data. Lets load up our data."
      ]
    },
    {
      "cell_type": "code",
      "execution_count": 39,
      "metadata": {
        "colab": {
          "base_uri": "https://localhost:8080/"
        },
        "id": "NDj33mTCBzus",
        "outputId": "f7ed882f-c42b-4ce3-f8d0-9842d0ea726b"
      },
      "outputs": [
        {
          "output_type": "execute_result",
          "data": {
            "text/plain": [
              "DatasetDict({\n",
              "    train: Dataset({\n",
              "        features: ['text', 'source'],\n",
              "        num_rows: 125107\n",
              "    })\n",
              "    valid: Dataset({\n",
              "        features: ['text', 'source'],\n",
              "        num_rows: 13901\n",
              "    })\n",
              "})"
            ]
          },
          "metadata": {},
          "execution_count": 39
        }
      ],
      "source": [
        "from datasets import load_dataset, DatasetDict\n",
        "\n",
        "raw_datasets = load_dataset(\"sagsan/snoopshpear\")\n",
        "raw_datasets"
      ]
    },
    {
      "cell_type": "markdown",
      "source": [
        "We can see we have around 221K rows in our train set and 24K in our validation set. We also have 2 columns \"text\" & \"source\". Lets peek at our data"
      ],
      "metadata": {
        "id": "bwKSzNmoE4On"
      }
    },
    {
      "cell_type": "code",
      "execution_count": 40,
      "metadata": {
        "id": "jtRQqBKzBzut",
        "outputId": "a301a1c2-a54a-4ce2-9fd4-b67240e52de4",
        "colab": {
          "base_uri": "https://localhost:8080/"
        }
      },
      "outputs": [
        {
          "output_type": "stream",
          "name": "stdout",
          "text": [
            "Source: shakespear\n",
            "Text: Think you 'twere prejudicial to his crown? No; for he could not so resign his crown\n",
            "\n",
            "Source: shakespear\n",
            "Text: Thy valour and thy heart- thou art a traitor;\n",
            "\n",
            "Source: snoop\n",
            "Text: Get a ketchup, get 'em messed up, turn the heat up let 'em fry\n",
            "\n",
            "Source: shakespear\n",
            "Text: Their kind acceptance weepingly beseeched,\n",
            "\n"
          ]
        }
      ],
      "source": [
        "start_id = 69\n",
        "end_id = 73\n",
        "text, source = raw_datasets[\"train\"][start_id:end_id]['text'], raw_datasets[\"train\"][start_id:end_id]['source']\n",
        "for i in range(end_id - start_id):\n",
        "  print(f\"Source: {source[i]}\\nText: {text[i]}\\n\")"
      ]
    },
    {
      "cell_type": "code",
      "source": [
        "# during development you want to work with smaller datasets\n",
        "raw_datasets[\"train\"] = raw_datasets[\"train\"].select(range(30000)) ## delete this.\n",
        "raw_datasets\n"
      ],
      "metadata": {
        "colab": {
          "base_uri": "https://localhost:8080/"
        },
        "id": "DhfcDdczhT9b",
        "outputId": "9e33cb18-e83b-438a-95f8-50378cb081e3"
      },
      "execution_count": 41,
      "outputs": [
        {
          "output_type": "execute_result",
          "data": {
            "text/plain": [
              "DatasetDict({\n",
              "    train: Dataset({\n",
              "        features: ['text', 'source'],\n",
              "        num_rows: 30000\n",
              "    })\n",
              "    valid: Dataset({\n",
              "        features: ['text', 'source'],\n",
              "        num_rows: 13901\n",
              "    })\n",
              "})"
            ]
          },
          "metadata": {},
          "execution_count": 41
        }
      ]
    },
    {
      "cell_type": "markdown",
      "source": [
        "Cool, each row of our data is either a line by Snoop or Shakespear. To train a CLM we don't really need the source. We will just use all the text fields as inputs to our model."
      ],
      "metadata": {
        "id": "3Zr-IXPYGlfD"
      }
    },
    {
      "cell_type": "code",
      "source": [
        "NEWLINE_TOKEN = \" <|im_end|> \"\n",
        "\n",
        "def append_newline_token(example):\n",
        "    example[\"text\"] = example[\"text\"].strip() + NEWLINE_TOKEN\n",
        "    return example\n",
        "\n",
        "formatted_datasets = raw_datasets.map(\n",
        "    append_newline_token,\n",
        "    num_proc=4, # Use multiple processes for faster execution\n",
        ")\n",
        "\n",
        "# Example verification of the first row (the output will show the new token at the end)\n",
        "print(f\"First training example after append:\\n'{formatted_datasets['train'][0]['text']}'\")\n",
        "raw_datasets = formatted_datasets"
      ],
      "metadata": {
        "colab": {
          "base_uri": "https://localhost:8080/",
          "height": 117,
          "referenced_widgets": [
            "56b74475fd44404087074ced470cf832",
            "a305923864224db3b0fc2b5968e1e560",
            "9a6c1f9e9c5a40438b780847d6dddd52",
            "aa99f2cb0b2f43be871a551b1278e326",
            "84ec1f0084be4d96a036348927a04e96",
            "5a50427cd3874054820e59998b71410a",
            "f8ce144b95854d70b27957a9c6aaa3be",
            "9a5680143be142e69c7c6de9f4fb1a48",
            "3acea33898bb43738ee78d6055b98e3b",
            "608823ca6f5240cd9241de84218d7468",
            "593c7c97cf3c4056a3b6720101ab99ba",
            "1585c603840b4542861e04e93829b912",
            "7d14543ec93a4360ad6a09b5e98fd817",
            "342efe27d12f4d79b08fb649c7f3c14a",
            "9c0f11e9af7c4419976cb667279343f8",
            "2e3d16deac354c3b9e5f9128333dbc7b",
            "d917643e5d4a4c44a0f244eb8fcf6708",
            "da90dd631dcb47da9d5210556b37b5ca",
            "34001646ceaf48bc8495edab3be402b1",
            "d4f246d23d84495c9d435638357c3dff",
            "677f0172586241cc95e358d58c68bc30",
            "b7ed884cebb34225bd977e820bd1646d"
          ]
        },
        "id": "N9vTU_-Sgi49",
        "outputId": "53aa7a61-a946-4f0a-f971-d9fba3dc8bf2"
      },
      "execution_count": 42,
      "outputs": [
        {
          "output_type": "display_data",
          "data": {
            "text/plain": [
              "Map (num_proc=4):   0%|          | 0/30000 [00:00<?, ? examples/s]"
            ],
            "application/vnd.jupyter.widget-view+json": {
              "version_major": 2,
              "version_minor": 0,
              "model_id": "56b74475fd44404087074ced470cf832"
            }
          },
          "metadata": {}
        },
        {
          "output_type": "display_data",
          "data": {
            "text/plain": [
              "Map (num_proc=4):   0%|          | 0/13901 [00:00<?, ? examples/s]"
            ],
            "application/vnd.jupyter.widget-view+json": {
              "version_major": 2,
              "version_minor": 0,
              "model_id": "1585c603840b4542861e04e93829b912"
            }
          },
          "metadata": {}
        },
        {
          "output_type": "stream",
          "name": "stdout",
          "text": [
            "First training example after append:\n",
            "'Cause ain't nuttin but sweat inside my hand <|im_end|> '\n"
          ]
        }
      ]
    },
    {
      "cell_type": "markdown",
      "source": [
        "Kind of a weird thing I discovered after building this is that because our input data does not have newlines, our model was outputting text without any space between line. To fix this we can add a custom token at the end of every input of our dataset. A bit later we will tell the tokenizer & model about this custom token. This fixes of no spacesbetweensentences."
      ],
      "metadata": {
        "id": "kiDeUMLClpxv"
      }
    },
    {
      "cell_type": "markdown",
      "source": [
        "Ok as with most practical AI projects we will re-use an existing model instead of building one from scratch. DistilGPT2 is a smaller and faster version of GPT2 which makes it ideal for our use case.\n",
        "\n",
        "Our first step is to tokenize the input text. Tokenization as you may have heard in LLMs is what breaks sentences down to smaller pieces and converts them to numbers that our model can understand. There are many ways to tokenize, however we use the AutoTokenize class and pass in DistilGPT2 as the model. This ensures that we tokenize in exactly the same way as how the model was trained.\n"
      ],
      "metadata": {
        "id": "ZVaBgDrXZTQP"
      }
    },
    {
      "cell_type": "code",
      "execution_count": 43,
      "metadata": {
        "id": "rYVs8SQDBzut",
        "outputId": "177745e0-865d-4553-e1ef-d05172ca3eca",
        "colab": {
          "base_uri": "https://localhost:8080/"
        }
      },
      "outputs": [
        {
          "output_type": "stream",
          "name": "stdout",
          "text": [
            "Input IDs length: 3\n",
            "Input chunk lengths: [13, 11, 15]\n"
          ]
        }
      ],
      "source": [
        "from transformers import AutoTokenizer, AutoModelForCausalLM\n",
        "\n",
        "#MODEL_CHECKPOINT = \"distilgpt2\"\n",
        "MODEL_CHECKPOINT = \"Qwen/Qwen2-0.5B-Instruct\"\n",
        "#MODEL_CHECKPOINT = \"Qwen/Qwen2-1.5B-Instruct\"\n",
        "context_length = 512\n",
        "tokenizer = AutoTokenizer.from_pretrained(MODEL_CHECKPOINT)\n",
        "tokenizer.pad_token = tokenizer.eos_token\n",
        "model = AutoModelForCausalLM.from_pretrained(MODEL_CHECKPOINT)\n",
        "\n",
        "# # Add the token to the tokenizer's vocabulary\n",
        "# tokenizer.add_special_tokens({'additional_special_tokens': [NEWLINE_TOKEN]})\n",
        "\n",
        "# # Resize the model to create a new embedding vector for the new token\n",
        "# model.resize_token_embeddings(len(tokenizer))\n",
        "\n",
        "test_outputs = tokenizer( #Tokenize sample text\n",
        "    raw_datasets[\"train\"][:3][\"text\"], #run a quick check with just 3 inputs\n",
        "    return_length = True\n",
        ")\n",
        "\n",
        "print(f\"Input IDs length: {len(test_outputs['input_ids'])}\")\n",
        "print(f\"Input chunk lengths: {(test_outputs['length'])}\")\n"
      ]
    },
    {
      "cell_type": "code",
      "source": [
        "tokenizer.eos_token"
      ],
      "metadata": {
        "colab": {
          "base_uri": "https://localhost:8080/",
          "height": 35
        },
        "id": "ibKemse_qYv6",
        "outputId": "a0d1bb57-b503-49a9-f135-cf9042c197ab"
      },
      "execution_count": 44,
      "outputs": [
        {
          "output_type": "execute_result",
          "data": {
            "text/plain": [
              "'<|im_end|>'"
            ],
            "application/vnd.google.colaboratory.intrinsic+json": {
              "type": "string"
            }
          },
          "metadata": {},
          "execution_count": 44
        }
      ]
    },
    {
      "cell_type": "markdown",
      "source": [
        "\n",
        "Our sentences can be of different lengths, for computational efficiency our model performs much better if our inputs are the same length.\n",
        "1. First we setup our context_length to 1024. This specifies the number of tokens our model processes at once and matches GPT2s maximum context window.\n",
        "\n",
        "2. Then we specify a pad_token. This token is simply added to short sentences to bring them up to the same size. The model will ignore the pad_token. GPT2 models do not have a pad token so we re-use the end-of-string token for this. The EOS token on GPT2 is \"<|endoftext|>\"\n"
      ],
      "metadata": {
        "id": "VLW2f8ESbWGg"
      }
    },
    {
      "cell_type": "code",
      "source": [
        "test_outputs"
      ],
      "metadata": {
        "colab": {
          "base_uri": "https://localhost:8080/"
        },
        "id": "_sz_39NGG1Em",
        "outputId": "f0f4689e-c492-4eb9-98ec-357bc94e6cdb"
      },
      "execution_count": 45,
      "outputs": [
        {
          "output_type": "execute_result",
          "data": {
            "text/plain": [
              "{'input_ids': [[60912, 36102, 944, 9979, 55971, 714, 27466, 4766, 847, 1424, 220, 151645, 220], [64117, 661, 13, 24233, 11, 847, 36931, 13, 220, 151645, 220], [18284, 2363, 13, 1674, 473, 11, 27048, 11, 566, 374, 12796, 0, 220, 151645, 220]], 'attention_mask': [[1, 1, 1, 1, 1, 1, 1, 1, 1, 1, 1, 1, 1], [1, 1, 1, 1, 1, 1, 1, 1, 1, 1, 1], [1, 1, 1, 1, 1, 1, 1, 1, 1, 1, 1, 1, 1, 1, 1]], 'length': [13, 11, 15]}"
            ]
          },
          "metadata": {},
          "execution_count": 45
        }
      ]
    },
    {
      "cell_type": "markdown",
      "source": [
        "Lets talk about the outputs of the tokenizer on our 3 input strings above\n",
        "1. input_ids: This is our main tokenized data and is the numeric representation of our text.\n",
        "2. attention_mask: This mask specifies which tokens to ignore in our input_ids (e.g. padding tokens will be set to 0 in the attention_mask)\n",
        "3. length is just the length of each string."
      ],
      "metadata": {
        "id": "c-FnxhLQcNtH"
      }
    },
    {
      "cell_type": "code",
      "execution_count": 46,
      "metadata": {
        "id": "bN_Ph9bdBzut",
        "outputId": "4e5e3aad-c645-4d87-93e4-4da54d1c7d30",
        "colab": {
          "base_uri": "https://localhost:8080/",
          "height": 260,
          "referenced_widgets": [
            "684ec63580104dadb31a069c92e82020",
            "cdbd3fc3aca648e78a5bc6552429ad1f",
            "e368a095600a46e799621dafea093290",
            "0e6f16455952407bac2f0948a17af298",
            "3cf2332dcea546b6aa82ffeed66d770e",
            "6725567ffd8c4fd1b556ae6d15e363c4",
            "c91460111ff14bd2b316dcd9483b7136",
            "616c40de1aa549138478a8ea9e88e0d0",
            "e7030c32a92e4f42afedd18f0c850296",
            "588f7869fc7b40d291bc16de1a308e1d",
            "acbc4c8880794add8bdda73747c0258d",
            "36d9e5d9ee3b42148d9c0dd25fb96ef3",
            "179679d8d4524c10858a5e48541c6c8e",
            "b68a9ceaee724948a927da8efb3d3903",
            "7db3cbb2c47c44c38939b55dcbd8a930",
            "8d3a0d13b7454a1ba84f98233ab2fb19",
            "65488a97ceeb40469d6d8cd714826403",
            "2b54c1748594499da5f52c8b7b0e4913",
            "ca3513ea36b04030b5a54cb088ac1566",
            "bdd3917a7e2540cfb613a070410f9cb5",
            "a4bc240634214cbd878f7c54fa6d3a30",
            "38a9a31b4bea4eefacbc6c34a883272b"
          ]
        }
      },
      "outputs": [
        {
          "output_type": "display_data",
          "data": {
            "text/plain": [
              "Map:   0%|          | 0/30000 [00:00<?, ? examples/s]"
            ],
            "application/vnd.jupyter.widget-view+json": {
              "version_major": 2,
              "version_minor": 0,
              "model_id": "684ec63580104dadb31a069c92e82020"
            }
          },
          "metadata": {}
        },
        {
          "output_type": "display_data",
          "data": {
            "text/plain": [
              "Map:   0%|          | 0/13901 [00:00<?, ? examples/s]"
            ],
            "application/vnd.jupyter.widget-view+json": {
              "version_major": 2,
              "version_minor": 0,
              "model_id": "36d9e5d9ee3b42148d9c0dd25fb96ef3"
            }
          },
          "metadata": {}
        },
        {
          "output_type": "execute_result",
          "data": {
            "text/plain": [
              "DatasetDict({\n",
              "    train: Dataset({\n",
              "        features: ['input_ids', 'attention_mask'],\n",
              "        num_rows: 30000\n",
              "    })\n",
              "    valid: Dataset({\n",
              "        features: ['input_ids', 'attention_mask'],\n",
              "        num_rows: 13901\n",
              "    })\n",
              "})"
            ]
          },
          "metadata": {},
          "execution_count": 46
        }
      ],
      "source": [
        "def tokenize(examples):\n",
        "  return tokenizer(examples[\"text\"])\n",
        "\n",
        "tokenized_datasets = raw_datasets.map(\n",
        "    tokenize, batched=True, remove_columns=raw_datasets[\"train\"].column_names\n",
        ")\n",
        "tokenized_datasets"
      ]
    },
    {
      "cell_type": "markdown",
      "source": [
        "Ok finally the above snippet runs tokenization on the entire dataset. This is exactly the same as what we did above. We do enable batching to speed up the process and we also remove all the input columns as we don't need them any longer."
      ],
      "metadata": {
        "id": "tuy7UP70dc24"
      }
    },
    {
      "cell_type": "markdown",
      "source": [
        "Lets consider what our input_ids look like\n",
        "```\n",
        "'input_ids':  [[5188, 33, 11262, 16868, 13, 4162, 314, 534, 27517, 30],\n",
        "[261, 11, 8011, 319, 13],\n",
        "[33, 16696, 2751, 33363, 13, 3412, 326, 11, 314, 2911, 11, 543, 21289, 2788, 1793, 2029, 11]\n",
        "...]\n",
        "```\n",
        "Each of the lists above represents a sentence. As mentioned above we want to send 1024 tokens at a time to our model. Transformer models like GPT2 use positional embedding. As our model is limited to 1024, sending more tokens will cause it to crash. Using a smaller size is very inefficient as the sequence must be extended to 1024 to make use of GPU parallel processing.\n"
      ],
      "metadata": {
        "id": "FJ9AO5viYeGT"
      }
    },
    {
      "cell_type": "code",
      "source": [
        "def group_texts(examples):\n",
        "    # Concatenate all texts from the batch into a single stream\n",
        "    concatenated_examples = {k: sum(examples[k], []) for k in examples.keys()}\n",
        "    total_length = len(concatenated_examples[list(examples.keys())[0]])\n",
        "\n",
        "    #Drop the last, incomplete batch of tokens (if it exists)\n",
        "    total_length = (total_length // context_length) * context_length\n",
        "\n",
        "    # Split the stream into fixed-size chunks of size 1024\n",
        "    result = {\n",
        "        k: [t[i : i + context_length] for i in range(0, total_length, context_length)]\n",
        "        for k, t in concatenated_examples.items()\n",
        "    }\n",
        "\n",
        "    #Create the labels (for CLM, the input IDs are the targets, shifted internally)\n",
        "    result[\"labels\"] = result[\"input_ids\"].copy()\n",
        "    return result\n",
        "\n",
        "\n",
        "# Apply the grouping function to the tokenized datasets\n",
        "lm_datasets = tokenized_datasets.map(\n",
        "    group_texts,\n",
        "    batched=True,\n",
        "    batch_size=1000, # Grouping benefits from a large batch size\n",
        "    num_proc=4\n",
        ")\n",
        "\n"
      ],
      "metadata": {
        "colab": {
          "base_uri": "https://localhost:8080/",
          "height": 81,
          "referenced_widgets": [
            "bd45b6bd9a424571933df3b82c9a2381",
            "4d733b662a4c4e739762769dbd52c336",
            "bc7a1d31fcdb4a1197bbc3f30472c20e",
            "66cfe1df33174fd4a7c4f828c6b5e4a2",
            "b82115c5735b4fd298d1af759cacdb41",
            "82f9931ccdcc45d9906645ba04336b3e",
            "ddb7a71d0ed34ec7ac4798a51ea5f8ec",
            "cc8c9310da574de187d642a58bd49000",
            "ae324fa67734450f8cf9ef920c577cd6",
            "27dc0440d9fe4292ad432d0a9940cf77",
            "890ac7bb507b40c78f04084af1d4ef57",
            "87cfc0137a884e2f9a6e48788509d943",
            "bfec59653f204014a90fdf9bee0cabac",
            "4f37517b9ae04c2c8a8b3778231194f0",
            "6065859cb6d84251bd2529b91ab90794",
            "f25a9468a51f416d8af9c0f11f157793",
            "7691b2e59889401bb2006db6b8e22327",
            "6bf76b4e6170493fa7879dc6d54d46e1",
            "aa3f9931fc2c4c9cb170f3367e3e6f16",
            "4823f31f35d24d52b9e4994f1437397d",
            "e3f336aabdcc43448d67cbac9aa0a90c",
            "8985ea70a23541cca77d118d8609c108"
          ]
        },
        "id": "9rcaC_3eHnMg",
        "outputId": "e72a8ecf-b31b-4582-91d8-0c4226270e1e"
      },
      "execution_count": 47,
      "outputs": [
        {
          "output_type": "display_data",
          "data": {
            "text/plain": [
              "Map (num_proc=4):   0%|          | 0/30000 [00:00<?, ? examples/s]"
            ],
            "application/vnd.jupyter.widget-view+json": {
              "version_major": 2,
              "version_minor": 0,
              "model_id": "bd45b6bd9a424571933df3b82c9a2381"
            }
          },
          "metadata": {}
        },
        {
          "output_type": "display_data",
          "data": {
            "text/plain": [
              "Map (num_proc=4):   0%|          | 0/13901 [00:00<?, ? examples/s]"
            ],
            "application/vnd.jupyter.widget-view+json": {
              "version_major": 2,
              "version_minor": 0,
              "model_id": "87cfc0137a884e2f9a6e48788509d943"
            }
          },
          "metadata": {}
        }
      ]
    },
    {
      "cell_type": "markdown",
      "source": [
        "\n",
        "To re-iterate the cell below modies the above inputs to look like:\n",
        "```\n",
        "'input_ids':  [\n",
        "[list of 1024 tokens],\n",
        "[list of 1024 tokens],  \n",
        "[list of 1024 tokens],\n",
        "...]\n",
        "```\n",
        "\n",
        "Another thing we did is add a label (aka target) to our dataset. The cool thing about CLMs is that you don't really need to do anything special to create a target. Remember our task is to predict the next token; so our target or label is simply the input shifted by one. In our HF models, all we do is copy the inputs, the actual shift happens internally."
      ],
      "metadata": {
        "id": "0ANQflQi0hbY"
      }
    },
    {
      "cell_type": "code",
      "source": [
        "len(lm_datasets['train']['input_ids'][1])"
      ],
      "metadata": {
        "colab": {
          "base_uri": "https://localhost:8080/"
        },
        "id": "l6YM3czEHxCY",
        "outputId": "d8b6611e-83c9-4291-cfa8-19b9400182b1"
      },
      "execution_count": 48,
      "outputs": [
        {
          "output_type": "execute_result",
          "data": {
            "text/plain": [
              "512"
            ]
          },
          "metadata": {},
          "execution_count": 48
        }
      ]
    },
    {
      "cell_type": "markdown",
      "source": [
        "## Training\n",
        "Ok our data prep is done, we are ready to start training the model."
      ],
      "metadata": {
        "id": "HHky5-o--Xud"
      }
    },
    {
      "cell_type": "code",
      "source": [
        "from transformers import TrainingArguments\n",
        "import torch\n",
        "\n",
        "# Define your output directory for logs, and the final model\n",
        "OUTPUT_DIR = \"snoop-shpear-clm-v13\"\n",
        "\n",
        "training_args = TrainingArguments(\n",
        "    output_dir=OUTPUT_DIR,\n",
        "\n",
        "    # Core Training Parameters\n",
        "    per_device_train_batch_size=8,        # how many sequences of 1024 tokens to take at once (more is better if your GPU can handle it)\n",
        "    per_device_eval_batch_size=8,         # Same as train batch size\n",
        "    num_train_epochs=3,                   # How many times do you want to process the dataset, lower values lead to underfitting and higher to over fitting.\n",
        "    learning_rate=5e-5,                   # We are using a pretrained model so our steps should be tiny\n",
        "    weight_decay=0.01,                    # 0.01 is what I found seems to be recommended for finetuning\n",
        "    gradient_accumulation_steps=8,\n",
        "\n",
        "    # Evaluation and Logging\n",
        "    eval_strategy=\"epoch\",                # Evaluation is done at the end of each epoch\n",
        "    logging_steps=50,                     # how often do you want to get updated\n",
        "    save_strategy=\"epoch\",                # Save a checkpoint at the end of each epoch\n",
        "    load_best_model_at_end=True,          # Load the model with the best validation loss\n",
        "\n",
        "    report_to=\"none\",           # by default HF seems to log to wand.ai, I don't want that.\n",
        "\n",
        "    # Resource Management\n",
        "    fp16=True if torch.cuda.is_available() else False,\n",
        "\n",
        ")"
      ],
      "metadata": {
        "id": "gBnfPGtnIjVi"
      },
      "execution_count": 49,
      "outputs": []
    },
    {
      "cell_type": "markdown",
      "source": [
        "TrainingArguments sets up parameter for our model. There are a lot of arguments here but pretty much everything I've used is based on standard recommendations from HF."
      ],
      "metadata": {
        "id": "l_mk1AIL-fYR"
      }
    },
    {
      "cell_type": "code",
      "source": [
        "from transformers import DataCollatorForLanguageModeling\n",
        "\n",
        "data_collator = DataCollatorForLanguageModeling(\n",
        "    tokenizer=tokenizer,\n",
        "    mlm=False # Set to False for Causal Language Modeling (CLM)\n",
        ")"
      ],
      "metadata": {
        "id": "UhWUAONKIrKZ"
      },
      "execution_count": 50,
      "outputs": []
    },
    {
      "cell_type": "markdown",
      "source": [
        "A Data collators in HF is usually the last step before you can train a model. It handles padding any creating any final labels for processing. It will even covert our inputs to pytorch tensors. For CLM, HF recommends using [DataCollatorForLanguageModeling](https://huggingface.co/docs/transformers/v4.57.1/en/main_classes/data_collator#transformers.DataCollatorForLanguageModeling) with mlm=False. The mlm field is True by default and is used for masking tasks."
      ],
      "metadata": {
        "id": "p5n7u3pO9YNa"
      }
    },
    {
      "cell_type": "code",
      "source": [
        "from transformers import Trainer\n",
        "\n",
        "trainer = Trainer(\n",
        "    model=model,\n",
        "    args=training_args,\n",
        "    train_dataset=lm_datasets[\"train\"],\n",
        "    eval_dataset=lm_datasets[\"valid\"],\n",
        "    tokenizer=tokenizer,\n",
        "    data_collator=data_collator,\n",
        ")"
      ],
      "metadata": {
        "colab": {
          "base_uri": "https://localhost:8080/"
        },
        "id": "8etWrNfzIvYE",
        "outputId": "b1640d7d-def6-4a76-f88e-65a839a163fa"
      },
      "execution_count": 51,
      "outputs": [
        {
          "output_type": "stream",
          "name": "stderr",
          "text": [
            "/tmp/ipython-input-3375490924.py:3: FutureWarning: `tokenizer` is deprecated and will be removed in version 5.0.0 for `Trainer.__init__`. Use `processing_class` instead.\n",
            "  trainer = Trainer(\n"
          ]
        }
      ]
    },
    {
      "cell_type": "markdown",
      "source": [
        "Alrite, lets setup our Trainer. The Trainer abstracts away a lot of the details like using a GPU if available, setting up Optimizers and automatically updating learning rates. It also managers the Pytorch loop around calculating loss, and updating parameters in each step. The TL;DR is that it greatly simplifies training a model vs doing it by hand in Pytorch."
      ],
      "metadata": {
        "id": "q-6ObvBt_As_"
      }
    },
    {
      "cell_type": "code",
      "source": [
        "train_result = trainer.train()\n",
        "\n",
        "print(\"\\n*** Training Complete! ***\")\n",
        "\n",
        "print(train_result.metrics)\n",
        "\n",
        "# Save the final model and tokenizer to your output directory\n",
        "trainer.save_model()\n",
        "tokenizer.save_pretrained(trainer.args.output_dir)\n",
        "print(f\"Model saved to: {trainer.args.output_dir}\")"
      ],
      "metadata": {
        "colab": {
          "base_uri": "https://localhost:8080/",
          "height": 297
        },
        "id": "wq5D-Oc7I1gE",
        "outputId": "2f0c35fd-6b21-4aa7-f92c-d4b2a10d9034"
      },
      "execution_count": 52,
      "outputs": [
        {
          "output_type": "stream",
          "name": "stderr",
          "text": [
            "The tokenizer has new PAD/BOS/EOS tokens that differ from the model config and generation config. The model config and generation config were aligned accordingly, being updated with the tokenizer's values. Updated tokens: {'bos_token_id': None, 'pad_token_id': 151645}.\n"
          ]
        },
        {
          "output_type": "display_data",
          "data": {
            "text/plain": [
              "<IPython.core.display.HTML object>"
            ],
            "text/html": [
              "\n",
              "    <div>\n",
              "      \n",
              "      <progress value='39' max='39' style='width:300px; height:20px; vertical-align: middle;'></progress>\n",
              "      [39/39 01:29, Epoch 3/3]\n",
              "    </div>\n",
              "    <table border=\"1\" class=\"dataframe\">\n",
              "  <thead>\n",
              " <tr style=\"text-align: left;\">\n",
              "      <th>Epoch</th>\n",
              "      <th>Training Loss</th>\n",
              "      <th>Validation Loss</th>\n",
              "    </tr>\n",
              "  </thead>\n",
              "  <tbody>\n",
              "    <tr>\n",
              "      <td>1</td>\n",
              "      <td>No log</td>\n",
              "      <td>4.000817</td>\n",
              "    </tr>\n",
              "    <tr>\n",
              "      <td>2</td>\n",
              "      <td>No log</td>\n",
              "      <td>3.867839</td>\n",
              "    </tr>\n",
              "    <tr>\n",
              "      <td>3</td>\n",
              "      <td>No log</td>\n",
              "      <td>3.869758</td>\n",
              "    </tr>\n",
              "  </tbody>\n",
              "</table><p>"
            ]
          },
          "metadata": {}
        },
        {
          "output_type": "stream",
          "name": "stderr",
          "text": [
            "There were missing keys in the checkpoint model loaded: ['lm_head.weight'].\n"
          ]
        },
        {
          "output_type": "stream",
          "name": "stdout",
          "text": [
            "\n",
            "*** Training Complete! ***\n",
            "{'train_runtime': 91.3788, 'train_samples_per_second': 26.691, 'train_steps_per_second': 0.427, 'total_flos': 2681590257156096.0, 'train_loss': 3.8443462665264425, 'epoch': 3.0}\n",
            "Model saved to: snoop-shpear-clm-v13\n"
          ]
        }
      ]
    },
    {
      "cell_type": "markdown",
      "source": [
        "## Play with the trained model"
      ],
      "metadata": {
        "id": "D3UCSRgA_lTM"
      }
    },
    {
      "cell_type": "code",
      "source": [
        "from transformers import pipeline, AutoModelForCausalLM, AutoTokenizer\n",
        "\n",
        "# Load our saved\n",
        "tokenizer = AutoTokenizer.from_pretrained(OUTPUT_DIR)\n",
        "model = AutoModelForCausalLM.from_pretrained(OUTPUT_DIR)\n",
        "\n",
        "# Create the text generation pipeline\n",
        "generator = pipeline(\n",
        "    'text-generation',\n",
        "    model=model,\n",
        "    tokenizer=tokenizer\n",
        ")"
      ],
      "metadata": {
        "colab": {
          "base_uri": "https://localhost:8080/"
        },
        "id": "XhnFGaiSI4Ww",
        "outputId": "7b4c1982-f7b0-443c-bf61-da0a22ce5458"
      },
      "execution_count": 53,
      "outputs": [
        {
          "output_type": "stream",
          "name": "stderr",
          "text": [
            "Device set to use cuda:0\n"
          ]
        }
      ]
    },
    {
      "cell_type": "code",
      "source": [
        "\n",
        "def generate_text(prompt, max_len=50):\n",
        "    result = generator(\n",
        "        prompt,\n",
        "        max_length=3000,\n",
        "        num_return_sequences=2,\n",
        "        do_sample=True,         # Use sampling for creative text\n",
        "        top_k=50,               # Filter top 50 likely tokens\n",
        "        temperature=0.9,        # Good balance of coherence and creativity\n",
        "        pad_token_id=tokenizer.eos_token_id, # Prevents warnings\n",
        "        repetition_penalty=1.5\n",
        "    )\n",
        "    # The output is a list of dicts, extract the generated text\n",
        "    print(result)\n",
        "    return result[0]['generated_text']\n",
        "\n",
        "\n",
        "# Example 1: The Royal G-Funk Decree\n",
        "prompt1 = \"Fo shizzle, my brethren, I decree that \"\n",
        "print(f\"Prompt: {prompt1}\")\n",
        "print(f\"Output: {generate_text(prompt1)}\\n\")\n",
        "\n",
        "# Example 2: The Philosophical Ride\n",
        "prompt2 = \"To be or not to be, that is the question, \"\n",
        "print(f\"Prompt: {prompt2}\")\n",
        "print(f\"Output: {generate_text(prompt2)}\")"
      ],
      "metadata": {
        "colab": {
          "base_uri": "https://localhost:8080/"
        },
        "id": "XT3DN9NgI79S",
        "outputId": "c6fbfae4-948d-4c91-8fe7-20ae6258b212"
      },
      "execution_count": 54,
      "outputs": [
        {
          "output_type": "stream",
          "name": "stderr",
          "text": [
            "Truncation was not explicitly activated but `max_length` is provided a specific value, please use `truncation=True` to explicitly truncate examples to max length. Defaulting to 'longest_first' truncation strategy. If you encode pairs of sequences (GLUE-style) with the tokenizer you can select this strategy more precisely by providing a specific strategy to `truncation`.\n",
            "Both `max_new_tokens` (=256) and `max_length`(=3000) seem to have been set. `max_new_tokens` will take precedence. Please refer to the documentation for more information. (https://huggingface.co/docs/transformers/main/en/main_classes/text_generation)\n"
          ]
        },
        {
          "output_type": "stream",
          "name": "stdout",
          "text": [
            "Prompt: Fo shizzle, my brethren, I decree that \n"
          ]
        },
        {
          "output_type": "stream",
          "name": "stderr",
          "text": [
            "Both `max_new_tokens` (=256) and `max_length`(=3000) seem to have been set. `max_new_tokens` will take precedence. Please refer to the documentation for more information. (https://huggingface.co/docs/transformers/main/en/main_classes/text_generation)\n"
          ]
        },
        {
          "output_type": "stream",
          "name": "stdout",
          "text": [
            "[{'generated_text': \"Fo shizzle, my brethren, I decree that 13-2 be no more. There are not many to say in this house but a thousand; and the best of them all will tell it with one mouth: they do me wrong for their folly as much so as if by some accident made him righteous! Come on thee again. Speak now unto us thy husband's father-in-law at home.' 'I am madly beseeched,' he says, or his face is like an eagle peck'd out, which hath been slain therein. By heaven forgive you your pardon-fare-well? Well pray keep ye faith hereon too well; lest when thou art come hither weeping away our lives o'ertop'ts ere any blood could bleed off from these walls nor dust fall down upon those heads-beside, poor King John cannot live long hence, yet let England remain her king till then; she'll give place thus-namely to France once before-tongue-lidness-a** n***a, wip wit em bitches sippin cokes Snoop Dogg.. what does thang?? What else wouldst thou have done hadest thou known whom? Thou hast nothing left than another tongue. That other shall speak mine own language better, though\"}, {'generated_text': \"Fo shizzle, my brethren, I decree that 36 hours of daylight in this day's season. Why? My lord and father; for your brother is not alive to speak with me at home- or if he be here it will come so again. The Earl hath been a traitor ever since the first battle against France. By mine oath which thou didst keep from me before thy death on life! I am as happy now though King Edward were dead: there have always been fair kings who live by men.' It was true then but none can kill them thus easily 'tis well you go away hence. Come hither presently; doth she know what hour her maid shall wake up?' She does know no more than one morning after another-day noughts are told yet, nor knows how they end nightly except once-a-days' sleep may make him awake like an owl out o'clock 109a You'll think better when we're all old fashioned 24/7 85 yds long and about.8 feet thick This piece weighs ten times our weight plus twenty cents per pound What time is it clockin'? Well ain't nobody got nothing left But tell em why yo dick didn’t move s**T hit the spot cause i had too much money cuz w\"}]\n",
            "Output: Fo shizzle, my brethren, I decree that 13-2 be no more. There are not many to say in this house but a thousand; and the best of them all will tell it with one mouth: they do me wrong for their folly as much so as if by some accident made him righteous! Come on thee again. Speak now unto us thy husband's father-in-law at home.' 'I am madly beseeched,' he says, or his face is like an eagle peck'd out, which hath been slain therein. By heaven forgive you your pardon-fare-well? Well pray keep ye faith hereon too well; lest when thou art come hither weeping away our lives o'ertop'ts ere any blood could bleed off from these walls nor dust fall down upon those heads-beside, poor King John cannot live long hence, yet let England remain her king till then; she'll give place thus-namely to France once before-tongue-lidness-a** n***a, wip wit em bitches sippin cokes Snoop Dogg.. what does thang?? What else wouldst thou have done hadest thou known whom? Thou hast nothing left than another tongue. That other shall speak mine own language better, though\n",
            "\n",
            "Prompt: To be or not to be, that is the question, \n",
            "[{'generated_text': 'To be or not to be, that is the question, 1. I am a poor and worthless man; but it shall appear so! It\\'s no matter how you look at me- if your mother ain\\'t seen ya in years, she never saw yo\\' momma... D-O-double-Grip!!!    The game got my s**t all loose with this gangsta b***h niggas are trippin out on her when they see \\'em talk like real Snoop Dogg!!!!   Huh? What did he do now we\\'re back together again??     \"You better go slow\" 8) Why should God give us both of these things without first giving one unto our brother? And what wouldst thou say were any more given than death itself can confer upon life? Doth his father live till him come into heaven? He lives still for ever as long as hath lived himself: thus far from dieing yet does thine honour hang. By hell yes sir yea there will always need an answer.. There\\'ll have been none before by thy Grace, Sir John Goodenough, and since them was Noisepot Bane, Titus Horace &c.\\'s daughter. Now let that fly then please yourself well enough to put some new colour between mine eyes, which I cannot'}, {'generated_text': \"To be or not to be, that is the question,  I am your Lordship. If you have a good head of reason and do well what thou art commanded; then let me answer: 'A little.' A thousand times no less! Othello's face was set with his displeasure at this request- he said it had been too much for him before in love. No more? Yes so long as my life shall last till death make us agreeable again. This night we'll go through Venice together; but first take our leave them. The Duke will meet thee here after-day by midnight; thus thy servant-mates are gone off their work-horses on guard lest they should get sick while thereon-will see them run down ere thence come 1230 when we hear her speak't; how now... What news dostouy teller bring home from court? It may sound like a mystery, Master Mowbray,, But all those questions must die o'er-serv'd wit some other thing which dies oftly rather than grows unto itself.- And yet if none hath thought these thoughts since time began...But sayin' yeah right back up cause ya know i'ma stay til u drop n***as ain’t got room enough just wait cuz yo Gotti can pimp b\"}]\n",
            "Output: To be or not to be, that is the question, 1. I am a poor and worthless man; but it shall appear so! It's no matter how you look at me- if your mother ain't seen ya in years, she never saw yo' momma... D-O-double-Grip!!!    The game got my s**t all loose with this gangsta b***h niggas are trippin out on her when they see 'em talk like real Snoop Dogg!!!!   Huh? What did he do now we're back together again??     \"You better go slow\" 8) Why should God give us both of these things without first giving one unto our brother? And what wouldst thou say were any more given than death itself can confer upon life? Doth his father live till him come into heaven? He lives still for ever as long as hath lived himself: thus far from dieing yet does thine honour hang. By hell yes sir yea there will always need an answer.. There'll have been none before by thy Grace, Sir John Goodenough, and since them was Noisepot Bane, Titus Horace &c.'s daughter. Now let that fly then please yourself well enough to put some new colour between mine eyes, which I cannot\n"
          ]
        }
      ]
    },
    {
      "cell_type": "markdown",
      "source": [
        "## Publish the model"
      ],
      "metadata": {
        "id": "6VgiElXEop5j"
      }
    },
    {
      "cell_type": "code",
      "source": [
        "# repo_id = \"sagsan/snoopshpear\"\n",
        "\n",
        "# tokenizer = AutoTokenizer.from_pretrained(OUTPUT_DIR)\n",
        "# model = AutoModelForCausalLM.from_pretrained(OUTPUT_DIR)\n",
        "\n",
        "# tokenizer.push_to_hub(repo_id)\n",
        "\n",
        "\n",
        "# model.push_to_hub(\n",
        "#     repo_id,\n",
        "#     commit_message=\"Final SnoopShepear CLM fine-tuned model\"\n",
        "#)\n",
        "\n"
      ],
      "metadata": {
        "id": "aBpno5HnopK5"
      },
      "execution_count": 55,
      "outputs": []
    }
  ],
  "metadata": {
    "colab": {
      "provenance": [],
      "machine_shape": "hm",
      "gpuType": "A100",
      "include_colab_link": true
    },
    "language_info": {
      "name": "python"
    },
    "kernelspec": {
      "name": "python3",
      "display_name": "Python 3"
    },
    "widgets": {
      "application/vnd.jupyter.widget-state+json": {
        "56b74475fd44404087074ced470cf832": {
          "model_module": "@jupyter-widgets/controls",
          "model_name": "HBoxModel",
          "model_module_version": "1.5.0",
          "state": {
            "_dom_classes": [],
            "_model_module": "@jupyter-widgets/controls",
            "_model_module_version": "1.5.0",
            "_model_name": "HBoxModel",
            "_view_count": null,
            "_view_module": "@jupyter-widgets/controls",
            "_view_module_version": "1.5.0",
            "_view_name": "HBoxView",
            "box_style": "",
            "children": [
              "IPY_MODEL_a305923864224db3b0fc2b5968e1e560",
              "IPY_MODEL_9a6c1f9e9c5a40438b780847d6dddd52",
              "IPY_MODEL_aa99f2cb0b2f43be871a551b1278e326"
            ],
            "layout": "IPY_MODEL_84ec1f0084be4d96a036348927a04e96"
          }
        },
        "a305923864224db3b0fc2b5968e1e560": {
          "model_module": "@jupyter-widgets/controls",
          "model_name": "HTMLModel",
          "model_module_version": "1.5.0",
          "state": {
            "_dom_classes": [],
            "_model_module": "@jupyter-widgets/controls",
            "_model_module_version": "1.5.0",
            "_model_name": "HTMLModel",
            "_view_count": null,
            "_view_module": "@jupyter-widgets/controls",
            "_view_module_version": "1.5.0",
            "_view_name": "HTMLView",
            "description": "",
            "description_tooltip": null,
            "layout": "IPY_MODEL_5a50427cd3874054820e59998b71410a",
            "placeholder": "​",
            "style": "IPY_MODEL_f8ce144b95854d70b27957a9c6aaa3be",
            "value": "Map (num_proc=4): 100%"
          }
        },
        "9a6c1f9e9c5a40438b780847d6dddd52": {
          "model_module": "@jupyter-widgets/controls",
          "model_name": "FloatProgressModel",
          "model_module_version": "1.5.0",
          "state": {
            "_dom_classes": [],
            "_model_module": "@jupyter-widgets/controls",
            "_model_module_version": "1.5.0",
            "_model_name": "FloatProgressModel",
            "_view_count": null,
            "_view_module": "@jupyter-widgets/controls",
            "_view_module_version": "1.5.0",
            "_view_name": "ProgressView",
            "bar_style": "success",
            "description": "",
            "description_tooltip": null,
            "layout": "IPY_MODEL_9a5680143be142e69c7c6de9f4fb1a48",
            "max": 30000,
            "min": 0,
            "orientation": "horizontal",
            "style": "IPY_MODEL_3acea33898bb43738ee78d6055b98e3b",
            "value": 30000
          }
        },
        "aa99f2cb0b2f43be871a551b1278e326": {
          "model_module": "@jupyter-widgets/controls",
          "model_name": "HTMLModel",
          "model_module_version": "1.5.0",
          "state": {
            "_dom_classes": [],
            "_model_module": "@jupyter-widgets/controls",
            "_model_module_version": "1.5.0",
            "_model_name": "HTMLModel",
            "_view_count": null,
            "_view_module": "@jupyter-widgets/controls",
            "_view_module_version": "1.5.0",
            "_view_name": "HTMLView",
            "description": "",
            "description_tooltip": null,
            "layout": "IPY_MODEL_608823ca6f5240cd9241de84218d7468",
            "placeholder": "​",
            "style": "IPY_MODEL_593c7c97cf3c4056a3b6720101ab99ba",
            "value": " 30000/30000 [00:01&lt;00:00, 50702.61 examples/s]"
          }
        },
        "84ec1f0084be4d96a036348927a04e96": {
          "model_module": "@jupyter-widgets/base",
          "model_name": "LayoutModel",
          "model_module_version": "1.2.0",
          "state": {
            "_model_module": "@jupyter-widgets/base",
            "_model_module_version": "1.2.0",
            "_model_name": "LayoutModel",
            "_view_count": null,
            "_view_module": "@jupyter-widgets/base",
            "_view_module_version": "1.2.0",
            "_view_name": "LayoutView",
            "align_content": null,
            "align_items": null,
            "align_self": null,
            "border": null,
            "bottom": null,
            "display": null,
            "flex": null,
            "flex_flow": null,
            "grid_area": null,
            "grid_auto_columns": null,
            "grid_auto_flow": null,
            "grid_auto_rows": null,
            "grid_column": null,
            "grid_gap": null,
            "grid_row": null,
            "grid_template_areas": null,
            "grid_template_columns": null,
            "grid_template_rows": null,
            "height": null,
            "justify_content": null,
            "justify_items": null,
            "left": null,
            "margin": null,
            "max_height": null,
            "max_width": null,
            "min_height": null,
            "min_width": null,
            "object_fit": null,
            "object_position": null,
            "order": null,
            "overflow": null,
            "overflow_x": null,
            "overflow_y": null,
            "padding": null,
            "right": null,
            "top": null,
            "visibility": null,
            "width": null
          }
        },
        "5a50427cd3874054820e59998b71410a": {
          "model_module": "@jupyter-widgets/base",
          "model_name": "LayoutModel",
          "model_module_version": "1.2.0",
          "state": {
            "_model_module": "@jupyter-widgets/base",
            "_model_module_version": "1.2.0",
            "_model_name": "LayoutModel",
            "_view_count": null,
            "_view_module": "@jupyter-widgets/base",
            "_view_module_version": "1.2.0",
            "_view_name": "LayoutView",
            "align_content": null,
            "align_items": null,
            "align_self": null,
            "border": null,
            "bottom": null,
            "display": null,
            "flex": null,
            "flex_flow": null,
            "grid_area": null,
            "grid_auto_columns": null,
            "grid_auto_flow": null,
            "grid_auto_rows": null,
            "grid_column": null,
            "grid_gap": null,
            "grid_row": null,
            "grid_template_areas": null,
            "grid_template_columns": null,
            "grid_template_rows": null,
            "height": null,
            "justify_content": null,
            "justify_items": null,
            "left": null,
            "margin": null,
            "max_height": null,
            "max_width": null,
            "min_height": null,
            "min_width": null,
            "object_fit": null,
            "object_position": null,
            "order": null,
            "overflow": null,
            "overflow_x": null,
            "overflow_y": null,
            "padding": null,
            "right": null,
            "top": null,
            "visibility": null,
            "width": null
          }
        },
        "f8ce144b95854d70b27957a9c6aaa3be": {
          "model_module": "@jupyter-widgets/controls",
          "model_name": "DescriptionStyleModel",
          "model_module_version": "1.5.0",
          "state": {
            "_model_module": "@jupyter-widgets/controls",
            "_model_module_version": "1.5.0",
            "_model_name": "DescriptionStyleModel",
            "_view_count": null,
            "_view_module": "@jupyter-widgets/base",
            "_view_module_version": "1.2.0",
            "_view_name": "StyleView",
            "description_width": ""
          }
        },
        "9a5680143be142e69c7c6de9f4fb1a48": {
          "model_module": "@jupyter-widgets/base",
          "model_name": "LayoutModel",
          "model_module_version": "1.2.0",
          "state": {
            "_model_module": "@jupyter-widgets/base",
            "_model_module_version": "1.2.0",
            "_model_name": "LayoutModel",
            "_view_count": null,
            "_view_module": "@jupyter-widgets/base",
            "_view_module_version": "1.2.0",
            "_view_name": "LayoutView",
            "align_content": null,
            "align_items": null,
            "align_self": null,
            "border": null,
            "bottom": null,
            "display": null,
            "flex": null,
            "flex_flow": null,
            "grid_area": null,
            "grid_auto_columns": null,
            "grid_auto_flow": null,
            "grid_auto_rows": null,
            "grid_column": null,
            "grid_gap": null,
            "grid_row": null,
            "grid_template_areas": null,
            "grid_template_columns": null,
            "grid_template_rows": null,
            "height": null,
            "justify_content": null,
            "justify_items": null,
            "left": null,
            "margin": null,
            "max_height": null,
            "max_width": null,
            "min_height": null,
            "min_width": null,
            "object_fit": null,
            "object_position": null,
            "order": null,
            "overflow": null,
            "overflow_x": null,
            "overflow_y": null,
            "padding": null,
            "right": null,
            "top": null,
            "visibility": null,
            "width": null
          }
        },
        "3acea33898bb43738ee78d6055b98e3b": {
          "model_module": "@jupyter-widgets/controls",
          "model_name": "ProgressStyleModel",
          "model_module_version": "1.5.0",
          "state": {
            "_model_module": "@jupyter-widgets/controls",
            "_model_module_version": "1.5.0",
            "_model_name": "ProgressStyleModel",
            "_view_count": null,
            "_view_module": "@jupyter-widgets/base",
            "_view_module_version": "1.2.0",
            "_view_name": "StyleView",
            "bar_color": null,
            "description_width": ""
          }
        },
        "608823ca6f5240cd9241de84218d7468": {
          "model_module": "@jupyter-widgets/base",
          "model_name": "LayoutModel",
          "model_module_version": "1.2.0",
          "state": {
            "_model_module": "@jupyter-widgets/base",
            "_model_module_version": "1.2.0",
            "_model_name": "LayoutModel",
            "_view_count": null,
            "_view_module": "@jupyter-widgets/base",
            "_view_module_version": "1.2.0",
            "_view_name": "LayoutView",
            "align_content": null,
            "align_items": null,
            "align_self": null,
            "border": null,
            "bottom": null,
            "display": null,
            "flex": null,
            "flex_flow": null,
            "grid_area": null,
            "grid_auto_columns": null,
            "grid_auto_flow": null,
            "grid_auto_rows": null,
            "grid_column": null,
            "grid_gap": null,
            "grid_row": null,
            "grid_template_areas": null,
            "grid_template_columns": null,
            "grid_template_rows": null,
            "height": null,
            "justify_content": null,
            "justify_items": null,
            "left": null,
            "margin": null,
            "max_height": null,
            "max_width": null,
            "min_height": null,
            "min_width": null,
            "object_fit": null,
            "object_position": null,
            "order": null,
            "overflow": null,
            "overflow_x": null,
            "overflow_y": null,
            "padding": null,
            "right": null,
            "top": null,
            "visibility": null,
            "width": null
          }
        },
        "593c7c97cf3c4056a3b6720101ab99ba": {
          "model_module": "@jupyter-widgets/controls",
          "model_name": "DescriptionStyleModel",
          "model_module_version": "1.5.0",
          "state": {
            "_model_module": "@jupyter-widgets/controls",
            "_model_module_version": "1.5.0",
            "_model_name": "DescriptionStyleModel",
            "_view_count": null,
            "_view_module": "@jupyter-widgets/base",
            "_view_module_version": "1.2.0",
            "_view_name": "StyleView",
            "description_width": ""
          }
        },
        "1585c603840b4542861e04e93829b912": {
          "model_module": "@jupyter-widgets/controls",
          "model_name": "HBoxModel",
          "model_module_version": "1.5.0",
          "state": {
            "_dom_classes": [],
            "_model_module": "@jupyter-widgets/controls",
            "_model_module_version": "1.5.0",
            "_model_name": "HBoxModel",
            "_view_count": null,
            "_view_module": "@jupyter-widgets/controls",
            "_view_module_version": "1.5.0",
            "_view_name": "HBoxView",
            "box_style": "",
            "children": [
              "IPY_MODEL_7d14543ec93a4360ad6a09b5e98fd817",
              "IPY_MODEL_342efe27d12f4d79b08fb649c7f3c14a",
              "IPY_MODEL_9c0f11e9af7c4419976cb667279343f8"
            ],
            "layout": "IPY_MODEL_2e3d16deac354c3b9e5f9128333dbc7b"
          }
        },
        "7d14543ec93a4360ad6a09b5e98fd817": {
          "model_module": "@jupyter-widgets/controls",
          "model_name": "HTMLModel",
          "model_module_version": "1.5.0",
          "state": {
            "_dom_classes": [],
            "_model_module": "@jupyter-widgets/controls",
            "_model_module_version": "1.5.0",
            "_model_name": "HTMLModel",
            "_view_count": null,
            "_view_module": "@jupyter-widgets/controls",
            "_view_module_version": "1.5.0",
            "_view_name": "HTMLView",
            "description": "",
            "description_tooltip": null,
            "layout": "IPY_MODEL_d917643e5d4a4c44a0f244eb8fcf6708",
            "placeholder": "​",
            "style": "IPY_MODEL_da90dd631dcb47da9d5210556b37b5ca",
            "value": "Map (num_proc=4): 100%"
          }
        },
        "342efe27d12f4d79b08fb649c7f3c14a": {
          "model_module": "@jupyter-widgets/controls",
          "model_name": "FloatProgressModel",
          "model_module_version": "1.5.0",
          "state": {
            "_dom_classes": [],
            "_model_module": "@jupyter-widgets/controls",
            "_model_module_version": "1.5.0",
            "_model_name": "FloatProgressModel",
            "_view_count": null,
            "_view_module": "@jupyter-widgets/controls",
            "_view_module_version": "1.5.0",
            "_view_name": "ProgressView",
            "bar_style": "success",
            "description": "",
            "description_tooltip": null,
            "layout": "IPY_MODEL_34001646ceaf48bc8495edab3be402b1",
            "max": 13901,
            "min": 0,
            "orientation": "horizontal",
            "style": "IPY_MODEL_d4f246d23d84495c9d435638357c3dff",
            "value": 13901
          }
        },
        "9c0f11e9af7c4419976cb667279343f8": {
          "model_module": "@jupyter-widgets/controls",
          "model_name": "HTMLModel",
          "model_module_version": "1.5.0",
          "state": {
            "_dom_classes": [],
            "_model_module": "@jupyter-widgets/controls",
            "_model_module_version": "1.5.0",
            "_model_name": "HTMLModel",
            "_view_count": null,
            "_view_module": "@jupyter-widgets/controls",
            "_view_module_version": "1.5.0",
            "_view_name": "HTMLView",
            "description": "",
            "description_tooltip": null,
            "layout": "IPY_MODEL_677f0172586241cc95e358d58c68bc30",
            "placeholder": "​",
            "style": "IPY_MODEL_b7ed884cebb34225bd977e820bd1646d",
            "value": " 13901/13901 [00:00&lt;00:00, 34543.33 examples/s]"
          }
        },
        "2e3d16deac354c3b9e5f9128333dbc7b": {
          "model_module": "@jupyter-widgets/base",
          "model_name": "LayoutModel",
          "model_module_version": "1.2.0",
          "state": {
            "_model_module": "@jupyter-widgets/base",
            "_model_module_version": "1.2.0",
            "_model_name": "LayoutModel",
            "_view_count": null,
            "_view_module": "@jupyter-widgets/base",
            "_view_module_version": "1.2.0",
            "_view_name": "LayoutView",
            "align_content": null,
            "align_items": null,
            "align_self": null,
            "border": null,
            "bottom": null,
            "display": null,
            "flex": null,
            "flex_flow": null,
            "grid_area": null,
            "grid_auto_columns": null,
            "grid_auto_flow": null,
            "grid_auto_rows": null,
            "grid_column": null,
            "grid_gap": null,
            "grid_row": null,
            "grid_template_areas": null,
            "grid_template_columns": null,
            "grid_template_rows": null,
            "height": null,
            "justify_content": null,
            "justify_items": null,
            "left": null,
            "margin": null,
            "max_height": null,
            "max_width": null,
            "min_height": null,
            "min_width": null,
            "object_fit": null,
            "object_position": null,
            "order": null,
            "overflow": null,
            "overflow_x": null,
            "overflow_y": null,
            "padding": null,
            "right": null,
            "top": null,
            "visibility": null,
            "width": null
          }
        },
        "d917643e5d4a4c44a0f244eb8fcf6708": {
          "model_module": "@jupyter-widgets/base",
          "model_name": "LayoutModel",
          "model_module_version": "1.2.0",
          "state": {
            "_model_module": "@jupyter-widgets/base",
            "_model_module_version": "1.2.0",
            "_model_name": "LayoutModel",
            "_view_count": null,
            "_view_module": "@jupyter-widgets/base",
            "_view_module_version": "1.2.0",
            "_view_name": "LayoutView",
            "align_content": null,
            "align_items": null,
            "align_self": null,
            "border": null,
            "bottom": null,
            "display": null,
            "flex": null,
            "flex_flow": null,
            "grid_area": null,
            "grid_auto_columns": null,
            "grid_auto_flow": null,
            "grid_auto_rows": null,
            "grid_column": null,
            "grid_gap": null,
            "grid_row": null,
            "grid_template_areas": null,
            "grid_template_columns": null,
            "grid_template_rows": null,
            "height": null,
            "justify_content": null,
            "justify_items": null,
            "left": null,
            "margin": null,
            "max_height": null,
            "max_width": null,
            "min_height": null,
            "min_width": null,
            "object_fit": null,
            "object_position": null,
            "order": null,
            "overflow": null,
            "overflow_x": null,
            "overflow_y": null,
            "padding": null,
            "right": null,
            "top": null,
            "visibility": null,
            "width": null
          }
        },
        "da90dd631dcb47da9d5210556b37b5ca": {
          "model_module": "@jupyter-widgets/controls",
          "model_name": "DescriptionStyleModel",
          "model_module_version": "1.5.0",
          "state": {
            "_model_module": "@jupyter-widgets/controls",
            "_model_module_version": "1.5.0",
            "_model_name": "DescriptionStyleModel",
            "_view_count": null,
            "_view_module": "@jupyter-widgets/base",
            "_view_module_version": "1.2.0",
            "_view_name": "StyleView",
            "description_width": ""
          }
        },
        "34001646ceaf48bc8495edab3be402b1": {
          "model_module": "@jupyter-widgets/base",
          "model_name": "LayoutModel",
          "model_module_version": "1.2.0",
          "state": {
            "_model_module": "@jupyter-widgets/base",
            "_model_module_version": "1.2.0",
            "_model_name": "LayoutModel",
            "_view_count": null,
            "_view_module": "@jupyter-widgets/base",
            "_view_module_version": "1.2.0",
            "_view_name": "LayoutView",
            "align_content": null,
            "align_items": null,
            "align_self": null,
            "border": null,
            "bottom": null,
            "display": null,
            "flex": null,
            "flex_flow": null,
            "grid_area": null,
            "grid_auto_columns": null,
            "grid_auto_flow": null,
            "grid_auto_rows": null,
            "grid_column": null,
            "grid_gap": null,
            "grid_row": null,
            "grid_template_areas": null,
            "grid_template_columns": null,
            "grid_template_rows": null,
            "height": null,
            "justify_content": null,
            "justify_items": null,
            "left": null,
            "margin": null,
            "max_height": null,
            "max_width": null,
            "min_height": null,
            "min_width": null,
            "object_fit": null,
            "object_position": null,
            "order": null,
            "overflow": null,
            "overflow_x": null,
            "overflow_y": null,
            "padding": null,
            "right": null,
            "top": null,
            "visibility": null,
            "width": null
          }
        },
        "d4f246d23d84495c9d435638357c3dff": {
          "model_module": "@jupyter-widgets/controls",
          "model_name": "ProgressStyleModel",
          "model_module_version": "1.5.0",
          "state": {
            "_model_module": "@jupyter-widgets/controls",
            "_model_module_version": "1.5.0",
            "_model_name": "ProgressStyleModel",
            "_view_count": null,
            "_view_module": "@jupyter-widgets/base",
            "_view_module_version": "1.2.0",
            "_view_name": "StyleView",
            "bar_color": null,
            "description_width": ""
          }
        },
        "677f0172586241cc95e358d58c68bc30": {
          "model_module": "@jupyter-widgets/base",
          "model_name": "LayoutModel",
          "model_module_version": "1.2.0",
          "state": {
            "_model_module": "@jupyter-widgets/base",
            "_model_module_version": "1.2.0",
            "_model_name": "LayoutModel",
            "_view_count": null,
            "_view_module": "@jupyter-widgets/base",
            "_view_module_version": "1.2.0",
            "_view_name": "LayoutView",
            "align_content": null,
            "align_items": null,
            "align_self": null,
            "border": null,
            "bottom": null,
            "display": null,
            "flex": null,
            "flex_flow": null,
            "grid_area": null,
            "grid_auto_columns": null,
            "grid_auto_flow": null,
            "grid_auto_rows": null,
            "grid_column": null,
            "grid_gap": null,
            "grid_row": null,
            "grid_template_areas": null,
            "grid_template_columns": null,
            "grid_template_rows": null,
            "height": null,
            "justify_content": null,
            "justify_items": null,
            "left": null,
            "margin": null,
            "max_height": null,
            "max_width": null,
            "min_height": null,
            "min_width": null,
            "object_fit": null,
            "object_position": null,
            "order": null,
            "overflow": null,
            "overflow_x": null,
            "overflow_y": null,
            "padding": null,
            "right": null,
            "top": null,
            "visibility": null,
            "width": null
          }
        },
        "b7ed884cebb34225bd977e820bd1646d": {
          "model_module": "@jupyter-widgets/controls",
          "model_name": "DescriptionStyleModel",
          "model_module_version": "1.5.0",
          "state": {
            "_model_module": "@jupyter-widgets/controls",
            "_model_module_version": "1.5.0",
            "_model_name": "DescriptionStyleModel",
            "_view_count": null,
            "_view_module": "@jupyter-widgets/base",
            "_view_module_version": "1.2.0",
            "_view_name": "StyleView",
            "description_width": ""
          }
        },
        "684ec63580104dadb31a069c92e82020": {
          "model_module": "@jupyter-widgets/controls",
          "model_name": "HBoxModel",
          "model_module_version": "1.5.0",
          "state": {
            "_dom_classes": [],
            "_model_module": "@jupyter-widgets/controls",
            "_model_module_version": "1.5.0",
            "_model_name": "HBoxModel",
            "_view_count": null,
            "_view_module": "@jupyter-widgets/controls",
            "_view_module_version": "1.5.0",
            "_view_name": "HBoxView",
            "box_style": "",
            "children": [
              "IPY_MODEL_cdbd3fc3aca648e78a5bc6552429ad1f",
              "IPY_MODEL_e368a095600a46e799621dafea093290",
              "IPY_MODEL_0e6f16455952407bac2f0948a17af298"
            ],
            "layout": "IPY_MODEL_3cf2332dcea546b6aa82ffeed66d770e"
          }
        },
        "cdbd3fc3aca648e78a5bc6552429ad1f": {
          "model_module": "@jupyter-widgets/controls",
          "model_name": "HTMLModel",
          "model_module_version": "1.5.0",
          "state": {
            "_dom_classes": [],
            "_model_module": "@jupyter-widgets/controls",
            "_model_module_version": "1.5.0",
            "_model_name": "HTMLModel",
            "_view_count": null,
            "_view_module": "@jupyter-widgets/controls",
            "_view_module_version": "1.5.0",
            "_view_name": "HTMLView",
            "description": "",
            "description_tooltip": null,
            "layout": "IPY_MODEL_6725567ffd8c4fd1b556ae6d15e363c4",
            "placeholder": "​",
            "style": "IPY_MODEL_c91460111ff14bd2b316dcd9483b7136",
            "value": "Map: 100%"
          }
        },
        "e368a095600a46e799621dafea093290": {
          "model_module": "@jupyter-widgets/controls",
          "model_name": "FloatProgressModel",
          "model_module_version": "1.5.0",
          "state": {
            "_dom_classes": [],
            "_model_module": "@jupyter-widgets/controls",
            "_model_module_version": "1.5.0",
            "_model_name": "FloatProgressModel",
            "_view_count": null,
            "_view_module": "@jupyter-widgets/controls",
            "_view_module_version": "1.5.0",
            "_view_name": "ProgressView",
            "bar_style": "success",
            "description": "",
            "description_tooltip": null,
            "layout": "IPY_MODEL_616c40de1aa549138478a8ea9e88e0d0",
            "max": 30000,
            "min": 0,
            "orientation": "horizontal",
            "style": "IPY_MODEL_e7030c32a92e4f42afedd18f0c850296",
            "value": 30000
          }
        },
        "0e6f16455952407bac2f0948a17af298": {
          "model_module": "@jupyter-widgets/controls",
          "model_name": "HTMLModel",
          "model_module_version": "1.5.0",
          "state": {
            "_dom_classes": [],
            "_model_module": "@jupyter-widgets/controls",
            "_model_module_version": "1.5.0",
            "_model_name": "HTMLModel",
            "_view_count": null,
            "_view_module": "@jupyter-widgets/controls",
            "_view_module_version": "1.5.0",
            "_view_name": "HTMLView",
            "description": "",
            "description_tooltip": null,
            "layout": "IPY_MODEL_588f7869fc7b40d291bc16de1a308e1d",
            "placeholder": "​",
            "style": "IPY_MODEL_acbc4c8880794add8bdda73747c0258d",
            "value": " 30000/30000 [00:02&lt;00:00, 15076.88 examples/s]"
          }
        },
        "3cf2332dcea546b6aa82ffeed66d770e": {
          "model_module": "@jupyter-widgets/base",
          "model_name": "LayoutModel",
          "model_module_version": "1.2.0",
          "state": {
            "_model_module": "@jupyter-widgets/base",
            "_model_module_version": "1.2.0",
            "_model_name": "LayoutModel",
            "_view_count": null,
            "_view_module": "@jupyter-widgets/base",
            "_view_module_version": "1.2.0",
            "_view_name": "LayoutView",
            "align_content": null,
            "align_items": null,
            "align_self": null,
            "border": null,
            "bottom": null,
            "display": null,
            "flex": null,
            "flex_flow": null,
            "grid_area": null,
            "grid_auto_columns": null,
            "grid_auto_flow": null,
            "grid_auto_rows": null,
            "grid_column": null,
            "grid_gap": null,
            "grid_row": null,
            "grid_template_areas": null,
            "grid_template_columns": null,
            "grid_template_rows": null,
            "height": null,
            "justify_content": null,
            "justify_items": null,
            "left": null,
            "margin": null,
            "max_height": null,
            "max_width": null,
            "min_height": null,
            "min_width": null,
            "object_fit": null,
            "object_position": null,
            "order": null,
            "overflow": null,
            "overflow_x": null,
            "overflow_y": null,
            "padding": null,
            "right": null,
            "top": null,
            "visibility": null,
            "width": null
          }
        },
        "6725567ffd8c4fd1b556ae6d15e363c4": {
          "model_module": "@jupyter-widgets/base",
          "model_name": "LayoutModel",
          "model_module_version": "1.2.0",
          "state": {
            "_model_module": "@jupyter-widgets/base",
            "_model_module_version": "1.2.0",
            "_model_name": "LayoutModel",
            "_view_count": null,
            "_view_module": "@jupyter-widgets/base",
            "_view_module_version": "1.2.0",
            "_view_name": "LayoutView",
            "align_content": null,
            "align_items": null,
            "align_self": null,
            "border": null,
            "bottom": null,
            "display": null,
            "flex": null,
            "flex_flow": null,
            "grid_area": null,
            "grid_auto_columns": null,
            "grid_auto_flow": null,
            "grid_auto_rows": null,
            "grid_column": null,
            "grid_gap": null,
            "grid_row": null,
            "grid_template_areas": null,
            "grid_template_columns": null,
            "grid_template_rows": null,
            "height": null,
            "justify_content": null,
            "justify_items": null,
            "left": null,
            "margin": null,
            "max_height": null,
            "max_width": null,
            "min_height": null,
            "min_width": null,
            "object_fit": null,
            "object_position": null,
            "order": null,
            "overflow": null,
            "overflow_x": null,
            "overflow_y": null,
            "padding": null,
            "right": null,
            "top": null,
            "visibility": null,
            "width": null
          }
        },
        "c91460111ff14bd2b316dcd9483b7136": {
          "model_module": "@jupyter-widgets/controls",
          "model_name": "DescriptionStyleModel",
          "model_module_version": "1.5.0",
          "state": {
            "_model_module": "@jupyter-widgets/controls",
            "_model_module_version": "1.5.0",
            "_model_name": "DescriptionStyleModel",
            "_view_count": null,
            "_view_module": "@jupyter-widgets/base",
            "_view_module_version": "1.2.0",
            "_view_name": "StyleView",
            "description_width": ""
          }
        },
        "616c40de1aa549138478a8ea9e88e0d0": {
          "model_module": "@jupyter-widgets/base",
          "model_name": "LayoutModel",
          "model_module_version": "1.2.0",
          "state": {
            "_model_module": "@jupyter-widgets/base",
            "_model_module_version": "1.2.0",
            "_model_name": "LayoutModel",
            "_view_count": null,
            "_view_module": "@jupyter-widgets/base",
            "_view_module_version": "1.2.0",
            "_view_name": "LayoutView",
            "align_content": null,
            "align_items": null,
            "align_self": null,
            "border": null,
            "bottom": null,
            "display": null,
            "flex": null,
            "flex_flow": null,
            "grid_area": null,
            "grid_auto_columns": null,
            "grid_auto_flow": null,
            "grid_auto_rows": null,
            "grid_column": null,
            "grid_gap": null,
            "grid_row": null,
            "grid_template_areas": null,
            "grid_template_columns": null,
            "grid_template_rows": null,
            "height": null,
            "justify_content": null,
            "justify_items": null,
            "left": null,
            "margin": null,
            "max_height": null,
            "max_width": null,
            "min_height": null,
            "min_width": null,
            "object_fit": null,
            "object_position": null,
            "order": null,
            "overflow": null,
            "overflow_x": null,
            "overflow_y": null,
            "padding": null,
            "right": null,
            "top": null,
            "visibility": null,
            "width": null
          }
        },
        "e7030c32a92e4f42afedd18f0c850296": {
          "model_module": "@jupyter-widgets/controls",
          "model_name": "ProgressStyleModel",
          "model_module_version": "1.5.0",
          "state": {
            "_model_module": "@jupyter-widgets/controls",
            "_model_module_version": "1.5.0",
            "_model_name": "ProgressStyleModel",
            "_view_count": null,
            "_view_module": "@jupyter-widgets/base",
            "_view_module_version": "1.2.0",
            "_view_name": "StyleView",
            "bar_color": null,
            "description_width": ""
          }
        },
        "588f7869fc7b40d291bc16de1a308e1d": {
          "model_module": "@jupyter-widgets/base",
          "model_name": "LayoutModel",
          "model_module_version": "1.2.0",
          "state": {
            "_model_module": "@jupyter-widgets/base",
            "_model_module_version": "1.2.0",
            "_model_name": "LayoutModel",
            "_view_count": null,
            "_view_module": "@jupyter-widgets/base",
            "_view_module_version": "1.2.0",
            "_view_name": "LayoutView",
            "align_content": null,
            "align_items": null,
            "align_self": null,
            "border": null,
            "bottom": null,
            "display": null,
            "flex": null,
            "flex_flow": null,
            "grid_area": null,
            "grid_auto_columns": null,
            "grid_auto_flow": null,
            "grid_auto_rows": null,
            "grid_column": null,
            "grid_gap": null,
            "grid_row": null,
            "grid_template_areas": null,
            "grid_template_columns": null,
            "grid_template_rows": null,
            "height": null,
            "justify_content": null,
            "justify_items": null,
            "left": null,
            "margin": null,
            "max_height": null,
            "max_width": null,
            "min_height": null,
            "min_width": null,
            "object_fit": null,
            "object_position": null,
            "order": null,
            "overflow": null,
            "overflow_x": null,
            "overflow_y": null,
            "padding": null,
            "right": null,
            "top": null,
            "visibility": null,
            "width": null
          }
        },
        "acbc4c8880794add8bdda73747c0258d": {
          "model_module": "@jupyter-widgets/controls",
          "model_name": "DescriptionStyleModel",
          "model_module_version": "1.5.0",
          "state": {
            "_model_module": "@jupyter-widgets/controls",
            "_model_module_version": "1.5.0",
            "_model_name": "DescriptionStyleModel",
            "_view_count": null,
            "_view_module": "@jupyter-widgets/base",
            "_view_module_version": "1.2.0",
            "_view_name": "StyleView",
            "description_width": ""
          }
        },
        "36d9e5d9ee3b42148d9c0dd25fb96ef3": {
          "model_module": "@jupyter-widgets/controls",
          "model_name": "HBoxModel",
          "model_module_version": "1.5.0",
          "state": {
            "_dom_classes": [],
            "_model_module": "@jupyter-widgets/controls",
            "_model_module_version": "1.5.0",
            "_model_name": "HBoxModel",
            "_view_count": null,
            "_view_module": "@jupyter-widgets/controls",
            "_view_module_version": "1.5.0",
            "_view_name": "HBoxView",
            "box_style": "",
            "children": [
              "IPY_MODEL_179679d8d4524c10858a5e48541c6c8e",
              "IPY_MODEL_b68a9ceaee724948a927da8efb3d3903",
              "IPY_MODEL_7db3cbb2c47c44c38939b55dcbd8a930"
            ],
            "layout": "IPY_MODEL_8d3a0d13b7454a1ba84f98233ab2fb19"
          }
        },
        "179679d8d4524c10858a5e48541c6c8e": {
          "model_module": "@jupyter-widgets/controls",
          "model_name": "HTMLModel",
          "model_module_version": "1.5.0",
          "state": {
            "_dom_classes": [],
            "_model_module": "@jupyter-widgets/controls",
            "_model_module_version": "1.5.0",
            "_model_name": "HTMLModel",
            "_view_count": null,
            "_view_module": "@jupyter-widgets/controls",
            "_view_module_version": "1.5.0",
            "_view_name": "HTMLView",
            "description": "",
            "description_tooltip": null,
            "layout": "IPY_MODEL_65488a97ceeb40469d6d8cd714826403",
            "placeholder": "​",
            "style": "IPY_MODEL_2b54c1748594499da5f52c8b7b0e4913",
            "value": "Map: 100%"
          }
        },
        "b68a9ceaee724948a927da8efb3d3903": {
          "model_module": "@jupyter-widgets/controls",
          "model_name": "FloatProgressModel",
          "model_module_version": "1.5.0",
          "state": {
            "_dom_classes": [],
            "_model_module": "@jupyter-widgets/controls",
            "_model_module_version": "1.5.0",
            "_model_name": "FloatProgressModel",
            "_view_count": null,
            "_view_module": "@jupyter-widgets/controls",
            "_view_module_version": "1.5.0",
            "_view_name": "ProgressView",
            "bar_style": "success",
            "description": "",
            "description_tooltip": null,
            "layout": "IPY_MODEL_ca3513ea36b04030b5a54cb088ac1566",
            "max": 13901,
            "min": 0,
            "orientation": "horizontal",
            "style": "IPY_MODEL_bdd3917a7e2540cfb613a070410f9cb5",
            "value": 13901
          }
        },
        "7db3cbb2c47c44c38939b55dcbd8a930": {
          "model_module": "@jupyter-widgets/controls",
          "model_name": "HTMLModel",
          "model_module_version": "1.5.0",
          "state": {
            "_dom_classes": [],
            "_model_module": "@jupyter-widgets/controls",
            "_model_module_version": "1.5.0",
            "_model_name": "HTMLModel",
            "_view_count": null,
            "_view_module": "@jupyter-widgets/controls",
            "_view_module_version": "1.5.0",
            "_view_name": "HTMLView",
            "description": "",
            "description_tooltip": null,
            "layout": "IPY_MODEL_a4bc240634214cbd878f7c54fa6d3a30",
            "placeholder": "​",
            "style": "IPY_MODEL_38a9a31b4bea4eefacbc6c34a883272b",
            "value": " 13901/13901 [00:01&lt;00:00, 12631.26 examples/s]"
          }
        },
        "8d3a0d13b7454a1ba84f98233ab2fb19": {
          "model_module": "@jupyter-widgets/base",
          "model_name": "LayoutModel",
          "model_module_version": "1.2.0",
          "state": {
            "_model_module": "@jupyter-widgets/base",
            "_model_module_version": "1.2.0",
            "_model_name": "LayoutModel",
            "_view_count": null,
            "_view_module": "@jupyter-widgets/base",
            "_view_module_version": "1.2.0",
            "_view_name": "LayoutView",
            "align_content": null,
            "align_items": null,
            "align_self": null,
            "border": null,
            "bottom": null,
            "display": null,
            "flex": null,
            "flex_flow": null,
            "grid_area": null,
            "grid_auto_columns": null,
            "grid_auto_flow": null,
            "grid_auto_rows": null,
            "grid_column": null,
            "grid_gap": null,
            "grid_row": null,
            "grid_template_areas": null,
            "grid_template_columns": null,
            "grid_template_rows": null,
            "height": null,
            "justify_content": null,
            "justify_items": null,
            "left": null,
            "margin": null,
            "max_height": null,
            "max_width": null,
            "min_height": null,
            "min_width": null,
            "object_fit": null,
            "object_position": null,
            "order": null,
            "overflow": null,
            "overflow_x": null,
            "overflow_y": null,
            "padding": null,
            "right": null,
            "top": null,
            "visibility": null,
            "width": null
          }
        },
        "65488a97ceeb40469d6d8cd714826403": {
          "model_module": "@jupyter-widgets/base",
          "model_name": "LayoutModel",
          "model_module_version": "1.2.0",
          "state": {
            "_model_module": "@jupyter-widgets/base",
            "_model_module_version": "1.2.0",
            "_model_name": "LayoutModel",
            "_view_count": null,
            "_view_module": "@jupyter-widgets/base",
            "_view_module_version": "1.2.0",
            "_view_name": "LayoutView",
            "align_content": null,
            "align_items": null,
            "align_self": null,
            "border": null,
            "bottom": null,
            "display": null,
            "flex": null,
            "flex_flow": null,
            "grid_area": null,
            "grid_auto_columns": null,
            "grid_auto_flow": null,
            "grid_auto_rows": null,
            "grid_column": null,
            "grid_gap": null,
            "grid_row": null,
            "grid_template_areas": null,
            "grid_template_columns": null,
            "grid_template_rows": null,
            "height": null,
            "justify_content": null,
            "justify_items": null,
            "left": null,
            "margin": null,
            "max_height": null,
            "max_width": null,
            "min_height": null,
            "min_width": null,
            "object_fit": null,
            "object_position": null,
            "order": null,
            "overflow": null,
            "overflow_x": null,
            "overflow_y": null,
            "padding": null,
            "right": null,
            "top": null,
            "visibility": null,
            "width": null
          }
        },
        "2b54c1748594499da5f52c8b7b0e4913": {
          "model_module": "@jupyter-widgets/controls",
          "model_name": "DescriptionStyleModel",
          "model_module_version": "1.5.0",
          "state": {
            "_model_module": "@jupyter-widgets/controls",
            "_model_module_version": "1.5.0",
            "_model_name": "DescriptionStyleModel",
            "_view_count": null,
            "_view_module": "@jupyter-widgets/base",
            "_view_module_version": "1.2.0",
            "_view_name": "StyleView",
            "description_width": ""
          }
        },
        "ca3513ea36b04030b5a54cb088ac1566": {
          "model_module": "@jupyter-widgets/base",
          "model_name": "LayoutModel",
          "model_module_version": "1.2.0",
          "state": {
            "_model_module": "@jupyter-widgets/base",
            "_model_module_version": "1.2.0",
            "_model_name": "LayoutModel",
            "_view_count": null,
            "_view_module": "@jupyter-widgets/base",
            "_view_module_version": "1.2.0",
            "_view_name": "LayoutView",
            "align_content": null,
            "align_items": null,
            "align_self": null,
            "border": null,
            "bottom": null,
            "display": null,
            "flex": null,
            "flex_flow": null,
            "grid_area": null,
            "grid_auto_columns": null,
            "grid_auto_flow": null,
            "grid_auto_rows": null,
            "grid_column": null,
            "grid_gap": null,
            "grid_row": null,
            "grid_template_areas": null,
            "grid_template_columns": null,
            "grid_template_rows": null,
            "height": null,
            "justify_content": null,
            "justify_items": null,
            "left": null,
            "margin": null,
            "max_height": null,
            "max_width": null,
            "min_height": null,
            "min_width": null,
            "object_fit": null,
            "object_position": null,
            "order": null,
            "overflow": null,
            "overflow_x": null,
            "overflow_y": null,
            "padding": null,
            "right": null,
            "top": null,
            "visibility": null,
            "width": null
          }
        },
        "bdd3917a7e2540cfb613a070410f9cb5": {
          "model_module": "@jupyter-widgets/controls",
          "model_name": "ProgressStyleModel",
          "model_module_version": "1.5.0",
          "state": {
            "_model_module": "@jupyter-widgets/controls",
            "_model_module_version": "1.5.0",
            "_model_name": "ProgressStyleModel",
            "_view_count": null,
            "_view_module": "@jupyter-widgets/base",
            "_view_module_version": "1.2.0",
            "_view_name": "StyleView",
            "bar_color": null,
            "description_width": ""
          }
        },
        "a4bc240634214cbd878f7c54fa6d3a30": {
          "model_module": "@jupyter-widgets/base",
          "model_name": "LayoutModel",
          "model_module_version": "1.2.0",
          "state": {
            "_model_module": "@jupyter-widgets/base",
            "_model_module_version": "1.2.0",
            "_model_name": "LayoutModel",
            "_view_count": null,
            "_view_module": "@jupyter-widgets/base",
            "_view_module_version": "1.2.0",
            "_view_name": "LayoutView",
            "align_content": null,
            "align_items": null,
            "align_self": null,
            "border": null,
            "bottom": null,
            "display": null,
            "flex": null,
            "flex_flow": null,
            "grid_area": null,
            "grid_auto_columns": null,
            "grid_auto_flow": null,
            "grid_auto_rows": null,
            "grid_column": null,
            "grid_gap": null,
            "grid_row": null,
            "grid_template_areas": null,
            "grid_template_columns": null,
            "grid_template_rows": null,
            "height": null,
            "justify_content": null,
            "justify_items": null,
            "left": null,
            "margin": null,
            "max_height": null,
            "max_width": null,
            "min_height": null,
            "min_width": null,
            "object_fit": null,
            "object_position": null,
            "order": null,
            "overflow": null,
            "overflow_x": null,
            "overflow_y": null,
            "padding": null,
            "right": null,
            "top": null,
            "visibility": null,
            "width": null
          }
        },
        "38a9a31b4bea4eefacbc6c34a883272b": {
          "model_module": "@jupyter-widgets/controls",
          "model_name": "DescriptionStyleModel",
          "model_module_version": "1.5.0",
          "state": {
            "_model_module": "@jupyter-widgets/controls",
            "_model_module_version": "1.5.0",
            "_model_name": "DescriptionStyleModel",
            "_view_count": null,
            "_view_module": "@jupyter-widgets/base",
            "_view_module_version": "1.2.0",
            "_view_name": "StyleView",
            "description_width": ""
          }
        },
        "bd45b6bd9a424571933df3b82c9a2381": {
          "model_module": "@jupyter-widgets/controls",
          "model_name": "HBoxModel",
          "model_module_version": "1.5.0",
          "state": {
            "_dom_classes": [],
            "_model_module": "@jupyter-widgets/controls",
            "_model_module_version": "1.5.0",
            "_model_name": "HBoxModel",
            "_view_count": null,
            "_view_module": "@jupyter-widgets/controls",
            "_view_module_version": "1.5.0",
            "_view_name": "HBoxView",
            "box_style": "",
            "children": [
              "IPY_MODEL_4d733b662a4c4e739762769dbd52c336",
              "IPY_MODEL_bc7a1d31fcdb4a1197bbc3f30472c20e",
              "IPY_MODEL_66cfe1df33174fd4a7c4f828c6b5e4a2"
            ],
            "layout": "IPY_MODEL_b82115c5735b4fd298d1af759cacdb41"
          }
        },
        "4d733b662a4c4e739762769dbd52c336": {
          "model_module": "@jupyter-widgets/controls",
          "model_name": "HTMLModel",
          "model_module_version": "1.5.0",
          "state": {
            "_dom_classes": [],
            "_model_module": "@jupyter-widgets/controls",
            "_model_module_version": "1.5.0",
            "_model_name": "HTMLModel",
            "_view_count": null,
            "_view_module": "@jupyter-widgets/controls",
            "_view_module_version": "1.5.0",
            "_view_name": "HTMLView",
            "description": "",
            "description_tooltip": null,
            "layout": "IPY_MODEL_82f9931ccdcc45d9906645ba04336b3e",
            "placeholder": "​",
            "style": "IPY_MODEL_ddb7a71d0ed34ec7ac4798a51ea5f8ec",
            "value": "Map (num_proc=4): 100%"
          }
        },
        "bc7a1d31fcdb4a1197bbc3f30472c20e": {
          "model_module": "@jupyter-widgets/controls",
          "model_name": "FloatProgressModel",
          "model_module_version": "1.5.0",
          "state": {
            "_dom_classes": [],
            "_model_module": "@jupyter-widgets/controls",
            "_model_module_version": "1.5.0",
            "_model_name": "FloatProgressModel",
            "_view_count": null,
            "_view_module": "@jupyter-widgets/controls",
            "_view_module_version": "1.5.0",
            "_view_name": "ProgressView",
            "bar_style": "success",
            "description": "",
            "description_tooltip": null,
            "layout": "IPY_MODEL_cc8c9310da574de187d642a58bd49000",
            "max": 30000,
            "min": 0,
            "orientation": "horizontal",
            "style": "IPY_MODEL_ae324fa67734450f8cf9ef920c577cd6",
            "value": 30000
          }
        },
        "66cfe1df33174fd4a7c4f828c6b5e4a2": {
          "model_module": "@jupyter-widgets/controls",
          "model_name": "HTMLModel",
          "model_module_version": "1.5.0",
          "state": {
            "_dom_classes": [],
            "_model_module": "@jupyter-widgets/controls",
            "_model_module_version": "1.5.0",
            "_model_name": "HTMLModel",
            "_view_count": null,
            "_view_module": "@jupyter-widgets/controls",
            "_view_module_version": "1.5.0",
            "_view_name": "HTMLView",
            "description": "",
            "description_tooltip": null,
            "layout": "IPY_MODEL_27dc0440d9fe4292ad432d0a9940cf77",
            "placeholder": "​",
            "style": "IPY_MODEL_890ac7bb507b40c78f04084af1d4ef57",
            "value": " 30000/30000 [00:01&lt;00:00, 32404.31 examples/s]"
          }
        },
        "b82115c5735b4fd298d1af759cacdb41": {
          "model_module": "@jupyter-widgets/base",
          "model_name": "LayoutModel",
          "model_module_version": "1.2.0",
          "state": {
            "_model_module": "@jupyter-widgets/base",
            "_model_module_version": "1.2.0",
            "_model_name": "LayoutModel",
            "_view_count": null,
            "_view_module": "@jupyter-widgets/base",
            "_view_module_version": "1.2.0",
            "_view_name": "LayoutView",
            "align_content": null,
            "align_items": null,
            "align_self": null,
            "border": null,
            "bottom": null,
            "display": null,
            "flex": null,
            "flex_flow": null,
            "grid_area": null,
            "grid_auto_columns": null,
            "grid_auto_flow": null,
            "grid_auto_rows": null,
            "grid_column": null,
            "grid_gap": null,
            "grid_row": null,
            "grid_template_areas": null,
            "grid_template_columns": null,
            "grid_template_rows": null,
            "height": null,
            "justify_content": null,
            "justify_items": null,
            "left": null,
            "margin": null,
            "max_height": null,
            "max_width": null,
            "min_height": null,
            "min_width": null,
            "object_fit": null,
            "object_position": null,
            "order": null,
            "overflow": null,
            "overflow_x": null,
            "overflow_y": null,
            "padding": null,
            "right": null,
            "top": null,
            "visibility": null,
            "width": null
          }
        },
        "82f9931ccdcc45d9906645ba04336b3e": {
          "model_module": "@jupyter-widgets/base",
          "model_name": "LayoutModel",
          "model_module_version": "1.2.0",
          "state": {
            "_model_module": "@jupyter-widgets/base",
            "_model_module_version": "1.2.0",
            "_model_name": "LayoutModel",
            "_view_count": null,
            "_view_module": "@jupyter-widgets/base",
            "_view_module_version": "1.2.0",
            "_view_name": "LayoutView",
            "align_content": null,
            "align_items": null,
            "align_self": null,
            "border": null,
            "bottom": null,
            "display": null,
            "flex": null,
            "flex_flow": null,
            "grid_area": null,
            "grid_auto_columns": null,
            "grid_auto_flow": null,
            "grid_auto_rows": null,
            "grid_column": null,
            "grid_gap": null,
            "grid_row": null,
            "grid_template_areas": null,
            "grid_template_columns": null,
            "grid_template_rows": null,
            "height": null,
            "justify_content": null,
            "justify_items": null,
            "left": null,
            "margin": null,
            "max_height": null,
            "max_width": null,
            "min_height": null,
            "min_width": null,
            "object_fit": null,
            "object_position": null,
            "order": null,
            "overflow": null,
            "overflow_x": null,
            "overflow_y": null,
            "padding": null,
            "right": null,
            "top": null,
            "visibility": null,
            "width": null
          }
        },
        "ddb7a71d0ed34ec7ac4798a51ea5f8ec": {
          "model_module": "@jupyter-widgets/controls",
          "model_name": "DescriptionStyleModel",
          "model_module_version": "1.5.0",
          "state": {
            "_model_module": "@jupyter-widgets/controls",
            "_model_module_version": "1.5.0",
            "_model_name": "DescriptionStyleModel",
            "_view_count": null,
            "_view_module": "@jupyter-widgets/base",
            "_view_module_version": "1.2.0",
            "_view_name": "StyleView",
            "description_width": ""
          }
        },
        "cc8c9310da574de187d642a58bd49000": {
          "model_module": "@jupyter-widgets/base",
          "model_name": "LayoutModel",
          "model_module_version": "1.2.0",
          "state": {
            "_model_module": "@jupyter-widgets/base",
            "_model_module_version": "1.2.0",
            "_model_name": "LayoutModel",
            "_view_count": null,
            "_view_module": "@jupyter-widgets/base",
            "_view_module_version": "1.2.0",
            "_view_name": "LayoutView",
            "align_content": null,
            "align_items": null,
            "align_self": null,
            "border": null,
            "bottom": null,
            "display": null,
            "flex": null,
            "flex_flow": null,
            "grid_area": null,
            "grid_auto_columns": null,
            "grid_auto_flow": null,
            "grid_auto_rows": null,
            "grid_column": null,
            "grid_gap": null,
            "grid_row": null,
            "grid_template_areas": null,
            "grid_template_columns": null,
            "grid_template_rows": null,
            "height": null,
            "justify_content": null,
            "justify_items": null,
            "left": null,
            "margin": null,
            "max_height": null,
            "max_width": null,
            "min_height": null,
            "min_width": null,
            "object_fit": null,
            "object_position": null,
            "order": null,
            "overflow": null,
            "overflow_x": null,
            "overflow_y": null,
            "padding": null,
            "right": null,
            "top": null,
            "visibility": null,
            "width": null
          }
        },
        "ae324fa67734450f8cf9ef920c577cd6": {
          "model_module": "@jupyter-widgets/controls",
          "model_name": "ProgressStyleModel",
          "model_module_version": "1.5.0",
          "state": {
            "_model_module": "@jupyter-widgets/controls",
            "_model_module_version": "1.5.0",
            "_model_name": "ProgressStyleModel",
            "_view_count": null,
            "_view_module": "@jupyter-widgets/base",
            "_view_module_version": "1.2.0",
            "_view_name": "StyleView",
            "bar_color": null,
            "description_width": ""
          }
        },
        "27dc0440d9fe4292ad432d0a9940cf77": {
          "model_module": "@jupyter-widgets/base",
          "model_name": "LayoutModel",
          "model_module_version": "1.2.0",
          "state": {
            "_model_module": "@jupyter-widgets/base",
            "_model_module_version": "1.2.0",
            "_model_name": "LayoutModel",
            "_view_count": null,
            "_view_module": "@jupyter-widgets/base",
            "_view_module_version": "1.2.0",
            "_view_name": "LayoutView",
            "align_content": null,
            "align_items": null,
            "align_self": null,
            "border": null,
            "bottom": null,
            "display": null,
            "flex": null,
            "flex_flow": null,
            "grid_area": null,
            "grid_auto_columns": null,
            "grid_auto_flow": null,
            "grid_auto_rows": null,
            "grid_column": null,
            "grid_gap": null,
            "grid_row": null,
            "grid_template_areas": null,
            "grid_template_columns": null,
            "grid_template_rows": null,
            "height": null,
            "justify_content": null,
            "justify_items": null,
            "left": null,
            "margin": null,
            "max_height": null,
            "max_width": null,
            "min_height": null,
            "min_width": null,
            "object_fit": null,
            "object_position": null,
            "order": null,
            "overflow": null,
            "overflow_x": null,
            "overflow_y": null,
            "padding": null,
            "right": null,
            "top": null,
            "visibility": null,
            "width": null
          }
        },
        "890ac7bb507b40c78f04084af1d4ef57": {
          "model_module": "@jupyter-widgets/controls",
          "model_name": "DescriptionStyleModel",
          "model_module_version": "1.5.0",
          "state": {
            "_model_module": "@jupyter-widgets/controls",
            "_model_module_version": "1.5.0",
            "_model_name": "DescriptionStyleModel",
            "_view_count": null,
            "_view_module": "@jupyter-widgets/base",
            "_view_module_version": "1.2.0",
            "_view_name": "StyleView",
            "description_width": ""
          }
        },
        "87cfc0137a884e2f9a6e48788509d943": {
          "model_module": "@jupyter-widgets/controls",
          "model_name": "HBoxModel",
          "model_module_version": "1.5.0",
          "state": {
            "_dom_classes": [],
            "_model_module": "@jupyter-widgets/controls",
            "_model_module_version": "1.5.0",
            "_model_name": "HBoxModel",
            "_view_count": null,
            "_view_module": "@jupyter-widgets/controls",
            "_view_module_version": "1.5.0",
            "_view_name": "HBoxView",
            "box_style": "",
            "children": [
              "IPY_MODEL_bfec59653f204014a90fdf9bee0cabac",
              "IPY_MODEL_4f37517b9ae04c2c8a8b3778231194f0",
              "IPY_MODEL_6065859cb6d84251bd2529b91ab90794"
            ],
            "layout": "IPY_MODEL_f25a9468a51f416d8af9c0f11f157793"
          }
        },
        "bfec59653f204014a90fdf9bee0cabac": {
          "model_module": "@jupyter-widgets/controls",
          "model_name": "HTMLModel",
          "model_module_version": "1.5.0",
          "state": {
            "_dom_classes": [],
            "_model_module": "@jupyter-widgets/controls",
            "_model_module_version": "1.5.0",
            "_model_name": "HTMLModel",
            "_view_count": null,
            "_view_module": "@jupyter-widgets/controls",
            "_view_module_version": "1.5.0",
            "_view_name": "HTMLView",
            "description": "",
            "description_tooltip": null,
            "layout": "IPY_MODEL_7691b2e59889401bb2006db6b8e22327",
            "placeholder": "​",
            "style": "IPY_MODEL_6bf76b4e6170493fa7879dc6d54d46e1",
            "value": "Map (num_proc=4): 100%"
          }
        },
        "4f37517b9ae04c2c8a8b3778231194f0": {
          "model_module": "@jupyter-widgets/controls",
          "model_name": "FloatProgressModel",
          "model_module_version": "1.5.0",
          "state": {
            "_dom_classes": [],
            "_model_module": "@jupyter-widgets/controls",
            "_model_module_version": "1.5.0",
            "_model_name": "FloatProgressModel",
            "_view_count": null,
            "_view_module": "@jupyter-widgets/controls",
            "_view_module_version": "1.5.0",
            "_view_name": "ProgressView",
            "bar_style": "success",
            "description": "",
            "description_tooltip": null,
            "layout": "IPY_MODEL_aa3f9931fc2c4c9cb170f3367e3e6f16",
            "max": 13901,
            "min": 0,
            "orientation": "horizontal",
            "style": "IPY_MODEL_4823f31f35d24d52b9e4994f1437397d",
            "value": 13901
          }
        },
        "6065859cb6d84251bd2529b91ab90794": {
          "model_module": "@jupyter-widgets/controls",
          "model_name": "HTMLModel",
          "model_module_version": "1.5.0",
          "state": {
            "_dom_classes": [],
            "_model_module": "@jupyter-widgets/controls",
            "_model_module_version": "1.5.0",
            "_model_name": "HTMLModel",
            "_view_count": null,
            "_view_module": "@jupyter-widgets/controls",
            "_view_module_version": "1.5.0",
            "_view_name": "HTMLView",
            "description": "",
            "description_tooltip": null,
            "layout": "IPY_MODEL_e3f336aabdcc43448d67cbac9aa0a90c",
            "placeholder": "​",
            "style": "IPY_MODEL_8985ea70a23541cca77d118d8609c108",
            "value": " 13901/13901 [00:00&lt;00:00, 21863.54 examples/s]"
          }
        },
        "f25a9468a51f416d8af9c0f11f157793": {
          "model_module": "@jupyter-widgets/base",
          "model_name": "LayoutModel",
          "model_module_version": "1.2.0",
          "state": {
            "_model_module": "@jupyter-widgets/base",
            "_model_module_version": "1.2.0",
            "_model_name": "LayoutModel",
            "_view_count": null,
            "_view_module": "@jupyter-widgets/base",
            "_view_module_version": "1.2.0",
            "_view_name": "LayoutView",
            "align_content": null,
            "align_items": null,
            "align_self": null,
            "border": null,
            "bottom": null,
            "display": null,
            "flex": null,
            "flex_flow": null,
            "grid_area": null,
            "grid_auto_columns": null,
            "grid_auto_flow": null,
            "grid_auto_rows": null,
            "grid_column": null,
            "grid_gap": null,
            "grid_row": null,
            "grid_template_areas": null,
            "grid_template_columns": null,
            "grid_template_rows": null,
            "height": null,
            "justify_content": null,
            "justify_items": null,
            "left": null,
            "margin": null,
            "max_height": null,
            "max_width": null,
            "min_height": null,
            "min_width": null,
            "object_fit": null,
            "object_position": null,
            "order": null,
            "overflow": null,
            "overflow_x": null,
            "overflow_y": null,
            "padding": null,
            "right": null,
            "top": null,
            "visibility": null,
            "width": null
          }
        },
        "7691b2e59889401bb2006db6b8e22327": {
          "model_module": "@jupyter-widgets/base",
          "model_name": "LayoutModel",
          "model_module_version": "1.2.0",
          "state": {
            "_model_module": "@jupyter-widgets/base",
            "_model_module_version": "1.2.0",
            "_model_name": "LayoutModel",
            "_view_count": null,
            "_view_module": "@jupyter-widgets/base",
            "_view_module_version": "1.2.0",
            "_view_name": "LayoutView",
            "align_content": null,
            "align_items": null,
            "align_self": null,
            "border": null,
            "bottom": null,
            "display": null,
            "flex": null,
            "flex_flow": null,
            "grid_area": null,
            "grid_auto_columns": null,
            "grid_auto_flow": null,
            "grid_auto_rows": null,
            "grid_column": null,
            "grid_gap": null,
            "grid_row": null,
            "grid_template_areas": null,
            "grid_template_columns": null,
            "grid_template_rows": null,
            "height": null,
            "justify_content": null,
            "justify_items": null,
            "left": null,
            "margin": null,
            "max_height": null,
            "max_width": null,
            "min_height": null,
            "min_width": null,
            "object_fit": null,
            "object_position": null,
            "order": null,
            "overflow": null,
            "overflow_x": null,
            "overflow_y": null,
            "padding": null,
            "right": null,
            "top": null,
            "visibility": null,
            "width": null
          }
        },
        "6bf76b4e6170493fa7879dc6d54d46e1": {
          "model_module": "@jupyter-widgets/controls",
          "model_name": "DescriptionStyleModel",
          "model_module_version": "1.5.0",
          "state": {
            "_model_module": "@jupyter-widgets/controls",
            "_model_module_version": "1.5.0",
            "_model_name": "DescriptionStyleModel",
            "_view_count": null,
            "_view_module": "@jupyter-widgets/base",
            "_view_module_version": "1.2.0",
            "_view_name": "StyleView",
            "description_width": ""
          }
        },
        "aa3f9931fc2c4c9cb170f3367e3e6f16": {
          "model_module": "@jupyter-widgets/base",
          "model_name": "LayoutModel",
          "model_module_version": "1.2.0",
          "state": {
            "_model_module": "@jupyter-widgets/base",
            "_model_module_version": "1.2.0",
            "_model_name": "LayoutModel",
            "_view_count": null,
            "_view_module": "@jupyter-widgets/base",
            "_view_module_version": "1.2.0",
            "_view_name": "LayoutView",
            "align_content": null,
            "align_items": null,
            "align_self": null,
            "border": null,
            "bottom": null,
            "display": null,
            "flex": null,
            "flex_flow": null,
            "grid_area": null,
            "grid_auto_columns": null,
            "grid_auto_flow": null,
            "grid_auto_rows": null,
            "grid_column": null,
            "grid_gap": null,
            "grid_row": null,
            "grid_template_areas": null,
            "grid_template_columns": null,
            "grid_template_rows": null,
            "height": null,
            "justify_content": null,
            "justify_items": null,
            "left": null,
            "margin": null,
            "max_height": null,
            "max_width": null,
            "min_height": null,
            "min_width": null,
            "object_fit": null,
            "object_position": null,
            "order": null,
            "overflow": null,
            "overflow_x": null,
            "overflow_y": null,
            "padding": null,
            "right": null,
            "top": null,
            "visibility": null,
            "width": null
          }
        },
        "4823f31f35d24d52b9e4994f1437397d": {
          "model_module": "@jupyter-widgets/controls",
          "model_name": "ProgressStyleModel",
          "model_module_version": "1.5.0",
          "state": {
            "_model_module": "@jupyter-widgets/controls",
            "_model_module_version": "1.5.0",
            "_model_name": "ProgressStyleModel",
            "_view_count": null,
            "_view_module": "@jupyter-widgets/base",
            "_view_module_version": "1.2.0",
            "_view_name": "StyleView",
            "bar_color": null,
            "description_width": ""
          }
        },
        "e3f336aabdcc43448d67cbac9aa0a90c": {
          "model_module": "@jupyter-widgets/base",
          "model_name": "LayoutModel",
          "model_module_version": "1.2.0",
          "state": {
            "_model_module": "@jupyter-widgets/base",
            "_model_module_version": "1.2.0",
            "_model_name": "LayoutModel",
            "_view_count": null,
            "_view_module": "@jupyter-widgets/base",
            "_view_module_version": "1.2.0",
            "_view_name": "LayoutView",
            "align_content": null,
            "align_items": null,
            "align_self": null,
            "border": null,
            "bottom": null,
            "display": null,
            "flex": null,
            "flex_flow": null,
            "grid_area": null,
            "grid_auto_columns": null,
            "grid_auto_flow": null,
            "grid_auto_rows": null,
            "grid_column": null,
            "grid_gap": null,
            "grid_row": null,
            "grid_template_areas": null,
            "grid_template_columns": null,
            "grid_template_rows": null,
            "height": null,
            "justify_content": null,
            "justify_items": null,
            "left": null,
            "margin": null,
            "max_height": null,
            "max_width": null,
            "min_height": null,
            "min_width": null,
            "object_fit": null,
            "object_position": null,
            "order": null,
            "overflow": null,
            "overflow_x": null,
            "overflow_y": null,
            "padding": null,
            "right": null,
            "top": null,
            "visibility": null,
            "width": null
          }
        },
        "8985ea70a23541cca77d118d8609c108": {
          "model_module": "@jupyter-widgets/controls",
          "model_name": "DescriptionStyleModel",
          "model_module_version": "1.5.0",
          "state": {
            "_model_module": "@jupyter-widgets/controls",
            "_model_module_version": "1.5.0",
            "_model_name": "DescriptionStyleModel",
            "_view_count": null,
            "_view_module": "@jupyter-widgets/base",
            "_view_module_version": "1.2.0",
            "_view_name": "StyleView",
            "description_width": ""
          }
        }
      }
    },
    "accelerator": "GPU"
  },
  "nbformat": 4,
  "nbformat_minor": 0
}