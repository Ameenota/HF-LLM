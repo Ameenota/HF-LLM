{
  "cells": [
    {
      "cell_type": "markdown",
      "metadata": {
        "id": "view-in-github",
        "colab_type": "text"
      },
      "source": [
        "<a href=\"https://colab.research.google.com/github/Ameenota/HF-LLM/blob/main/Pytorch_for_beginners_with_a_finetrained_HuggingFace_Model.ipynb\" target=\"_parent\"><img src=\"https://colab.research.google.com/assets/colab-badge.svg\" alt=\"Open In Colab\"/></a>"
      ]
    },
    {
      "cell_type": "markdown",
      "metadata": {
        "id": "qPN98LfXH_0g"
      },
      "source": [
        "# 🚀 High-Performance Image Classification with PyTorch and HuggingFace\n",
        "\n",
        "Welcome to this beginner-friendly notebook where we explore the power of modern deep learning for image classification!\n",
        "\n",
        "This guide walks you through the essential steps of loading image data into PyTorch, preparing it with Hugging Face's advanced preprocessing tools, and fine-tuning a state-of-the-art model.\n",
        "\n",
        "**We will achieve a macro-averaged score of over 93%!**\n",
        "### What We Cover:\n",
        "\n",
        "1.  *Data Preparation:* Using the HuggingFace to load and preprocess images.\n",
        "2.  *Transfer Learning:* Downloading a pre-trained Vision Transformer (ViT) model via AutoModelForImageClassification.\n",
        "3.  *Optimization:* Setting up an AdamW optimizer and a dynamic Linear learning rate scheduler.\n",
        "4.  *Training Loop:* Implementing the core PyTorch training loop on the GPU (cuda).\n",
        "5.   *Evaluation*: Calculating Accuracy, Precision, Recall, and F1 Score. And including an analysis section to explain the results."
      ]
    },
    {
      "cell_type": "markdown",
      "metadata": {
        "id": "850HZFuGIfly"
      },
      "source": [
        "First we deal with boilerplate stuff to initialize our variables and make this work locally or on Kaggle.\n",
        "\n",
        "https://www.youtube.com/watch?v=tHL5STNJKag&t=290s"
      ]
    },
    {
      "cell_type": "markdown",
      "metadata": {
        "id": "VYiWjuHT50Kj"
      },
      "source": [
        "## Load the data\n",
        "Below we download our dataset. We will build an image classifier trained on Fashion MNIST. The dataset is available for testing in Pytorch so there is an easy way to load FashionMNIST in Pytorch, however as this is not real-world friendly we will instead load it from HuggingFace.\n",
        "\n"
      ]
    },
    {
      "cell_type": "code",
      "execution_count": 2,
      "metadata": {
        "colab": {
          "base_uri": "https://localhost:8080/"
        },
        "id": "PiNSE9xy-Qne",
        "outputId": "69f3fcdf-04f6-4add-e025-38de9fe9ee64"
      },
      "outputs": [
        {
          "output_type": "stream",
          "name": "stdout",
          "text": [
            "Requirement already satisfied: evaluate in /usr/local/lib/python3.12/dist-packages (0.4.6)\n",
            "Requirement already satisfied: datasets>=2.0.0 in /usr/local/lib/python3.12/dist-packages (from evaluate) (4.0.0)\n",
            "Requirement already satisfied: numpy>=1.17 in /usr/local/lib/python3.12/dist-packages (from evaluate) (2.0.2)\n",
            "Requirement already satisfied: dill in /usr/local/lib/python3.12/dist-packages (from evaluate) (0.3.8)\n",
            "Requirement already satisfied: pandas in /usr/local/lib/python3.12/dist-packages (from evaluate) (2.2.2)\n",
            "Requirement already satisfied: requests>=2.19.0 in /usr/local/lib/python3.12/dist-packages (from evaluate) (2.32.4)\n",
            "Requirement already satisfied: tqdm>=4.62.1 in /usr/local/lib/python3.12/dist-packages (from evaluate) (4.67.1)\n",
            "Requirement already satisfied: xxhash in /usr/local/lib/python3.12/dist-packages (from evaluate) (3.6.0)\n",
            "Requirement already satisfied: multiprocess in /usr/local/lib/python3.12/dist-packages (from evaluate) (0.70.16)\n",
            "Requirement already satisfied: fsspec>=2021.05.0 in /usr/local/lib/python3.12/dist-packages (from fsspec[http]>=2021.05.0->evaluate) (2025.3.0)\n",
            "Requirement already satisfied: huggingface-hub>=0.7.0 in /usr/local/lib/python3.12/dist-packages (from evaluate) (0.35.3)\n",
            "Requirement already satisfied: packaging in /usr/local/lib/python3.12/dist-packages (from evaluate) (25.0)\n",
            "Requirement already satisfied: filelock in /usr/local/lib/python3.12/dist-packages (from datasets>=2.0.0->evaluate) (3.20.0)\n",
            "Requirement already satisfied: pyarrow>=15.0.0 in /usr/local/lib/python3.12/dist-packages (from datasets>=2.0.0->evaluate) (18.1.0)\n",
            "Requirement already satisfied: pyyaml>=5.1 in /usr/local/lib/python3.12/dist-packages (from datasets>=2.0.0->evaluate) (6.0.3)\n",
            "Requirement already satisfied: aiohttp!=4.0.0a0,!=4.0.0a1 in /usr/local/lib/python3.12/dist-packages (from fsspec[http]>=2021.05.0->evaluate) (3.13.1)\n",
            "Requirement already satisfied: typing-extensions>=3.7.4.3 in /usr/local/lib/python3.12/dist-packages (from huggingface-hub>=0.7.0->evaluate) (4.15.0)\n",
            "Requirement already satisfied: hf-xet<2.0.0,>=1.1.3 in /usr/local/lib/python3.12/dist-packages (from huggingface-hub>=0.7.0->evaluate) (1.1.10)\n",
            "Requirement already satisfied: charset_normalizer<4,>=2 in /usr/local/lib/python3.12/dist-packages (from requests>=2.19.0->evaluate) (3.4.4)\n",
            "Requirement already satisfied: idna<4,>=2.5 in /usr/local/lib/python3.12/dist-packages (from requests>=2.19.0->evaluate) (3.11)\n",
            "Requirement already satisfied: urllib3<3,>=1.21.1 in /usr/local/lib/python3.12/dist-packages (from requests>=2.19.0->evaluate) (2.5.0)\n",
            "Requirement already satisfied: certifi>=2017.4.17 in /usr/local/lib/python3.12/dist-packages (from requests>=2.19.0->evaluate) (2025.10.5)\n",
            "Requirement already satisfied: python-dateutil>=2.8.2 in /usr/local/lib/python3.12/dist-packages (from pandas->evaluate) (2.9.0.post0)\n",
            "Requirement already satisfied: pytz>=2020.1 in /usr/local/lib/python3.12/dist-packages (from pandas->evaluate) (2025.2)\n",
            "Requirement already satisfied: tzdata>=2022.7 in /usr/local/lib/python3.12/dist-packages (from pandas->evaluate) (2025.2)\n",
            "Requirement already satisfied: aiohappyeyeballs>=2.5.0 in /usr/local/lib/python3.12/dist-packages (from aiohttp!=4.0.0a0,!=4.0.0a1->fsspec[http]>=2021.05.0->evaluate) (2.6.1)\n",
            "Requirement already satisfied: aiosignal>=1.4.0 in /usr/local/lib/python3.12/dist-packages (from aiohttp!=4.0.0a0,!=4.0.0a1->fsspec[http]>=2021.05.0->evaluate) (1.4.0)\n",
            "Requirement already satisfied: attrs>=17.3.0 in /usr/local/lib/python3.12/dist-packages (from aiohttp!=4.0.0a0,!=4.0.0a1->fsspec[http]>=2021.05.0->evaluate) (25.4.0)\n",
            "Requirement already satisfied: frozenlist>=1.1.1 in /usr/local/lib/python3.12/dist-packages (from aiohttp!=4.0.0a0,!=4.0.0a1->fsspec[http]>=2021.05.0->evaluate) (1.8.0)\n",
            "Requirement already satisfied: multidict<7.0,>=4.5 in /usr/local/lib/python3.12/dist-packages (from aiohttp!=4.0.0a0,!=4.0.0a1->fsspec[http]>=2021.05.0->evaluate) (6.7.0)\n",
            "Requirement already satisfied: propcache>=0.2.0 in /usr/local/lib/python3.12/dist-packages (from aiohttp!=4.0.0a0,!=4.0.0a1->fsspec[http]>=2021.05.0->evaluate) (0.4.1)\n",
            "Requirement already satisfied: yarl<2.0,>=1.17.0 in /usr/local/lib/python3.12/dist-packages (from aiohttp!=4.0.0a0,!=4.0.0a1->fsspec[http]>=2021.05.0->evaluate) (1.22.0)\n",
            "Requirement already satisfied: six>=1.5 in /usr/local/lib/python3.12/dist-packages (from python-dateutil>=2.8.2->pandas->evaluate) (1.17.0)\n"
          ]
        }
      ],
      "source": [
        "!pip install evaluate"
      ]
    },
    {
      "cell_type": "code",
      "execution_count": 3,
      "metadata": {
        "id": "dDpfa04eIey-"
      },
      "outputs": [],
      "source": [
        "import os\n",
        "LOCAL_RUN = os.environ.get('KAGGLE_KERNEL_RUN_TYPE','Localhost') == 'Localhost'"
      ]
    },
    {
      "cell_type": "code",
      "execution_count": 4,
      "metadata": {
        "id": "3hRPYFK6ICvb"
      },
      "outputs": [],
      "source": [
        "from datasets import load_dataset\n",
        "raw_dataset = load_dataset(\"zalando-datasets/fashion_mnist\")"
      ]
    },
    {
      "cell_type": "markdown",
      "metadata": {
        "id": "wdXbcs3uWMGH"
      },
      "source": [
        "The HuggingFace dataset we downloaded can be easily converted to pytorch compatible tensors as we will see later."
      ]
    },
    {
      "cell_type": "markdown",
      "metadata": {
        "id": "JWUveQ1YO1-6"
      },
      "source": [
        "Lets examine what we get as shown below. You can see that the DatasetDict contains two entries one for our training set (size 60K) and test set (10K). Each entry contains a PIL Image."
      ]
    },
    {
      "cell_type": "code",
      "execution_count": 5,
      "metadata": {
        "colab": {
          "base_uri": "https://localhost:8080/"
        },
        "id": "EJobrsxFOvm4",
        "outputId": "15690753-37c1-4840-8421-55326484b1fb"
      },
      "outputs": [
        {
          "output_type": "stream",
          "name": "stdout",
          "text": [
            "DatasetDict({\n",
            "    train: Dataset({\n",
            "        features: ['image', 'label'],\n",
            "        num_rows: 60000\n",
            "    })\n",
            "    test: Dataset({\n",
            "        features: ['image', 'label'],\n",
            "        num_rows: 10000\n",
            "    })\n",
            "})\n",
            "{'image': <PIL.PngImagePlugin.PngImageFile image mode=L size=28x28 at 0x7AA7F254B1D0>, 'label': 9}\n"
          ]
        }
      ],
      "source": [
        "print(raw_dataset)\n",
        "print(raw_dataset['train'][0]) # get a single row"
      ]
    },
    {
      "cell_type": "markdown",
      "metadata": {
        "id": "nJ2jLICTd8Pc"
      },
      "source": [
        "Lets peek at a random image, note we resize cause the original images are quite small (28 x 28). I'm also converting to RGB cause thats what our model will prefer."
      ]
    },
    {
      "cell_type": "code",
      "execution_count": 6,
      "metadata": {
        "colab": {
          "base_uri": "https://localhost:8080/",
          "height": 241
        },
        "id": "caycAOdQP59n",
        "outputId": "bbcfa0ee-008d-477f-da2d-7c6e5c15cf12"
      },
      "outputs": [
        {
          "output_type": "execute_result",
          "data": {
            "text/plain": [
              "<PIL.Image.Image image mode=RGB size=224x224>"
            ],
            "image/png": "[encoded data removed]",
            "image/jpeg": "[encoded data removed]"
          },
          "metadata": {},
          "execution_count": 6
        }
      ],
      "source": [
        "raw_dataset[\"train\"][33]['image'].convert('RGB').resize((224,224))"
      ]
    },
    {
      "cell_type": "code",
      "execution_count": 7,
      "metadata": {
        "colab": {
          "base_uri": "https://localhost:8080/"
        },
        "id": "hWxX9Q4aewXV",
        "outputId": "4bc0aee5-c016-433c-f2ea-d6c3f1b98a29"
      },
      "outputs": [
        {
          "output_type": "stream",
          "name": "stdout",
          "text": [
            "<PIL.PngImagePlugin.PngImageFile image mode=L size=28x28 at 0x7AA7F259F470>\n",
            "6\n"
          ]
        }
      ],
      "source": [
        "im, l = raw_dataset[\"train\"][33].values()\n",
        "print(im)\n",
        "print(l)"
      ]
    },
    {
      "cell_type": "markdown",
      "metadata": {
        "id": "sCDSuxvUUswz"
      },
      "source": [
        "### View sample images"
      ]
    },
    {
      "cell_type": "code",
      "execution_count": 8,
      "metadata": {
        "colab": {
          "base_uri": "https://localhost:8080/",
          "height": 675
        },
        "id": "2clH2Jr7QsQx",
        "outputId": "95e6deb2-2eee-4457-cfb4-7e9790190eb1"
      },
      "outputs": [
        {
          "output_type": "display_data",
          "data": {
            "text/plain": [
              "<Figure size 800x800 with 9 Axes>"
            ],
            "image/png": "[encoded data removed]"
          },
          "metadata": {}
        }
      ],
      "source": [
        "import torch\n",
        "import matplotlib.pyplot as plt\n",
        "\n",
        "labels_map = {\n",
        "    0: \"T-Shirt\",\n",
        "    1: \"Trouser\",\n",
        "    2: \"Pullover\",\n",
        "    3: \"Dress\",\n",
        "    4: \"Coat\",\n",
        "    5: \"Sandal\",\n",
        "    6: \"Shirt\",\n",
        "    7: \"Sneaker\",\n",
        "    8: \"Bag\",\n",
        "    9: \"Ankle Boot\",\n",
        "}\n",
        "figure = plt.figure(figsize=(8, 8))\n",
        "cols, rows = 3, 3 # create a 3x3 plot of random image subplots\n",
        "for i in range(1, cols * rows + 1):\n",
        "    sample_idx = torch.randint(len(raw_dataset['train']), size=(1,)).item()\n",
        "    img, label = raw_dataset['train'][sample_idx].values()\n",
        "    figure.add_subplot(rows, cols, i)\n",
        "    plt.title(labels_map[label]) #add the label as title to current subplot\n",
        "    plt.axis(\"off\")\n",
        "    plt.imshow(img, cmap=\"gray\") # we keep this as CMAP as they are single color images.\n",
        "plt.show()"
      ]
    },
    {
      "cell_type": "markdown",
      "metadata": {
        "id": "4Z9L6uydYsOc"
      },
      "source": [
        "## Image Preprocessing\n",
        "We need to modify the input images so they are compatible with our model. We will use [ViT](https://huggingface.co/google/vit-base-patch16-224). Vision Transformer (ViT) is an incredibly popular model/checkpoint that was trained on millions of images for image classification tasks. Training was on **colored images at resolution 224x224**. So our images will need to match this input.\n",
        "\n"
      ]
    },
    {
      "cell_type": "code",
      "execution_count": 9,
      "metadata": {
        "colab": {
          "base_uri": "https://localhost:8080/"
        },
        "id": "zZHLWL1vaGKg",
        "outputId": "86bef22e-c351-4b50-96b3-28bae533e6af"
      },
      "outputs": [
        {
          "output_type": "stream",
          "name": "stderr",
          "text": [
            "Fast image processor class <class 'transformers.models.vit.image_processing_vit_fast.ViTImageProcessorFast'> is available for this model. Using slow image processor class. To use the fast image processor class set `use_fast=True`.\n"
          ]
        }
      ],
      "source": [
        "from transformers import AutoImageProcessor\n",
        "\n",
        "checkpoint = \"google/vit-base-patch16-224\"\n",
        "feature_extractor = AutoImageProcessor.from_pretrained(checkpoint)"
      ]
    },
    {
      "cell_type": "markdown",
      "metadata": {
        "id": "PZBi1-8EaZqy"
      },
      "source": [
        "the image processor is in charge of preparing input features for audio or vision models. Specifically in our case this will convert the images to 224x224 based on the requirements from ViT\n",
        "\n"
      ]
    },
    {
      "cell_type": "code",
      "execution_count": 10,
      "metadata": {
        "id": "VNsjGvxjav-N"
      },
      "outputs": [],
      "source": [
        "def preprocess_images(examples):\n",
        "    images = [x.convert('RGB') for x in examples['image']]\n",
        "    inputs = feature_extractor(images=images, return_tensors=\"pt\")\n",
        "    examples['pixel_values'] = inputs['pixel_values']\n",
        "    return examples"
      ]
    },
    {
      "cell_type": "markdown",
      "metadata": {
        "id": "B2vHKB3FhI1B"
      },
      "source": [
        "We don't really need to return the inputs above, but I find it helpful to look at what feature extracter is doing."
      ]
    },
    {
      "cell_type": "code",
      "execution_count": 11,
      "metadata": {
        "colab": {
          "base_uri": "https://localhost:8080/"
        },
        "id": "n00sM7YyfknD",
        "outputId": "45ca4156-8977-4d91-e484-3b0997b8970f"
      },
      "outputs": [
        {
          "output_type": "stream",
          "name": "stdout",
          "text": [
            "dict_keys(['image', 'label', 'pixel_values'])\n"
          ]
        },
        {
          "output_type": "execute_result",
          "data": {
            "text/plain": [
              "torch.Size([2, 3, 224, 224])"
            ]
          },
          "metadata": {},
          "execution_count": 11
        }
      ],
      "source": [
        "x = preprocess_images(raw_dataset['train'][0:2])\n",
        "print(x.keys())\n",
        "x['pixel_values'].shape\n"
      ]
    },
    {
      "cell_type": "markdown",
      "metadata": {
        "id": "YNTxkj4kh1Es"
      },
      "source": [
        "Lets think about the shape above for a minute.\n",
        "1.   We passed in 2 images hence the first dimension is 2\n",
        "2.   We have 3 channels now (RGB), hence the next dimension is 3\n",
        "3. Finally the feature extractor resized us up to 224x224\n",
        "\n",
        "Also note we have a new column called pixel_values now.\n",
        "\n"
      ]
    },
    {
      "cell_type": "markdown",
      "metadata": {
        "id": "mFn0eJ3xbMom"
      },
      "source": [
        "The preprocess_image function brings things together. It does the actual conversion of the batches images to RGB. We also apply the feature extractor to apply the models inputs"
      ]
    },
    {
      "cell_type": "markdown",
      "metadata": {
        "id": "5yw439keB21G"
      },
      "source": [
        "## Development Setup\n",
        "For development lets do this with a smaller set of data or else it takes too long to run. Also my server is very low powered so I'm going to do this with just 6K training images."
      ]
    },
    {
      "cell_type": "code",
      "execution_count": 12,
      "metadata": {
        "id": "4EYATqgO21BC"
      },
      "outputs": [],
      "source": [
        "from datasets import DatasetDict, Dataset\n",
        "\n",
        "\n",
        "train_dataset = Dataset.from_dict(raw_dataset[\"train\"][:6000])\n",
        "test_dataset = Dataset.from_dict(raw_dataset['test'][:1000])\n",
        "dev_dataset = DatasetDict({\n",
        "  'train': train_dataset,\n",
        "  'test': test_dataset\n",
        "})\n",
        "\n",
        "dev_dataset\n",
        "raw_dataset = dev_dataset ## Comment this out and you will probably better performance."
      ]
    },
    {
      "cell_type": "markdown",
      "source": [
        "We werent too smart about picking our sample traning set (I just picked the first 6K items). We need to make sure that our all the labels have enough entries. This can be easily done with a histogram as shown below. We can see that we lucked out and we have near perfect distribuition. If not, we would have to build some sort of logic to sample items enough items for each label."
      ],
      "metadata": {
        "id": "u8Vw7ZFhk4xe"
      }
    },
    {
      "cell_type": "code",
      "source": [
        "raw_dataset[\"train\"].to_pandas()['label'].hist()"
      ],
      "metadata": {
        "colab": {
          "base_uri": "https://localhost:8080/",
          "height": 448
        },
        "id": "K2ADC5rYkjdJ",
        "outputId": "60ca11da-c220-42ac-9de4-4ea2b975426d"
      },
      "execution_count": 13,
      "outputs": [
        {
          "output_type": "execute_result",
          "data": {
            "text/plain": [
              "<Axes: >"
            ]
          },
          "metadata": {},
          "execution_count": 13
        },
        {
          "output_type": "display_data",
          "data": {
            "text/plain": [
              "<Figure size 640x480 with 1 Axes>"
            ],
            "image/png": "[encoded data removed]"
          },
          "metadata": {}
        }
      ]
    },
    {
      "cell_type": "code",
      "execution_count": 14,
      "metadata": {
        "colab": {
          "base_uri": "https://localhost:8080/",
          "height": 81,
          "referenced_widgets": [
            "103d761e4a864aabaa0b6dbf9c90ce56",
            "d5ffc06828d74fe2bf38e84bdb506fc4",
            "9f65407c649f4bd4bb23d89c266bd3eb",
            "90078aad6443474a8efdff141ac71b3a",
            "97bfa0f38ad1478ea9d256002cd0d2f6",
            "3241e0427a964c55a66fa7a92307c10f",
            "69d5de6740cc4009848e1b6d08d28ea6",
            "d37d24c0dc15408ca3b246a036fcc5c8",
            "448959cd8bba42ca99e1cc757145a89f",
            "3faa74f3dfd3438c82c6b4516965b030",
            "bf216840de9b4a02bd98ec33f4587329",
            "b4172b817241415f9f37c17452d7b8ea",
            "534fff1e9e2b4b1e938b74e67f005406",
            "daeedf4519924df3a50f31128779b495",
            "089dd14769504dddb5f37b06db9407be",
            "c16af4c709744cbdaa5934f5cbf98d51",
            "973aebcd8bab4f43910f84271d612561",
            "e24fbade096045d3b70e3f039ea3befd",
            "83e79288c63c43ca8131a473d7fff1bd",
            "dc5e9c3ee940492fa2e3844fdc69c79c",
            "4522d1f2382e48f7a53ce0f6d7b06370",
            "fbc71dc3df504fef8aba5f3d9232334d"
          ]
        },
        "id": "hy1RKdh6bL9l",
        "outputId": "08cfe0dc-b35f-4845-f366-6a1eeceadcbe"
      },
      "outputs": [
        {
          "output_type": "display_data",
          "data": {
            "text/plain": [
              "Map:   0%|          | 0/6000 [00:00<?, ? examples/s]"
            ],
            "application/vnd.jupyter.widget-view+json": {
              "version_major": 2,
              "version_minor": 0,
              "model_id": "103d761e4a864aabaa0b6dbf9c90ce56"
            }
          },
          "metadata": {}
        },
        {
          "output_type": "display_data",
          "data": {
            "text/plain": [
              "Map:   0%|          | 0/1000 [00:00<?, ? examples/s]"
            ],
            "application/vnd.jupyter.widget-view+json": {
              "version_major": 2,
              "version_minor": 0,
              "model_id": "b4172b817241415f9f37c17452d7b8ea"
            }
          },
          "metadata": {}
        }
      ],
      "source": [
        "\n",
        "processed_datasets = raw_dataset.map(preprocess_images, batched=True)\n",
        "\n",
        "#Remove unnecessary column\n",
        "processed_datasets = processed_datasets.remove_columns(['image'])\n",
        "\n",
        "# Rename columns to standard names as necessary (HF prefers labels)\n",
        "processed_datasets = processed_datasets.rename_column(\"label\", \"labels\")"
      ]
    },
    {
      "cell_type": "code",
      "source": [],
      "metadata": {
        "id": "PXHzR79DkaMq"
      },
      "execution_count": 14,
      "outputs": []
    },
    {
      "cell_type": "markdown",
      "metadata": {
        "id": "Ya8DwBB5QThR"
      },
      "source": [
        "## Dataloaders\n",
        "A Pytorch Dataloader makes it easy to iterate over batches of our data. We need to make sure HF returns tensors instead of datadicts as that what pytorch uses."
      ]
    },
    {
      "cell_type": "code",
      "execution_count": 15,
      "metadata": {
        "id": "wkvlgfSF2Jjh"
      },
      "outputs": [],
      "source": [
        "processed_datasets.set_format(type=\"torch\", columns=['pixel_values', 'labels'])\n",
        "training_data = processed_datasets[\"train\"]\n",
        "test_data = processed_datasets[\"test\"]"
      ]
    },
    {
      "cell_type": "markdown",
      "source": [
        "Unfortunately I'm doing this on a tiny cloud based GPU so I can only do a batch size of 16."
      ],
      "metadata": {
        "id": "jdvKtfAfi2fQ"
      }
    },
    {
      "cell_type": "code",
      "execution_count": 16,
      "metadata": {
        "id": "5ZtqQpVi6u-t"
      },
      "outputs": [],
      "source": [
        "from torch.utils.data import DataLoader\n",
        "\n",
        "batch_size = 16 # this should be set to whatever your GPU can handle.\n",
        "\n",
        "train_dataloader = DataLoader(training_data, batch_size=16, shuffle=True)\n",
        "test_dataloader = DataLoader(test_data, batch_size=16, shuffle=True)\n",
        "\n"
      ]
    },
    {
      "cell_type": "markdown",
      "metadata": {
        "id": "_oIa49EwDwXA"
      },
      "source": [
        "Lets take a peek at the data. You can see below that our feature batch size is 16 (batch_size) * 3 * 224 * 224 which is exactly what we expect."
      ]
    },
    {
      "cell_type": "code",
      "execution_count": 17,
      "metadata": {
        "colab": {
          "base_uri": "https://localhost:8080/"
        },
        "id": "BZDZ-uHt9a3r",
        "outputId": "cb8feb9b-48c5-4721-d256-505a7c89be82"
      },
      "outputs": [
        {
          "output_type": "stream",
          "name": "stdout",
          "text": [
            "Feature batch shape: torch.Size([16, 3, 224, 224])\n",
            "Label batch shape: torch.Size([16])\n"
          ]
        }
      ],
      "source": [
        "batch = next(iter(train_dataloader))\n",
        "\n",
        "# Access the tensors using the correct dictionary keys\n",
        "train_features = batch['pixel_values'] # <-- This is our batched image tensor\n",
        "train_labels = batch['labels']         # <-- This is our batched label tensor\n",
        "\n",
        "print(f\"Feature batch shape: {train_features.size()}\")\n",
        "print(f\"Label batch shape: {train_labels.size()}\")"
      ]
    },
    {
      "cell_type": "markdown",
      "metadata": {
        "id": "9BtnhbHWEs2N"
      },
      "source": [
        "Once again, we can display the image. Note we are just using img[0] which I'm guessing represents 'R' for Red. This is not accurate, in the real world you would do a weighted average or a mean of the 3 values. But since all we are doing is displaying it does not really make a difference."
      ]
    },
    {
      "cell_type": "code",
      "execution_count": 18,
      "metadata": {
        "colab": {
          "base_uri": "https://localhost:8080/",
          "height": 452
        },
        "id": "DiObwuex66uO",
        "outputId": "73a153c5-c6b4-4ba7-d3ee-dba1b96bfc7d"
      },
      "outputs": [
        {
          "output_type": "display_data",
          "data": {
            "text/plain": [
              "<Figure size 640x480 with 1 Axes>"
            ],
            "image/png": "[encoded data removed]"
          },
          "metadata": {}
        },
        {
          "output_type": "stream",
          "name": "stdout",
          "text": [
            "Label: Shirt\n"
          ]
        }
      ],
      "source": [
        "img = train_features[0].squeeze()\n",
        "label = train_labels[0]\n",
        "plt.imshow(img[0], cmap=\"gray\")\n",
        "plt.show()\n",
        "print(f\"Label: {labels_map[label.item()]}\")\n"
      ]
    },
    {
      "cell_type": "markdown",
      "metadata": {
        "id": "vUF0V8Q6Df93"
      },
      "source": [
        "## Setup the model\n",
        "Ok our data is all ready to go, now its training time! As before we will use the ViT model. This is trained on 1000 labels, we only have 10. Hence we provide a num_labels and ignore_mismatched_sizes as arguments below. What this effectively does is drop the \"head\" of the NN and replaces it with our 10 labels. This is why HuggingFace gives us a warning reminding us to train the model and not use it directly."
      ]
    },
    {
      "cell_type": "code",
      "execution_count": 19,
      "metadata": {
        "colab": {
          "base_uri": "https://localhost:8080/"
        },
        "id": "CJhvcWtoKDxC",
        "outputId": "0a15f827-1d92-4b6d-d123-7048f578d52a"
      },
      "outputs": [
        {
          "output_type": "stream",
          "name": "stderr",
          "text": [
            "Some weights of ViTForImageClassification were not initialized from the model checkpoint at google/vit-base-patch16-224 and are newly initialized because the shapes did not match:\n",
            "- classifier.bias: found shape torch.Size([1000]) in the checkpoint and torch.Size([10]) in the model instantiated\n",
            "- classifier.weight: found shape torch.Size([1000, 768]) in the checkpoint and torch.Size([10, 768]) in the model instantiated\n",
            "You should probably TRAIN this model on a down-stream task to be able to use it for predictions and inference.\n"
          ]
        }
      ],
      "source": [
        "from transformers import AutoModelForImageClassification\n",
        "\n",
        "model = AutoModelForImageClassification.from_pretrained(checkpoint, num_labels=len(labels_map), ignore_mismatched_sizes=True)\n"
      ]
    },
    {
      "cell_type": "markdown",
      "metadata": {
        "id": "cGKmVFbqFgee"
      },
      "source": [
        "Next, lets load the batch into the model to make sure it retuns an output. And it does. As expected the returned value is a 16 (batch) * 10 (labels) tensor."
      ]
    },
    {
      "cell_type": "code",
      "execution_count": 20,
      "metadata": {
        "colab": {
          "base_uri": "https://localhost:8080/"
        },
        "id": "WiOm-glMKMZL",
        "outputId": "30e97c0c-cef2-4d82-cfeb-5eb24da1e804"
      },
      "outputs": [
        {
          "output_type": "stream",
          "name": "stdout",
          "text": [
            "tensor(2.4588, grad_fn=<NllLossBackward0>) torch.Size([16, 10])\n"
          ]
        }
      ],
      "source": [
        "outputs = model(**batch)\n",
        "print(outputs.loss, outputs.logits.shape)"
      ]
    },
    {
      "cell_type": "markdown",
      "source": [
        "For our optimizer, lets pick AdamW which is a popular choice. This decides the magnitude and direction for updating parameters"
      ],
      "metadata": {
        "id": "ILNt3JJaZ_FS"
      }
    },
    {
      "cell_type": "code",
      "execution_count": 21,
      "metadata": {
        "id": "0rEtCqZRKXjY"
      },
      "outputs": [],
      "source": [
        "from torch.optim import AdamW\n",
        "\n",
        "optimizer = AdamW(model.parameters(), lr=5e-5)"
      ]
    },
    {
      "cell_type": "markdown",
      "source": [
        "Now we setup a learning rate scheduler. This decreases the learning rate during the course of training. A dynamic LR trans more effectively and mitigates the need to experiment to pick a static rate"
      ],
      "metadata": {
        "id": "G4RZo7Imaepv"
      }
    },
    {
      "cell_type": "code",
      "execution_count": 22,
      "metadata": {
        "colab": {
          "base_uri": "https://localhost:8080/"
        },
        "id": "oLdchza9KafH",
        "outputId": "d7ca8417-05ac-4297-b0cc-efc008bc9bed"
      },
      "outputs": [
        {
          "output_type": "stream",
          "name": "stdout",
          "text": [
            "1125\n"
          ]
        }
      ],
      "source": [
        "from transformers import get_scheduler\n",
        "\n",
        "num_epochs = 3\n",
        "num_training_steps = num_epochs * len(train_dataloader) # number of batches\n",
        "lr_scheduler = get_scheduler(\n",
        "    \"linear\",\n",
        "    optimizer=optimizer, # Link your optimizer from above here\n",
        "    num_warmup_steps=0,\n",
        "    num_training_steps=num_training_steps,\n",
        ")\n",
        "print(num_training_steps)"
      ]
    },
    {
      "cell_type": "markdown",
      "source": [
        "A quick note, the length of our train_dataloader represents the number of batches. We have 6000 rows of data and a batch size of 16. 6000/16 = 375 which matches the number below."
      ],
      "metadata": {
        "id": "HBlZoO0tbLWv"
      }
    },
    {
      "cell_type": "code",
      "execution_count": 23,
      "metadata": {
        "colab": {
          "base_uri": "https://localhost:8080/"
        },
        "id": "bozRlaX99gQ5",
        "outputId": "8ac589f2-4f40-4c80-ac5e-a6e39e152298"
      },
      "outputs": [
        {
          "output_type": "execute_result",
          "data": {
            "text/plain": [
              "375"
            ]
          },
          "metadata": {},
          "execution_count": 23
        }
      ],
      "source": [
        "len(train_dataloader)"
      ]
    },
    {
      "cell_type": "markdown",
      "source": [
        "## Train\n",
        "Finally we can go ahead and train, first we use a standard pytorch snippet to set a device type incase we have a NVIDIA GPU."
      ],
      "metadata": {
        "id": "oYEY7j9DbYge"
      }
    },
    {
      "cell_type": "code",
      "execution_count": 24,
      "metadata": {
        "colab": {
          "base_uri": "https://localhost:8080/"
        },
        "id": "PzYrzN2MKdlj",
        "outputId": "7ff2806a-7db8-44da-c1c7-1a3264f4050c"
      },
      "outputs": [
        {
          "output_type": "execute_result",
          "data": {
            "text/plain": [
              "device(type='cuda')"
            ]
          },
          "metadata": {},
          "execution_count": 24
        }
      ],
      "source": [
        "import torch\n",
        "\n",
        "device = torch.device(\"cuda\") if torch.cuda.is_available() else torch.device(\"cpu\")\n",
        "model.to(device)\n",
        "device"
      ]
    },
    {
      "cell_type": "markdown",
      "source": [
        "Finally we run our Gradient Desent to train the model."
      ],
      "metadata": {
        "id": "Se8iLHPDbvG4"
      }
    },
    {
      "cell_type": "code",
      "execution_count": null,
      "metadata": {
        "colab": {
          "base_uri": "https://localhost:8080/",
          "height": 49,
          "referenced_widgets": [
            "f6f0e7f91b7d405a9efd95e21dd522bd",
            "73d60098c81f48658b2cd046ca8b9b41",
            "08330cb3b6ef43688350cf7be5ebc6f6",
            "d266b77e827a48279296eb828f45e132",
            "b1586bab6bce4342929641a9f6bf4bdf",
            "78ab79d9f6f74f77ab0a5e48ba783e8e",
            "a1ae342839b041e59b52ac299bc0b4f9",
            "3f7ed59a8a984eb7b0e5bb92dada4cfa",
            "ae9d077ab2674b01be14e4746ae3bd2c",
            "19568fb0e2ef40868b9d5a27b5e01fb2",
            "d2dddb480f484121913f1e9585953441"
          ]
        },
        "id": "HTzVzWKkKgsP",
        "outputId": "0b6ae7a3-c080-43aa-8272-56202b1f59b2"
      },
      "outputs": [
        {
          "output_type": "display_data",
          "data": {
            "text/plain": [
              "  0%|          | 0/1125 [00:00<?, ?it/s]"
            ],
            "application/vnd.jupyter.widget-view+json": {
              "version_major": 2,
              "version_minor": 0,
              "model_id": "f6f0e7f91b7d405a9efd95e21dd522bd"
            }
          },
          "metadata": {}
        }
      ],
      "source": [
        "from tqdm.auto import tqdm\n",
        "\n",
        "progress_bar = tqdm(range(num_training_steps))\n",
        "\n",
        "model.train()\n",
        "for epoch in range(num_epochs):\n",
        "    for batch in train_dataloader:\n",
        "\n",
        "        # Move Data to GPU 🚀\n",
        "        # the v.to copies/duplicates the tensor to the GPU if it exists\n",
        "        batch = {k: v.to(device) for k, v in batch.items()}\n",
        "\n",
        "        # Forward Pass (Prediction)\n",
        "        # Pass the batch of data through the model to get predictions and calculate the loss.\n",
        "        outputs = model(**batch)\n",
        "        loss = outputs.loss\n",
        "\n",
        "        # Backward Pass (Gradient Calculation)\n",
        "        # Compute the gradients (slopes) of the loss with respect to every single parameter (weight/bias)\n",
        "        # in the model. This is the core of backpropagation.\n",
        "        loss.backward()\n",
        "\n",
        "        # Update the model's weights and biases using the calculated gradients,\n",
        "        optimizer.step()\n",
        "\n",
        "        # Update the learning rate based on the scheduler's strategy aka decreasing it before the next step\n",
        "\n",
        "        lr_scheduler.step()\n",
        "\n",
        "\n",
        "        # Reset the gradients of all parameters to zero.\n",
        "        optimizer.zero_grad()\n",
        "\n",
        "        progress_bar.update(1)"
      ]
    },
    {
      "cell_type": "markdown",
      "source": [
        "## Validate"
      ],
      "metadata": {
        "id": "ai6p_8D5gGeJ"
      }
    },
    {
      "cell_type": "code",
      "execution_count": null,
      "metadata": {
        "id": "Y5ZGPTZrKn2k"
      },
      "outputs": [],
      "source": [
        "model.to(device)\n",
        "model.eval() # Turns off training\n",
        "\n",
        "\n",
        "all_predictions = []\n",
        "all_references = [] # Store the true labels\n",
        "\n",
        "with torch.no_grad():\n",
        "    for batch in test_dataloader:\n",
        "        # Move inputs to the device (GPU)\n",
        "        batch = {k: v.to(device) for k, v in batch.items()}\n",
        "\n",
        "        # Forward pass\n",
        "        outputs = model(**batch)\n",
        "\n",
        "        # Get the predicted class indices\n",
        "        # outputs.logits contains the raw prediction scores for each class\n",
        "        logits = outputs.logits\n",
        "        predictions = torch.argmax(logits, dim=-1)\n",
        "\n",
        "        # Store predictions and true labels (references)\n",
        "        # Move tensors back to CPU and convert to a Python list/NumPy array\n",
        "        all_predictions.extend(predictions.cpu().tolist())\n",
        "        all_references.extend(batch['labels'].cpu().tolist())\n",
        "\n"
      ]
    },
    {
      "cell_type": "code",
      "execution_count": null,
      "metadata": {
        "id": "YJjFpY6N_RFe"
      },
      "outputs": [],
      "source": [
        "import evaluate\n",
        "\n",
        "# 1. Combine the metrics into a single object\n",
        "clf_metrics = evaluate.combine([\"f1\", \"precision\", \"recall\"])\n",
        "\n",
        "# We continue to use average=\"macro\" for the metrics that require it (f1, precision, recall).\n",
        "results = clf_metrics.compute(\n",
        "    predictions=all_predictions,\n",
        "    references=all_references,\n",
        "    average=\"macro\"  # Applies the macro-average to F1, Precision, and Recall\n",
        ")\n",
        "\n",
        "print(f\"F1 Score:  {results['f1']:.4f}\")\n",
        "print(f\"Precision: {results['precision']:.4f}\")\n",
        "print(f\"Recall:    {results['recall']:.4f}\")"
      ]
    },
    {
      "cell_type": "markdown",
      "source": [
        "## Analysis\n",
        "Our model, which was just trained on 6k out of 60k samples is performing exceedingly well.\n",
        "| Metric | Score | Notes |\n",
        "| :--- | :---: | ---: |\n",
        "| Precision | 0.9343 | This is the accuracy of positive predictions, or how we handle false positives. Or it doesnt label incorrectly often |\n",
        "| Recall | 0.9335 | This represents the completeness of our predictions. AKA we got 93% of the images matching a class (we rarely miss an image) |\n",
        "| F1 | 0.9335 | F1 is the harmonic mean (balance) of precision and recall. This means we maintain a strong balance between the first 2 metrics |\n",
        "\n",
        "\n",
        "### What the High Scores (0.93+) Signify*\n",
        "An averaged score of over $0.93$ indicates outstanding performance.\n",
        "\n",
        "\n",
        "1.   Since the scores are so high and close together, our model has learned very distinct features is generalizing extremely well to the unseen test data.\n",
        "2.   FP & FN are very low as one would expect in a high performing model.\n",
        "3.   The match between Precision and Recall suggests our model is well-balanced. It isn't overly aggressive (high FP) or overly cautious (high FN)."
      ],
      "metadata": {
        "id": "WTcWcMyReQdN"
      }
    },
    {
      "cell_type": "code",
      "source": [
        "accuracy = evaluate.load(\"accuracy\")\n",
        "accuracy.compute(predictions=all_predictions, references=all_references)"
      ],
      "metadata": {
        "id": "KWpSg3mZdA3O"
      },
      "execution_count": null,
      "outputs": []
    }
  ],
  "metadata": {
    "accelerator": "GPU",
    "colab": {
      "gpuType": "T4",
      "toc_visible": true,
      "provenance": [],
      "authorship_tag": "ABX9TyPlcLfzAGql9WTwqfdmbvsj",
      "include_colab_link": true
    },
    "kernelspec": {
      "display_name": "Python 3",
      "name": "python3"
    },
    "language_info": {
      "name": "python"
    },
    "widgets": {
      "application/vnd.jupyter.widget-state+json": {
        "103d761e4a864aabaa0b6dbf9c90ce56": {
          "model_module": "@jupyter-widgets/controls",
          "model_name": "HBoxModel",
          "model_module_version": "1.5.0",
          "state": {
            "_dom_classes": [],
            "_model_module": "@jupyter-widgets/controls",
            "_model_module_version": "1.5.0",
            "_model_name": "HBoxModel",
            "_view_count": null,
            "_view_module": "@jupyter-widgets/controls",
            "_view_module_version": "1.5.0",
            "_view_name": "HBoxView",
            "box_style": "",
            "children": [
              "IPY_MODEL_d5ffc06828d74fe2bf38e84bdb506fc4",
              "IPY_MODEL_9f65407c649f4bd4bb23d89c266bd3eb",
              "IPY_MODEL_90078aad6443474a8efdff141ac71b3a"
            ],
            "layout": "IPY_MODEL_97bfa0f38ad1478ea9d256002cd0d2f6"
          }
        },
        "d5ffc06828d74fe2bf38e84bdb506fc4": {
          "model_module": "@jupyter-widgets/controls",
          "model_name": "HTMLModel",
          "model_module_version": "1.5.0",
          "state": {
            "_dom_classes": [],
            "_model_module": "@jupyter-widgets/controls",
            "_model_module_version": "1.5.0",
            "_model_name": "HTMLModel",
            "_view_count": null,
            "_view_module": "@jupyter-widgets/controls",
            "_view_module_version": "1.5.0",
            "_view_name": "HTMLView",
            "description": "",
            "description_tooltip": null,
            "layout": "IPY_MODEL_3241e0427a964c55a66fa7a92307c10f",
            "placeholder": "​",
            "style": "IPY_MODEL_69d5de6740cc4009848e1b6d08d28ea6",
            "value": "Map: 100%"
          }
        },
        "9f65407c649f4bd4bb23d89c266bd3eb": {
          "model_module": "@jupyter-widgets/controls",
          "model_name": "FloatProgressModel",
          "model_module_version": "1.5.0",
          "state": {
            "_dom_classes": [],
            "_model_module": "@jupyter-widgets/controls",
            "_model_module_version": "1.5.0",
            "_model_name": "FloatProgressModel",
            "_view_count": null,
            "_view_module": "@jupyter-widgets/controls",
            "_view_module_version": "1.5.0",
            "_view_name": "ProgressView",
            "bar_style": "success",
            "description": "",
            "description_tooltip": null,
            "layout": "IPY_MODEL_d37d24c0dc15408ca3b246a036fcc5c8",
            "max": 6000,
            "min": 0,
            "orientation": "horizontal",
            "style": "IPY_MODEL_448959cd8bba42ca99e1cc757145a89f",
            "value": 6000
          }
        },
        "90078aad6443474a8efdff141ac71b3a": {
          "model_module": "@jupyter-widgets/controls",
          "model_name": "HTMLModel",
          "model_module_version": "1.5.0",
          "state": {
            "_dom_classes": [],
            "_model_module": "@jupyter-widgets/controls",
            "_model_module_version": "1.5.0",
            "_model_name": "HTMLModel",
            "_view_count": null,
            "_view_module": "@jupyter-widgets/controls",
            "_view_module_version": "1.5.0",
            "_view_name": "HTMLView",
            "description": "",
            "description_tooltip": null,
            "layout": "IPY_MODEL_3faa74f3dfd3438c82c6b4516965b030",
            "placeholder": "​",
            "style": "IPY_MODEL_bf216840de9b4a02bd98ec33f4587329",
            "value": " 6000/6000 [00:54&lt;00:00, 117.42 examples/s]"
          }
        },
        "97bfa0f38ad1478ea9d256002cd0d2f6": {
          "model_module": "@jupyter-widgets/base",
          "model_name": "LayoutModel",
          "model_module_version": "1.2.0",
          "state": {
            "_model_module": "@jupyter-widgets/base",
            "_model_module_version": "1.2.0",
            "_model_name": "LayoutModel",
            "_view_count": null,
            "_view_module": "@jupyter-widgets/base",
            "_view_module_version": "1.2.0",
            "_view_name": "LayoutView",
            "align_content": null,
            "align_items": null,
            "align_self": null,
            "border": null,
            "bottom": null,
            "display": null,
            "flex": null,
            "flex_flow": null,
            "grid_area": null,
            "grid_auto_columns": null,
            "grid_auto_flow": null,
            "grid_auto_rows": null,
            "grid_column": null,
            "grid_gap": null,
            "grid_row": null,
            "grid_template_areas": null,
            "grid_template_columns": null,
            "grid_template_rows": null,
            "height": null,
            "justify_content": null,
            "justify_items": null,
            "left": null,
            "margin": null,
            "max_height": null,
            "max_width": null,
            "min_height": null,
            "min_width": null,
            "object_fit": null,
            "object_position": null,
            "order": null,
            "overflow": null,
            "overflow_x": null,
            "overflow_y": null,
            "padding": null,
            "right": null,
            "top": null,
            "visibility": null,
            "width": null
          }
        },
        "3241e0427a964c55a66fa7a92307c10f": {
          "model_module": "@jupyter-widgets/base",
          "model_name": "LayoutModel",
          "model_module_version": "1.2.0",
          "state": {
            "_model_module": "@jupyter-widgets/base",
            "_model_module_version": "1.2.0",
            "_model_name": "LayoutModel",
            "_view_count": null,
            "_view_module": "@jupyter-widgets/base",
            "_view_module_version": "1.2.0",
            "_view_name": "LayoutView",
            "align_content": null,
            "align_items": null,
            "align_self": null,
            "border": null,
            "bottom": null,
            "display": null,
            "flex": null,
            "flex_flow": null,
            "grid_area": null,
            "grid_auto_columns": null,
            "grid_auto_flow": null,
            "grid_auto_rows": null,
            "grid_column": null,
            "grid_gap": null,
            "grid_row": null,
            "grid_template_areas": null,
            "grid_template_columns": null,
            "grid_template_rows": null,
            "height": null,
            "justify_content": null,
            "justify_items": null,
            "left": null,
            "margin": null,
            "max_height": null,
            "max_width": null,
            "min_height": null,
            "min_width": null,
            "object_fit": null,
            "object_position": null,
            "order": null,
            "overflow": null,
            "overflow_x": null,
            "overflow_y": null,
            "padding": null,
            "right": null,
            "top": null,
            "visibility": null,
            "width": null
          }
        },
        "69d5de6740cc4009848e1b6d08d28ea6": {
          "model_module": "@jupyter-widgets/controls",
          "model_name": "DescriptionStyleModel",
          "model_module_version": "1.5.0",
          "state": {
            "_model_module": "@jupyter-widgets/controls",
            "_model_module_version": "1.5.0",
            "_model_name": "DescriptionStyleModel",
            "_view_count": null,
            "_view_module": "@jupyter-widgets/base",
            "_view_module_version": "1.2.0",
            "_view_name": "StyleView",
            "description_width": ""
          }
        },
        "d37d24c0dc15408ca3b246a036fcc5c8": {
          "model_module": "@jupyter-widgets/base",
          "model_name": "LayoutModel",
          "model_module_version": "1.2.0",
          "state": {
            "_model_module": "@jupyter-widgets/base",
            "_model_module_version": "1.2.0",
            "_model_name": "LayoutModel",
            "_view_count": null,
            "_view_module": "@jupyter-widgets/base",
            "_view_module_version": "1.2.0",
            "_view_name": "LayoutView",
            "align_content": null,
            "align_items": null,
            "align_self": null,
            "border": null,
            "bottom": null,
            "display": null,
            "flex": null,
            "flex_flow": null,
            "grid_area": null,
            "grid_auto_columns": null,
            "grid_auto_flow": null,
            "grid_auto_rows": null,
            "grid_column": null,
            "grid_gap": null,
            "grid_row": null,
            "grid_template_areas": null,
            "grid_template_columns": null,
            "grid_template_rows": null,
            "height": null,
            "justify_content": null,
            "justify_items": null,
            "left": null,
            "margin": null,
            "max_height": null,
            "max_width": null,
            "min_height": null,
            "min_width": null,
            "object_fit": null,
            "object_position": null,
            "order": null,
            "overflow": null,
            "overflow_x": null,
            "overflow_y": null,
            "padding": null,
            "right": null,
            "top": null,
            "visibility": null,
            "width": null
          }
        },
        "448959cd8bba42ca99e1cc757145a89f": {
          "model_module": "@jupyter-widgets/controls",
          "model_name": "ProgressStyleModel",
          "model_module_version": "1.5.0",
          "state": {
            "_model_module": "@jupyter-widgets/controls",
            "_model_module_version": "1.5.0",
            "_model_name": "ProgressStyleModel",
            "_view_count": null,
            "_view_module": "@jupyter-widgets/base",
            "_view_module_version": "1.2.0",
            "_view_name": "StyleView",
            "bar_color": null,
            "description_width": ""
          }
        },
        "3faa74f3dfd3438c82c6b4516965b030": {
          "model_module": "@jupyter-widgets/base",
          "model_name": "LayoutModel",
          "model_module_version": "1.2.0",
          "state": {
            "_model_module": "@jupyter-widgets/base",
            "_model_module_version": "1.2.0",
            "_model_name": "LayoutModel",
            "_view_count": null,
            "_view_module": "@jupyter-widgets/base",
            "_view_module_version": "1.2.0",
            "_view_name": "LayoutView",
            "align_content": null,
            "align_items": null,
            "align_self": null,
            "border": null,
            "bottom": null,
            "display": null,
            "flex": null,
            "flex_flow": null,
            "grid_area": null,
            "grid_auto_columns": null,
            "grid_auto_flow": null,
            "grid_auto_rows": null,
            "grid_column": null,
            "grid_gap": null,
            "grid_row": null,
            "grid_template_areas": null,
            "grid_template_columns": null,
            "grid_template_rows": null,
            "height": null,
            "justify_content": null,
            "justify_items": null,
            "left": null,
            "margin": null,
            "max_height": null,
            "max_width": null,
            "min_height": null,
            "min_width": null,
            "object_fit": null,
            "object_position": null,
            "order": null,
            "overflow": null,
            "overflow_x": null,
            "overflow_y": null,
            "padding": null,
            "right": null,
            "top": null,
            "visibility": null,
            "width": null
          }
        },
        "bf216840de9b4a02bd98ec33f4587329": {
          "model_module": "@jupyter-widgets/controls",
          "model_name": "DescriptionStyleModel",
          "model_module_version": "1.5.0",
          "state": {
            "_model_module": "@jupyter-widgets/controls",
            "_model_module_version": "1.5.0",
            "_model_name": "DescriptionStyleModel",
            "_view_count": null,
            "_view_module": "@jupyter-widgets/base",
            "_view_module_version": "1.2.0",
            "_view_name": "StyleView",
            "description_width": ""
          }
        },
        "b4172b817241415f9f37c17452d7b8ea": {
          "model_module": "@jupyter-widgets/controls",
          "model_name": "HBoxModel",
          "model_module_version": "1.5.0",
          "state": {
            "_dom_classes": [],
            "_model_module": "@jupyter-widgets/controls",
            "_model_module_version": "1.5.0",
            "_model_name": "HBoxModel",
            "_view_count": null,
            "_view_module": "@jupyter-widgets/controls",
            "_view_module_version": "1.5.0",
            "_view_name": "HBoxView",
            "box_style": "",
            "children": [
              "IPY_MODEL_534fff1e9e2b4b1e938b74e67f005406",
              "IPY_MODEL_daeedf4519924df3a50f31128779b495",
              "IPY_MODEL_089dd14769504dddb5f37b06db9407be"
            ],
            "layout": "IPY_MODEL_c16af4c709744cbdaa5934f5cbf98d51"
          }
        },
        "534fff1e9e2b4b1e938b74e67f005406": {
          "model_module": "@jupyter-widgets/controls",
          "model_name": "HTMLModel",
          "model_module_version": "1.5.0",
          "state": {
            "_dom_classes": [],
            "_model_module": "@jupyter-widgets/controls",
            "_model_module_version": "1.5.0",
            "_model_name": "HTMLModel",
            "_view_count": null,
            "_view_module": "@jupyter-widgets/controls",
            "_view_module_version": "1.5.0",
            "_view_name": "HTMLView",
            "description": "",
            "description_tooltip": null,
            "layout": "IPY_MODEL_973aebcd8bab4f43910f84271d612561",
            "placeholder": "​",
            "style": "IPY_MODEL_e24fbade096045d3b70e3f039ea3befd",
            "value": "Map: 100%"
          }
        },
        "daeedf4519924df3a50f31128779b495": {
          "model_module": "@jupyter-widgets/controls",
          "model_name": "FloatProgressModel",
          "model_module_version": "1.5.0",
          "state": {
            "_dom_classes": [],
            "_model_module": "@jupyter-widgets/controls",
            "_model_module_version": "1.5.0",
            "_model_name": "FloatProgressModel",
            "_view_count": null,
            "_view_module": "@jupyter-widgets/controls",
            "_view_module_version": "1.5.0",
            "_view_name": "ProgressView",
            "bar_style": "success",
            "description": "",
            "description_tooltip": null,
            "layout": "IPY_MODEL_83e79288c63c43ca8131a473d7fff1bd",
            "max": 1000,
            "min": 0,
            "orientation": "horizontal",
            "style": "IPY_MODEL_dc5e9c3ee940492fa2e3844fdc69c79c",
            "value": 1000
          }
        },
        "089dd14769504dddb5f37b06db9407be": {
          "model_module": "@jupyter-widgets/controls",
          "model_name": "HTMLModel",
          "model_module_version": "1.5.0",
          "state": {
            "_dom_classes": [],
            "_model_module": "@jupyter-widgets/controls",
            "_model_module_version": "1.5.0",
            "_model_name": "HTMLModel",
            "_view_count": null,
            "_view_module": "@jupyter-widgets/controls",
            "_view_module_version": "1.5.0",
            "_view_name": "HTMLView",
            "description": "",
            "description_tooltip": null,
            "layout": "IPY_MODEL_4522d1f2382e48f7a53ce0f6d7b06370",
            "placeholder": "​",
            "style": "IPY_MODEL_fbc71dc3df504fef8aba5f3d9232334d",
            "value": " 1000/1000 [00:08&lt;00:00, 125.99 examples/s]"
          }
        },
        "c16af4c709744cbdaa5934f5cbf98d51": {
          "model_module": "@jupyter-widgets/base",
          "model_name": "LayoutModel",
          "model_module_version": "1.2.0",
          "state": {
            "_model_module": "@jupyter-widgets/base",
            "_model_module_version": "1.2.0",
            "_model_name": "LayoutModel",
            "_view_count": null,
            "_view_module": "@jupyter-widgets/base",
            "_view_module_version": "1.2.0",
            "_view_name": "LayoutView",
            "align_content": null,
            "align_items": null,
            "align_self": null,
            "border": null,
            "bottom": null,
            "display": null,
            "flex": null,
            "flex_flow": null,
            "grid_area": null,
            "grid_auto_columns": null,
            "grid_auto_flow": null,
            "grid_auto_rows": null,
            "grid_column": null,
            "grid_gap": null,
            "grid_row": null,
            "grid_template_areas": null,
            "grid_template_columns": null,
            "grid_template_rows": null,
            "height": null,
            "justify_content": null,
            "justify_items": null,
            "left": null,
            "margin": null,
            "max_height": null,
            "max_width": null,
            "min_height": null,
            "min_width": null,
            "object_fit": null,
            "object_position": null,
            "order": null,
            "overflow": null,
            "overflow_x": null,
            "overflow_y": null,
            "padding": null,
            "right": null,
            "top": null,
            "visibility": null,
            "width": null
          }
        },
        "973aebcd8bab4f43910f84271d612561": {
          "model_module": "@jupyter-widgets/base",
          "model_name": "LayoutModel",
          "model_module_version": "1.2.0",
          "state": {
            "_model_module": "@jupyter-widgets/base",
            "_model_module_version": "1.2.0",
            "_model_name": "LayoutModel",
            "_view_count": null,
            "_view_module": "@jupyter-widgets/base",
            "_view_module_version": "1.2.0",
            "_view_name": "LayoutView",
            "align_content": null,
            "align_items": null,
            "align_self": null,
            "border": null,
            "bottom": null,
            "display": null,
            "flex": null,
            "flex_flow": null,
            "grid_area": null,
            "grid_auto_columns": null,
            "grid_auto_flow": null,
            "grid_auto_rows": null,
            "grid_column": null,
            "grid_gap": null,
            "grid_row": null,
            "grid_template_areas": null,
            "grid_template_columns": null,
            "grid_template_rows": null,
            "height": null,
            "justify_content": null,
            "justify_items": null,
            "left": null,
            "margin": null,
            "max_height": null,
            "max_width": null,
            "min_height": null,
            "min_width": null,
            "object_fit": null,
            "object_position": null,
            "order": null,
            "overflow": null,
            "overflow_x": null,
            "overflow_y": null,
            "padding": null,
            "right": null,
            "top": null,
            "visibility": null,
            "width": null
          }
        },
        "e24fbade096045d3b70e3f039ea3befd": {
          "model_module": "@jupyter-widgets/controls",
          "model_name": "DescriptionStyleModel",
          "model_module_version": "1.5.0",
          "state": {
            "_model_module": "@jupyter-widgets/controls",
            "_model_module_version": "1.5.0",
            "_model_name": "DescriptionStyleModel",
            "_view_count": null,
            "_view_module": "@jupyter-widgets/base",
            "_view_module_version": "1.2.0",
            "_view_name": "StyleView",
            "description_width": ""
          }
        },
        "83e79288c63c43ca8131a473d7fff1bd": {
          "model_module": "@jupyter-widgets/base",
          "model_name": "LayoutModel",
          "model_module_version": "1.2.0",
          "state": {
            "_model_module": "@jupyter-widgets/base",
            "_model_module_version": "1.2.0",
            "_model_name": "LayoutModel",
            "_view_count": null,
            "_view_module": "@jupyter-widgets/base",
            "_view_module_version": "1.2.0",
            "_view_name": "LayoutView",
            "align_content": null,
            "align_items": null,
            "align_self": null,
            "border": null,
            "bottom": null,
            "display": null,
            "flex": null,
            "flex_flow": null,
            "grid_area": null,
            "grid_auto_columns": null,
            "grid_auto_flow": null,
            "grid_auto_rows": null,
            "grid_column": null,
            "grid_gap": null,
            "grid_row": null,
            "grid_template_areas": null,
            "grid_template_columns": null,
            "grid_template_rows": null,
            "height": null,
            "justify_content": null,
            "justify_items": null,
            "left": null,
            "margin": null,
            "max_height": null,
            "max_width": null,
            "min_height": null,
            "min_width": null,
            "object_fit": null,
            "object_position": null,
            "order": null,
            "overflow": null,
            "overflow_x": null,
            "overflow_y": null,
            "padding": null,
            "right": null,
            "top": null,
            "visibility": null,
            "width": null
          }
        },
        "dc5e9c3ee940492fa2e3844fdc69c79c": {
          "model_module": "@jupyter-widgets/controls",
          "model_name": "ProgressStyleModel",
          "model_module_version": "1.5.0",
          "state": {
            "_model_module": "@jupyter-widgets/controls",
            "_model_module_version": "1.5.0",
            "_model_name": "ProgressStyleModel",
            "_view_count": null,
            "_view_module": "@jupyter-widgets/base",
            "_view_module_version": "1.2.0",
            "_view_name": "StyleView",
            "bar_color": null,
            "description_width": ""
          }
        },
        "4522d1f2382e48f7a53ce0f6d7b06370": {
          "model_module": "@jupyter-widgets/base",
          "model_name": "LayoutModel",
          "model_module_version": "1.2.0",
          "state": {
            "_model_module": "@jupyter-widgets/base",
            "_model_module_version": "1.2.0",
            "_model_name": "LayoutModel",
            "_view_count": null,
            "_view_module": "@jupyter-widgets/base",
            "_view_module_version": "1.2.0",
            "_view_name": "LayoutView",
            "align_content": null,
            "align_items": null,
            "align_self": null,
            "border": null,
            "bottom": null,
            "display": null,
            "flex": null,
            "flex_flow": null,
            "grid_area": null,
            "grid_auto_columns": null,
            "grid_auto_flow": null,
            "grid_auto_rows": null,
            "grid_column": null,
            "grid_gap": null,
            "grid_row": null,
            "grid_template_areas": null,
            "grid_template_columns": null,
            "grid_template_rows": null,
            "height": null,
            "justify_content": null,
            "justify_items": null,
            "left": null,
            "margin": null,
            "max_height": null,
            "max_width": null,
            "min_height": null,
            "min_width": null,
            "object_fit": null,
            "object_position": null,
            "order": null,
            "overflow": null,
            "overflow_x": null,
            "overflow_y": null,
            "padding": null,
            "right": null,
            "top": null,
            "visibility": null,
            "width": null
          }
        },
        "fbc71dc3df504fef8aba5f3d9232334d": {
          "model_module": "@jupyter-widgets/controls",
          "model_name": "DescriptionStyleModel",
          "model_module_version": "1.5.0",
          "state": {
            "_model_module": "@jupyter-widgets/controls",
            "_model_module_version": "1.5.0",
            "_model_name": "DescriptionStyleModel",
            "_view_count": null,
            "_view_module": "@jupyter-widgets/base",
            "_view_module_version": "1.2.0",
            "_view_name": "StyleView",
            "description_width": ""
          }
        },
        "f6f0e7f91b7d405a9efd95e21dd522bd": {
          "model_module": "@jupyter-widgets/controls",
          "model_name": "HBoxModel",
          "model_module_version": "1.5.0",
          "state": {
            "_dom_classes": [],
            "_model_module": "@jupyter-widgets/controls",
            "_model_module_version": "1.5.0",
            "_model_name": "HBoxModel",
            "_view_count": null,
            "_view_module": "@jupyter-widgets/controls",
            "_view_module_version": "1.5.0",
            "_view_name": "HBoxView",
            "box_style": "",
            "children": [
              "IPY_MODEL_73d60098c81f48658b2cd046ca8b9b41",
              "IPY_MODEL_08330cb3b6ef43688350cf7be5ebc6f6",
              "IPY_MODEL_d266b77e827a48279296eb828f45e132"
            ],
            "layout": "IPY_MODEL_b1586bab6bce4342929641a9f6bf4bdf"
          }
        },
        "73d60098c81f48658b2cd046ca8b9b41": {
          "model_module": "@jupyter-widgets/controls",
          "model_name": "HTMLModel",
          "model_module_version": "1.5.0",
          "state": {
            "_dom_classes": [],
            "_model_module": "@jupyter-widgets/controls",
            "_model_module_version": "1.5.0",
            "_model_name": "HTMLModel",
            "_view_count": null,
            "_view_module": "@jupyter-widgets/controls",
            "_view_module_version": "1.5.0",
            "_view_name": "HTMLView",
            "description": "",
            "description_tooltip": null,
            "layout": "IPY_MODEL_78ab79d9f6f74f77ab0a5e48ba783e8e",
            "placeholder": "​",
            "style": "IPY_MODEL_a1ae342839b041e59b52ac299bc0b4f9",
            "value": " 20%"
          }
        },
        "08330cb3b6ef43688350cf7be5ebc6f6": {
          "model_module": "@jupyter-widgets/controls",
          "model_name": "FloatProgressModel",
          "model_module_version": "1.5.0",
          "state": {
            "_dom_classes": [],
            "_model_module": "@jupyter-widgets/controls",
            "_model_module_version": "1.5.0",
            "_model_name": "FloatProgressModel",
            "_view_count": null,
            "_view_module": "@jupyter-widgets/controls",
            "_view_module_version": "1.5.0",
            "_view_name": "ProgressView",
            "bar_style": "",
            "description": "",
            "description_tooltip": null,
            "layout": "IPY_MODEL_3f7ed59a8a984eb7b0e5bb92dada4cfa",
            "max": 1125,
            "min": 0,
            "orientation": "horizontal",
            "style": "IPY_MODEL_ae9d077ab2674b01be14e4746ae3bd2c",
            "value": 223
          }
        },
        "d266b77e827a48279296eb828f45e132": {
          "model_module": "@jupyter-widgets/controls",
          "model_name": "HTMLModel",
          "model_module_version": "1.5.0",
          "state": {
            "_dom_classes": [],
            "_model_module": "@jupyter-widgets/controls",
            "_model_module_version": "1.5.0",
            "_model_name": "HTMLModel",
            "_view_count": null,
            "_view_module": "@jupyter-widgets/controls",
            "_view_module_version": "1.5.0",
            "_view_name": "HTMLView",
            "description": "",
            "description_tooltip": null,
            "layout": "IPY_MODEL_19568fb0e2ef40868b9d5a27b5e01fb2",
            "placeholder": "​",
            "style": "IPY_MODEL_d2dddb480f484121913f1e9585953441",
            "value": " 223/1125 [01:59&lt;07:39,  1.96it/s]"
          }
        },
        "b1586bab6bce4342929641a9f6bf4bdf": {
          "model_module": "@jupyter-widgets/base",
          "model_name": "LayoutModel",
          "model_module_version": "1.2.0",
          "state": {
            "_model_module": "@jupyter-widgets/base",
            "_model_module_version": "1.2.0",
            "_model_name": "LayoutModel",
            "_view_count": null,
            "_view_module": "@jupyter-widgets/base",
            "_view_module_version": "1.2.0",
            "_view_name": "LayoutView",
            "align_content": null,
            "align_items": null,
            "align_self": null,
            "border": null,
            "bottom": null,
            "display": null,
            "flex": null,
            "flex_flow": null,
            "grid_area": null,
            "grid_auto_columns": null,
            "grid_auto_flow": null,
            "grid_auto_rows": null,
            "grid_column": null,
            "grid_gap": null,
            "grid_row": null,
            "grid_template_areas": null,
            "grid_template_columns": null,
            "grid_template_rows": null,
            "height": null,
            "justify_content": null,
            "justify_items": null,
            "left": null,
            "margin": null,
            "max_height": null,
            "max_width": null,
            "min_height": null,
            "min_width": null,
            "object_fit": null,
            "object_position": null,
            "order": null,
            "overflow": null,
            "overflow_x": null,
            "overflow_y": null,
            "padding": null,
            "right": null,
            "top": null,
            "visibility": null,
            "width": null
          }
        },
        "78ab79d9f6f74f77ab0a5e48ba783e8e": {
          "model_module": "@jupyter-widgets/base",
          "model_name": "LayoutModel",
          "model_module_version": "1.2.0",
          "state": {
            "_model_module": "@jupyter-widgets/base",
            "_model_module_version": "1.2.0",
            "_model_name": "LayoutModel",
            "_view_count": null,
            "_view_module": "@jupyter-widgets/base",
            "_view_module_version": "1.2.0",
            "_view_name": "LayoutView",
            "align_content": null,
            "align_items": null,
            "align_self": null,
            "border": null,
            "bottom": null,
            "display": null,
            "flex": null,
            "flex_flow": null,
            "grid_area": null,
            "grid_auto_columns": null,
            "grid_auto_flow": null,
            "grid_auto_rows": null,
            "grid_column": null,
            "grid_gap": null,
            "grid_row": null,
            "grid_template_areas": null,
            "grid_template_columns": null,
            "grid_template_rows": null,
            "height": null,
            "justify_content": null,
            "justify_items": null,
            "left": null,
            "margin": null,
            "max_height": null,
            "max_width": null,
            "min_height": null,
            "min_width": null,
            "object_fit": null,
            "object_position": null,
            "order": null,
            "overflow": null,
            "overflow_x": null,
            "overflow_y": null,
            "padding": null,
            "right": null,
            "top": null,
            "visibility": null,
            "width": null
          }
        },
        "a1ae342839b041e59b52ac299bc0b4f9": {
          "model_module": "@jupyter-widgets/controls",
          "model_name": "DescriptionStyleModel",
          "model_module_version": "1.5.0",
          "state": {
            "_model_module": "@jupyter-widgets/controls",
            "_model_module_version": "1.5.0",
            "_model_name": "DescriptionStyleModel",
            "_view_count": null,
            "_view_module": "@jupyter-widgets/base",
            "_view_module_version": "1.2.0",
            "_view_name": "StyleView",
            "description_width": ""
          }
        },
        "3f7ed59a8a984eb7b0e5bb92dada4cfa": {
          "model_module": "@jupyter-widgets/base",
          "model_name": "LayoutModel",
          "model_module_version": "1.2.0",
          "state": {
            "_model_module": "@jupyter-widgets/base",
            "_model_module_version": "1.2.0",
            "_model_name": "LayoutModel",
            "_view_count": null,
            "_view_module": "@jupyter-widgets/base",
            "_view_module_version": "1.2.0",
            "_view_name": "LayoutView",
            "align_content": null,
            "align_items": null,
            "align_self": null,
            "border": null,
            "bottom": null,
            "display": null,
            "flex": null,
            "flex_flow": null,
            "grid_area": null,
            "grid_auto_columns": null,
            "grid_auto_flow": null,
            "grid_auto_rows": null,
            "grid_column": null,
            "grid_gap": null,
            "grid_row": null,
            "grid_template_areas": null,
            "grid_template_columns": null,
            "grid_template_rows": null,
            "height": null,
            "justify_content": null,
            "justify_items": null,
            "left": null,
            "margin": null,
            "max_height": null,
            "max_width": null,
            "min_height": null,
            "min_width": null,
            "object_fit": null,
            "object_position": null,
            "order": null,
            "overflow": null,
            "overflow_x": null,
            "overflow_y": null,
            "padding": null,
            "right": null,
            "top": null,
            "visibility": null,
            "width": null
          }
        },
        "ae9d077ab2674b01be14e4746ae3bd2c": {
          "model_module": "@jupyter-widgets/controls",
          "model_name": "ProgressStyleModel",
          "model_module_version": "1.5.0",
          "state": {
            "_model_module": "@jupyter-widgets/controls",
            "_model_module_version": "1.5.0",
            "_model_name": "ProgressStyleModel",
            "_view_count": null,
            "_view_module": "@jupyter-widgets/base",
            "_view_module_version": "1.2.0",
            "_view_name": "StyleView",
            "bar_color": null,
            "description_width": ""
          }
        },
        "19568fb0e2ef40868b9d5a27b5e01fb2": {
          "model_module": "@jupyter-widgets/base",
          "model_name": "LayoutModel",
          "model_module_version": "1.2.0",
          "state": {
            "_model_module": "@jupyter-widgets/base",
            "_model_module_version": "1.2.0",
            "_model_name": "LayoutModel",
            "_view_count": null,
            "_view_module": "@jupyter-widgets/base",
            "_view_module_version": "1.2.0",
            "_view_name": "LayoutView",
            "align_content": null,
            "align_items": null,
            "align_self": null,
            "border": null,
            "bottom": null,
            "display": null,
            "flex": null,
            "flex_flow": null,
            "grid_area": null,
            "grid_auto_columns": null,
            "grid_auto_flow": null,
            "grid_auto_rows": null,
            "grid_column": null,
            "grid_gap": null,
            "grid_row": null,
            "grid_template_areas": null,
            "grid_template_columns": null,
            "grid_template_rows": null,
            "height": null,
            "justify_content": null,
            "justify_items": null,
            "left": null,
            "margin": null,
            "max_height": null,
            "max_width": null,
            "min_height": null,
            "min_width": null,
            "object_fit": null,
            "object_position": null,
            "order": null,
            "overflow": null,
            "overflow_x": null,
            "overflow_y": null,
            "padding": null,
            "right": null,
            "top": null,
            "visibility": null,
            "width": null
          }
        },
        "d2dddb480f484121913f1e9585953441": {
          "model_module": "@jupyter-widgets/controls",
          "model_name": "DescriptionStyleModel",
          "model_module_version": "1.5.0",
          "state": {
            "_model_module": "@jupyter-widgets/controls",
            "_model_module_version": "1.5.0",
            "_model_name": "DescriptionStyleModel",
            "_view_count": null,
            "_view_module": "@jupyter-widgets/base",
            "_view_module_version": "1.2.0",
            "_view_name": "StyleView",
            "description_width": ""
          }
        }
      }
    }
  },
  "nbformat": 4,
  "nbformat_minor": 0
}